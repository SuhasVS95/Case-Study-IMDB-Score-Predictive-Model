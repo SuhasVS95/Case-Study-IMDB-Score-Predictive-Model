{
 "cells": [
  {
   "cell_type": "markdown",
   "metadata": {},
   "source": [
    "<table>\n",
    "    <tr>\n",
    "        <td width=\"20%\">\n",
    "            <img src=\"down.png\">\n",
    "        </td>\n",
    "        <td>\n",
    "            <div align =\"center\">\n",
    "                <font color=\"#21618C\" size=8px>\n",
    "                    <b> Machine Learning project <br> on IMDB Score Prediction <br></b>\n",
    "                </font>\n",
    "            </div>\n",
    "        </td>\n",
    "    <tr>\n",
    "<table>"
   ]
  },
  {
   "cell_type": "markdown",
   "metadata": {},
   "source": [
    "# Problem Statement"
   ]
  },
  {
   "cell_type": "markdown",
   "metadata": {},
   "source": [
    "**What makes movies good or bad? Is it its IMDb score? How does it get that score? Is it our emotional response towards them? Is it the critical reviews or the scores? Is it the amount they gross at the box office? What is it really that describes their success or failure? This project is an analysis done on various factors that might affect the imdb score of a movie and trying to predict the score based on those values.**\n"
   ]
  },
  {
   "cell_type": "markdown",
   "metadata": {},
   "source": [
    "# Understanding the data \n",
    "**Color** :- Movie is black or coloured <br>\n",
    "**num_critic_for_reviews** :- No of critics for the movie<br>\n",
    "**duration**:- movie duration in minutes<br>\n",
    "**gross**:- Gross earnings of the movie in Dollars<br>\n",
    "**genres**:- Film categorization like ‘Animation’, ‘Comedy’, ‘Romance’, ‘Horror’, ‘Sci-Fi’, ‘Action’, ‘Family’<br>\n",
    "**movie_title**:-Title of the movie<br>\n",
    "**num_voted_users**:-No of people who voted for the movie<br>\n",
    "**movie_imdb_link**:-Link of the movie link<br>\n",
    "**num_user_for_reviews**:- Number of users who gave a review<br>\n",
    "**language**:- Language of the movie<br>\n",
    "**country**:- Country where movie is produced<br>\n",
    "**content_rating**:- Content rating of the movie<br>\n",
    "**budget**:- Budget of the movie in Dollars<br>\n",
    "**title_year**:- The year in which the movie is released<br>\n",
    "**aspect_ratio** :- Aspect ratio the movie was made in<br>\n",
    "**imdb_score**:- IMDB score of the movie (Target)<br>"
   ]
  },
  {
   "cell_type": "code",
   "execution_count": 1,
   "metadata": {},
   "outputs": [],
   "source": [
    "# supress warnings \n",
    "from warnings import filterwarnings\n",
    "filterwarnings('ignore')\n",
    "\n",
    "# 'Os' module provides functions for interacting with the operating system \n",
    "import os\n",
    "\n",
    "# 'Pandas' is used for data manipulation and analysis\n",
    "import pandas as pd \n",
    "\n",
    "# 'Numpy' is used for mathematical operations on large, multi-dimensional arrays and matrices\n",
    "import numpy as np\n",
    "\n",
    "# 'Matplotlib' is a data visualization library for 2D and 3D plots, built on numpy\n",
    "import matplotlib.pyplot as plt\n",
    "%matplotlib inline\n",
    "\n",
    "# 'Seaborn' is based on matplotlib; used for plotting statistical graphics\n",
    "import seaborn as sns\n",
    "\n",
    "# 'Scikit-learn' (sklearn) emphasizes various regression, classification and clustering algorithms\n",
    "from sklearn.model_selection import train_test_split\n",
    "from sklearn.metrics import mean_squared_error, mean_absolute_error, r2_score\n",
    "\n",
    "# 'Statsmodels' is used to build and analyze various statistical models\n",
    "import statsmodels\n",
    "import statsmodels.api as sm\n",
    "import statsmodels.stats.api as sms\n",
    "from statsmodels.tools.eval_measures import rmse\n",
    "from statsmodels.compat import lzip\n",
    "from statsmodels.graphics.gofplots import ProbPlot, qqplot\n",
    "\n",
    "# 'SciPy' is used to perform scientific computations\n",
    "from scipy.stats import f_oneway\n",
    "from scipy.stats import jarque_bera\n",
    "from scipy import stats\n",
    "\n",
    "plt.rcParams['figure.figsize'] = [15,8]\n",
    "\n",
    "from sklearn.linear_model import LinearRegression\n",
    "\n",
    "from sklearn.preprocessing import StandardScaler \n",
    "from sklearn.preprocessing import MinMaxScaler\n",
    "from sklearn.linear_model import SGDRegressor\n",
    "\n",
    "from sklearn.linear_model import Ridge\n",
    "from sklearn.linear_model import Lasso\n",
    "from sklearn.linear_model import ElasticNet\n",
    "from sklearn.model_selection import GridSearchCV\n",
    "\n",
    "from sklearn.model_selection import LeaveOneOut\n",
    "from sklearn.model_selection import cross_val_score\n",
    "from sklearn.model_selection import KFold\n",
    "\n",
    "from mlxtend.feature_selection import SequentialFeatureSelector as sfs\n",
    "from sklearn.feature_selection import RFE"
   ]
  },
  {
   "cell_type": "markdown",
   "metadata": {},
   "source": [
    "# Data Preprocessing"
   ]
  },
  {
   "cell_type": "code",
   "execution_count": 2,
   "metadata": {},
   "outputs": [
    {
     "data": {
      "text/html": [
       "<div>\n",
       "<style scoped>\n",
       "    .dataframe tbody tr th:only-of-type {\n",
       "        vertical-align: middle;\n",
       "    }\n",
       "\n",
       "    .dataframe tbody tr th {\n",
       "        vertical-align: top;\n",
       "    }\n",
       "\n",
       "    .dataframe thead th {\n",
       "        text-align: right;\n",
       "    }\n",
       "</style>\n",
       "<table border=\"1\" class=\"dataframe\">\n",
       "  <thead>\n",
       "    <tr style=\"text-align: right;\">\n",
       "      <th></th>\n",
       "      <th>color</th>\n",
       "      <th>num_critic_for_reviews</th>\n",
       "      <th>duration</th>\n",
       "      <th>gross</th>\n",
       "      <th>genres</th>\n",
       "      <th>movie_title</th>\n",
       "      <th>num_voted_users</th>\n",
       "      <th>movie_imdb_link</th>\n",
       "      <th>num_user_for_reviews</th>\n",
       "      <th>language</th>\n",
       "      <th>country</th>\n",
       "      <th>content_rating</th>\n",
       "      <th>budget</th>\n",
       "      <th>title_year</th>\n",
       "      <th>aspect_ratio</th>\n",
       "      <th>imdb_score</th>\n",
       "    </tr>\n",
       "  </thead>\n",
       "  <tbody>\n",
       "    <tr>\n",
       "      <th>0</th>\n",
       "      <td>Color</td>\n",
       "      <td>723.0</td>\n",
       "      <td>178.0</td>\n",
       "      <td>760505847.0</td>\n",
       "      <td>Action|Adventure|Fantasy|Sci-Fi</td>\n",
       "      <td>Avatar</td>\n",
       "      <td>886204</td>\n",
       "      <td>http://www.imdb.com/title/tt0499549/?ref_=fn_t...</td>\n",
       "      <td>3054.0</td>\n",
       "      <td>English</td>\n",
       "      <td>USA</td>\n",
       "      <td>PG-13</td>\n",
       "      <td>237000000.0</td>\n",
       "      <td>2009.0</td>\n",
       "      <td>1.78</td>\n",
       "      <td>7.9</td>\n",
       "    </tr>\n",
       "    <tr>\n",
       "      <th>1</th>\n",
       "      <td>Color</td>\n",
       "      <td>302.0</td>\n",
       "      <td>169.0</td>\n",
       "      <td>309404152.0</td>\n",
       "      <td>Action|Adventure|Fantasy</td>\n",
       "      <td>Pirates of the Caribbean: At World's End</td>\n",
       "      <td>471220</td>\n",
       "      <td>http://www.imdb.com/title/tt0449088/?ref_=fn_t...</td>\n",
       "      <td>1238.0</td>\n",
       "      <td>English</td>\n",
       "      <td>USA</td>\n",
       "      <td>PG-13</td>\n",
       "      <td>300000000.0</td>\n",
       "      <td>2007.0</td>\n",
       "      <td>2.35</td>\n",
       "      <td>7.1</td>\n",
       "    </tr>\n",
       "    <tr>\n",
       "      <th>2</th>\n",
       "      <td>Color</td>\n",
       "      <td>602.0</td>\n",
       "      <td>148.0</td>\n",
       "      <td>200074175.0</td>\n",
       "      <td>Action|Adventure|Thriller</td>\n",
       "      <td>Spectre</td>\n",
       "      <td>275868</td>\n",
       "      <td>http://www.imdb.com/title/tt2379713/?ref_=fn_t...</td>\n",
       "      <td>994.0</td>\n",
       "      <td>English</td>\n",
       "      <td>UK</td>\n",
       "      <td>PG-13</td>\n",
       "      <td>245000000.0</td>\n",
       "      <td>2015.0</td>\n",
       "      <td>2.35</td>\n",
       "      <td>6.8</td>\n",
       "    </tr>\n",
       "    <tr>\n",
       "      <th>3</th>\n",
       "      <td>Color</td>\n",
       "      <td>813.0</td>\n",
       "      <td>164.0</td>\n",
       "      <td>448130642.0</td>\n",
       "      <td>Action|Thriller</td>\n",
       "      <td>The Dark Knight Rises</td>\n",
       "      <td>1144337</td>\n",
       "      <td>http://www.imdb.com/title/tt1345836/?ref_=fn_t...</td>\n",
       "      <td>2701.0</td>\n",
       "      <td>English</td>\n",
       "      <td>USA</td>\n",
       "      <td>PG-13</td>\n",
       "      <td>250000000.0</td>\n",
       "      <td>2012.0</td>\n",
       "      <td>2.35</td>\n",
       "      <td>8.5</td>\n",
       "    </tr>\n",
       "    <tr>\n",
       "      <th>4</th>\n",
       "      <td>NaN</td>\n",
       "      <td>NaN</td>\n",
       "      <td>NaN</td>\n",
       "      <td>NaN</td>\n",
       "      <td>Documentary</td>\n",
       "      <td>Star Wars: Episode VII - The Force Awakens    ...</td>\n",
       "      <td>8</td>\n",
       "      <td>http://www.imdb.com/title/tt5289954/?ref_=fn_t...</td>\n",
       "      <td>NaN</td>\n",
       "      <td>NaN</td>\n",
       "      <td>NaN</td>\n",
       "      <td>NaN</td>\n",
       "      <td>NaN</td>\n",
       "      <td>NaN</td>\n",
       "      <td>NaN</td>\n",
       "      <td>7.1</td>\n",
       "    </tr>\n",
       "  </tbody>\n",
       "</table>\n",
       "</div>"
      ],
      "text/plain": [
       "   color  num_critic_for_reviews  duration        gross  \\\n",
       "0  Color                   723.0     178.0  760505847.0   \n",
       "1  Color                   302.0     169.0  309404152.0   \n",
       "2  Color                   602.0     148.0  200074175.0   \n",
       "3  Color                   813.0     164.0  448130642.0   \n",
       "4    NaN                     NaN       NaN          NaN   \n",
       "\n",
       "                            genres  \\\n",
       "0  Action|Adventure|Fantasy|Sci-Fi   \n",
       "1         Action|Adventure|Fantasy   \n",
       "2        Action|Adventure|Thriller   \n",
       "3                  Action|Thriller   \n",
       "4                      Documentary   \n",
       "\n",
       "                                         movie_title  num_voted_users  \\\n",
       "0                                            Avatar            886204   \n",
       "1          Pirates of the Caribbean: At World's End            471220   \n",
       "2                                           Spectre            275868   \n",
       "3                             The Dark Knight Rises           1144337   \n",
       "4  Star Wars: Episode VII - The Force Awakens    ...                8   \n",
       "\n",
       "                                     movie_imdb_link  num_user_for_reviews  \\\n",
       "0  http://www.imdb.com/title/tt0499549/?ref_=fn_t...                3054.0   \n",
       "1  http://www.imdb.com/title/tt0449088/?ref_=fn_t...                1238.0   \n",
       "2  http://www.imdb.com/title/tt2379713/?ref_=fn_t...                 994.0   \n",
       "3  http://www.imdb.com/title/tt1345836/?ref_=fn_t...                2701.0   \n",
       "4  http://www.imdb.com/title/tt5289954/?ref_=fn_t...                   NaN   \n",
       "\n",
       "  language country content_rating       budget  title_year  aspect_ratio  \\\n",
       "0  English     USA          PG-13  237000000.0      2009.0          1.78   \n",
       "1  English     USA          PG-13  300000000.0      2007.0          2.35   \n",
       "2  English      UK          PG-13  245000000.0      2015.0          2.35   \n",
       "3  English     USA          PG-13  250000000.0      2012.0          2.35   \n",
       "4      NaN     NaN            NaN          NaN         NaN           NaN   \n",
       "\n",
       "   imdb_score  \n",
       "0         7.9  \n",
       "1         7.1  \n",
       "2         6.8  \n",
       "3         8.5  \n",
       "4         7.1  "
      ]
     },
     "execution_count": 2,
     "metadata": {},
     "output_type": "execute_result"
    }
   ],
   "source": [
    "import pandas as pd\n",
    "import numpy as np\n",
    "import matplotlib.pyplot as plt\n",
    "import seaborn as sns\n",
    "\n",
    "df_imdb=pd.read_csv('imdb_movies.csv')\n",
    "df_imdb.head()"
   ]
  },
  {
   "cell_type": "code",
   "execution_count": 3,
   "metadata": {},
   "outputs": [
    {
     "data": {
      "text/plain": [
       "(5043, 16)"
      ]
     },
     "execution_count": 3,
     "metadata": {},
     "output_type": "execute_result"
    }
   ],
   "source": [
    "df_imdb.shape"
   ]
  },
  {
   "cell_type": "markdown",
   "metadata": {},
   "source": [
    "**Interpretation:** There are total 5043 rows and 16 columns."
   ]
  },
  {
   "cell_type": "code",
   "execution_count": 4,
   "metadata": {},
   "outputs": [
    {
     "name": "stdout",
     "output_type": "stream",
     "text": [
      "<class 'pandas.core.frame.DataFrame'>\n",
      "RangeIndex: 5043 entries, 0 to 5042\n",
      "Data columns (total 16 columns):\n",
      " #   Column                  Non-Null Count  Dtype  \n",
      "---  ------                  --------------  -----  \n",
      " 0   color                   5024 non-null   object \n",
      " 1   num_critic_for_reviews  4993 non-null   float64\n",
      " 2   duration                5028 non-null   float64\n",
      " 3   gross                   4159 non-null   float64\n",
      " 4   genres                  5043 non-null   object \n",
      " 5   movie_title             5043 non-null   object \n",
      " 6   num_voted_users         5043 non-null   int64  \n",
      " 7   movie_imdb_link         5043 non-null   object \n",
      " 8   num_user_for_reviews    5022 non-null   float64\n",
      " 9   language                5031 non-null   object \n",
      " 10  country                 5038 non-null   object \n",
      " 11  content_rating          4740 non-null   object \n",
      " 12  budget                  4551 non-null   float64\n",
      " 13  title_year              4935 non-null   float64\n",
      " 14  aspect_ratio            4714 non-null   float64\n",
      " 15  imdb_score              5043 non-null   float64\n",
      "dtypes: float64(8), int64(1), object(7)\n",
      "memory usage: 630.5+ KB\n"
     ]
    }
   ],
   "source": [
    "df_imdb.info()"
   ]
  },
  {
   "cell_type": "markdown",
   "metadata": {},
   "source": [
    "**Interpretation:** As we can see title_year is incorrectly interpreted as numerical column which is actually categorical in nature so we have to change the data type of title_year to object."
   ]
  },
  {
   "cell_type": "code",
   "execution_count": 5,
   "metadata": {},
   "outputs": [],
   "source": [
    "df_imdb['title_year']=df_imdb['title_year'].astype('object')"
   ]
  },
  {
   "cell_type": "code",
   "execution_count": 6,
   "metadata": {},
   "outputs": [
    {
     "name": "stdout",
     "output_type": "stream",
     "text": [
      "<class 'pandas.core.frame.DataFrame'>\n",
      "RangeIndex: 5043 entries, 0 to 5042\n",
      "Data columns (total 16 columns):\n",
      " #   Column                  Non-Null Count  Dtype  \n",
      "---  ------                  --------------  -----  \n",
      " 0   color                   5024 non-null   object \n",
      " 1   num_critic_for_reviews  4993 non-null   float64\n",
      " 2   duration                5028 non-null   float64\n",
      " 3   gross                   4159 non-null   float64\n",
      " 4   genres                  5043 non-null   object \n",
      " 5   movie_title             5043 non-null   object \n",
      " 6   num_voted_users         5043 non-null   int64  \n",
      " 7   movie_imdb_link         5043 non-null   object \n",
      " 8   num_user_for_reviews    5022 non-null   float64\n",
      " 9   language                5031 non-null   object \n",
      " 10  country                 5038 non-null   object \n",
      " 11  content_rating          4740 non-null   object \n",
      " 12  budget                  4551 non-null   float64\n",
      " 13  title_year              4935 non-null   object \n",
      " 14  aspect_ratio            4714 non-null   float64\n",
      " 15  imdb_score              5043 non-null   float64\n",
      "dtypes: float64(7), int64(1), object(8)\n",
      "memory usage: 630.5+ KB\n"
     ]
    }
   ],
   "source": [
    "# now we again check the data type\n",
    "df_imdb.info()"
   ]
  },
  {
   "cell_type": "code",
   "execution_count": 98,
   "metadata": {},
   "outputs": [
    {
     "data": {
      "text/plain": [
       "0       Action|Adventure|Fantasy|Sci-Fi\n",
       "1              Action|Adventure|Fantasy\n",
       "2             Action|Adventure|Thriller\n",
       "3                       Action|Thriller\n",
       "4                           Documentary\n",
       "                     ...               \n",
       "5038                       Comedy|Drama\n",
       "5039       Crime|Drama|Mystery|Thriller\n",
       "5040              Drama|Horror|Thriller\n",
       "5041               Comedy|Drama|Romance\n",
       "5042                        Documentary\n",
       "Name: genres, Length: 4996, dtype: object"
      ]
     },
     "execution_count": 98,
     "metadata": {},
     "output_type": "execute_result"
    }
   ],
   "source": [
    "df_imdb['genres']"
   ]
  },
  {
   "cell_type": "code",
   "execution_count": 7,
   "metadata": {},
   "outputs": [],
   "source": [
    "df_imdb['primary_genre'] = [x[:x.find(\"|\")] if x.find(\"|\") != -1 else x for x in df_imdb.genres]"
   ]
  },
  {
   "cell_type": "code",
   "execution_count": 102,
   "metadata": {},
   "outputs": [
    {
     "data": {
      "text/plain": [
       "0            Action\n",
       "1            Action\n",
       "2            Action\n",
       "3            Action\n",
       "4       Documentary\n",
       "           ...     \n",
       "5038         Comedy\n",
       "5039          Crime\n",
       "5040          Drama\n",
       "5041         Comedy\n",
       "5042    Documentary\n",
       "Name: primary_genre, Length: 4996, dtype: object"
      ]
     },
     "execution_count": 102,
     "metadata": {},
     "output_type": "execute_result"
    }
   ],
   "source": [
    "df_imdb.primary_genre"
   ]
  },
  {
   "cell_type": "markdown",
   "metadata": {},
   "source": [
    "**Interpretation:** Adding a new column primary genres."
   ]
  },
  {
   "cell_type": "code",
   "execution_count": 8,
   "metadata": {},
   "outputs": [
    {
     "data": {
      "text/plain": [
       "(5043, 17)"
      ]
     },
     "execution_count": 8,
     "metadata": {},
     "output_type": "execute_result"
    }
   ],
   "source": [
    "df_imdb.shape"
   ]
  },
  {
   "cell_type": "code",
   "execution_count": 9,
   "metadata": {},
   "outputs": [
    {
     "name": "stdout",
     "output_type": "stream",
     "text": [
      "<class 'pandas.core.frame.DataFrame'>\n",
      "RangeIndex: 5043 entries, 0 to 5042\n",
      "Data columns (total 17 columns):\n",
      " #   Column                  Non-Null Count  Dtype  \n",
      "---  ------                  --------------  -----  \n",
      " 0   color                   5024 non-null   object \n",
      " 1   num_critic_for_reviews  4993 non-null   float64\n",
      " 2   duration                5028 non-null   float64\n",
      " 3   gross                   4159 non-null   float64\n",
      " 4   genres                  5043 non-null   object \n",
      " 5   movie_title             5043 non-null   object \n",
      " 6   num_voted_users         5043 non-null   int64  \n",
      " 7   movie_imdb_link         5043 non-null   object \n",
      " 8   num_user_for_reviews    5022 non-null   float64\n",
      " 9   language                5031 non-null   object \n",
      " 10  country                 5038 non-null   object \n",
      " 11  content_rating          4740 non-null   object \n",
      " 12  budget                  4551 non-null   float64\n",
      " 13  title_year              4935 non-null   object \n",
      " 14  aspect_ratio            4714 non-null   float64\n",
      " 15  imdb_score              5043 non-null   float64\n",
      " 16  primary_genre           5043 non-null   object \n",
      "dtypes: float64(7), int64(1), object(9)\n",
      "memory usage: 669.9+ KB\n"
     ]
    }
   ],
   "source": [
    "df_imdb.info()"
   ]
  },
  {
   "cell_type": "markdown",
   "metadata": {},
   "source": [
    "**Interpretation:** So out of 18 we have 9 categorical & 9 numerical columns."
   ]
  },
  {
   "cell_type": "code",
   "execution_count": 10,
   "metadata": {},
   "outputs": [],
   "source": [
    "df_imdb.drop_duplicates(inplace=True)"
   ]
  },
  {
   "cell_type": "code",
   "execution_count": 11,
   "metadata": {},
   "outputs": [
    {
     "data": {
      "text/plain": [
       "(4996, 17)"
      ]
     },
     "execution_count": 11,
     "metadata": {},
     "output_type": "execute_result"
    }
   ],
   "source": [
    "df_imdb.shape"
   ]
  },
  {
   "cell_type": "markdown",
   "metadata": {},
   "source": [
    "**Interpretation:** After removing duplicate row shape changes to 4996 rows and 18 columns."
   ]
  },
  {
   "cell_type": "code",
   "execution_count": 12,
   "metadata": {},
   "outputs": [
    {
     "data": {
      "text/html": [
       "<div>\n",
       "<style scoped>\n",
       "    .dataframe tbody tr th:only-of-type {\n",
       "        vertical-align: middle;\n",
       "    }\n",
       "\n",
       "    .dataframe tbody tr th {\n",
       "        vertical-align: top;\n",
       "    }\n",
       "\n",
       "    .dataframe thead th {\n",
       "        text-align: right;\n",
       "    }\n",
       "</style>\n",
       "<table border=\"1\" class=\"dataframe\">\n",
       "  <thead>\n",
       "    <tr style=\"text-align: right;\">\n",
       "      <th></th>\n",
       "      <th>num_critic_for_reviews</th>\n",
       "      <th>duration</th>\n",
       "      <th>gross</th>\n",
       "      <th>num_voted_users</th>\n",
       "      <th>num_user_for_reviews</th>\n",
       "      <th>budget</th>\n",
       "      <th>aspect_ratio</th>\n",
       "      <th>imdb_score</th>\n",
       "    </tr>\n",
       "  </thead>\n",
       "  <tbody>\n",
       "    <tr>\n",
       "      <th>count</th>\n",
       "      <td>4947.000000</td>\n",
       "      <td>4981.000000</td>\n",
       "      <td>4.123000e+03</td>\n",
       "      <td>4.996000e+03</td>\n",
       "      <td>4975.000000</td>\n",
       "      <td>4.510000e+03</td>\n",
       "      <td>4670.000000</td>\n",
       "      <td>4996.000000</td>\n",
       "    </tr>\n",
       "    <tr>\n",
       "      <th>mean</th>\n",
       "      <td>139.931474</td>\n",
       "      <td>107.214214</td>\n",
       "      <td>4.833441e+07</td>\n",
       "      <td>8.349716e+04</td>\n",
       "      <td>272.095075</td>\n",
       "      <td>3.975158e+07</td>\n",
       "      <td>2.221390</td>\n",
       "      <td>6.441513</td>\n",
       "    </tr>\n",
       "    <tr>\n",
       "      <th>std</th>\n",
       "      <td>121.483433</td>\n",
       "      <td>25.253679</td>\n",
       "      <td>6.797074e+07</td>\n",
       "      <td>1.381073e+05</td>\n",
       "      <td>377.829128</td>\n",
       "      <td>2.069917e+08</td>\n",
       "      <td>1.391333</td>\n",
       "      <td>1.123986</td>\n",
       "    </tr>\n",
       "    <tr>\n",
       "      <th>min</th>\n",
       "      <td>1.000000</td>\n",
       "      <td>7.000000</td>\n",
       "      <td>1.620000e+02</td>\n",
       "      <td>5.000000e+00</td>\n",
       "      <td>1.000000</td>\n",
       "      <td>2.180000e+02</td>\n",
       "      <td>1.180000</td>\n",
       "      <td>1.600000</td>\n",
       "    </tr>\n",
       "    <tr>\n",
       "      <th>25%</th>\n",
       "      <td>50.000000</td>\n",
       "      <td>93.000000</td>\n",
       "      <td>5.303224e+06</td>\n",
       "      <td>8.560000e+03</td>\n",
       "      <td>64.500000</td>\n",
       "      <td>6.000000e+06</td>\n",
       "      <td>1.850000</td>\n",
       "      <td>5.800000</td>\n",
       "    </tr>\n",
       "    <tr>\n",
       "      <th>50%</th>\n",
       "      <td>110.000000</td>\n",
       "      <td>103.000000</td>\n",
       "      <td>2.545053e+07</td>\n",
       "      <td>3.430050e+04</td>\n",
       "      <td>156.000000</td>\n",
       "      <td>2.000000e+07</td>\n",
       "      <td>2.350000</td>\n",
       "      <td>6.600000</td>\n",
       "    </tr>\n",
       "    <tr>\n",
       "      <th>75%</th>\n",
       "      <td>195.000000</td>\n",
       "      <td>118.000000</td>\n",
       "      <td>6.231996e+07</td>\n",
       "      <td>9.615500e+04</td>\n",
       "      <td>324.000000</td>\n",
       "      <td>4.500000e+07</td>\n",
       "      <td>2.350000</td>\n",
       "      <td>7.200000</td>\n",
       "    </tr>\n",
       "    <tr>\n",
       "      <th>max</th>\n",
       "      <td>813.000000</td>\n",
       "      <td>511.000000</td>\n",
       "      <td>7.605058e+08</td>\n",
       "      <td>1.689764e+06</td>\n",
       "      <td>5060.000000</td>\n",
       "      <td>1.221550e+10</td>\n",
       "      <td>16.000000</td>\n",
       "      <td>9.500000</td>\n",
       "    </tr>\n",
       "  </tbody>\n",
       "</table>\n",
       "</div>"
      ],
      "text/plain": [
       "       num_critic_for_reviews     duration         gross  num_voted_users  \\\n",
       "count             4947.000000  4981.000000  4.123000e+03     4.996000e+03   \n",
       "mean               139.931474   107.214214  4.833441e+07     8.349716e+04   \n",
       "std                121.483433    25.253679  6.797074e+07     1.381073e+05   \n",
       "min                  1.000000     7.000000  1.620000e+02     5.000000e+00   \n",
       "25%                 50.000000    93.000000  5.303224e+06     8.560000e+03   \n",
       "50%                110.000000   103.000000  2.545053e+07     3.430050e+04   \n",
       "75%                195.000000   118.000000  6.231996e+07     9.615500e+04   \n",
       "max                813.000000   511.000000  7.605058e+08     1.689764e+06   \n",
       "\n",
       "       num_user_for_reviews        budget  aspect_ratio   imdb_score  \n",
       "count           4975.000000  4.510000e+03   4670.000000  4996.000000  \n",
       "mean             272.095075  3.975158e+07      2.221390     6.441513  \n",
       "std              377.829128  2.069917e+08      1.391333     1.123986  \n",
       "min                1.000000  2.180000e+02      1.180000     1.600000  \n",
       "25%               64.500000  6.000000e+06      1.850000     5.800000  \n",
       "50%              156.000000  2.000000e+07      2.350000     6.600000  \n",
       "75%              324.000000  4.500000e+07      2.350000     7.200000  \n",
       "max             5060.000000  1.221550e+10     16.000000     9.500000  "
      ]
     },
     "execution_count": 12,
     "metadata": {},
     "output_type": "execute_result"
    }
   ],
   "source": [
    "df_imdb.describe()"
   ]
  },
  {
   "cell_type": "code",
   "execution_count": 13,
   "metadata": {
    "scrolled": true
   },
   "outputs": [
    {
     "data": {
      "text/plain": [
       "color                      19\n",
       "num_critic_for_reviews     49\n",
       "duration                   15\n",
       "gross                     873\n",
       "genres                      0\n",
       "movie_title                 0\n",
       "num_voted_users             0\n",
       "movie_imdb_link             0\n",
       "num_user_for_reviews       21\n",
       "language                   12\n",
       "country                     5\n",
       "content_rating            301\n",
       "budget                    486\n",
       "title_year                107\n",
       "aspect_ratio              326\n",
       "imdb_score                  0\n",
       "primary_genre               0\n",
       "dtype: int64"
      ]
     },
     "execution_count": 13,
     "metadata": {},
     "output_type": "execute_result"
    }
   ],
   "source": [
    "# check for missiing values\n",
    "df_imdb.isnull().sum()"
   ]
  },
  {
   "cell_type": "markdown",
   "metadata": {},
   "source": [
    "**Interpretation:** Most of the columns are having null values."
   ]
  },
  {
   "cell_type": "code",
   "execution_count": 14,
   "metadata": {},
   "outputs": [
    {
     "data": {
      "image/png": "[encoded data removed]",
      "text/plain": [
       "<Figure size 720x1080 with 2 Axes>"
      ]
     },
     "metadata": {
      "needs_background": "light"
     },
     "output_type": "display_data"
    }
   ],
   "source": [
    "plt.figure(figsize=(10,15))\n",
    "sns.heatmap(df_imdb.isnull())\n",
    "plt.show()"
   ]
  },
  {
   "cell_type": "code",
   "execution_count": 15,
   "metadata": {},
   "outputs": [],
   "source": [
    "df_imdb_num=df_imdb.select_dtypes(include='number')\n",
    "df_imdb_cat=df_imdb.select_dtypes(include='object')"
   ]
  },
  {
   "cell_type": "code",
   "execution_count": 16,
   "metadata": {},
   "outputs": [
    {
     "data": {
      "text/plain": [
       "(4996, 8)"
      ]
     },
     "execution_count": 16,
     "metadata": {},
     "output_type": "execute_result"
    }
   ],
   "source": [
    "df_imdb_num.shape"
   ]
  },
  {
   "cell_type": "code",
   "execution_count": 17,
   "metadata": {},
   "outputs": [
    {
     "data": {
      "text/plain": [
       "(4996, 9)"
      ]
     },
     "execution_count": 17,
     "metadata": {},
     "output_type": "execute_result"
    }
   ],
   "source": [
    "df_imdb_cat.shape"
   ]
  },
  {
   "cell_type": "code",
   "execution_count": 18,
   "metadata": {},
   "outputs": [],
   "source": [
    "# missing values in numerical columns"
   ]
  },
  {
   "cell_type": "code",
   "execution_count": 19,
   "metadata": {
    "scrolled": false
   },
   "outputs": [
    {
     "data": {
      "text/plain": [
       "num_critic_for_reviews     49\n",
       "duration                   15\n",
       "gross                     873\n",
       "num_voted_users             0\n",
       "num_user_for_reviews       21\n",
       "budget                    486\n",
       "aspect_ratio              326\n",
       "imdb_score                  0\n",
       "dtype: int64"
      ]
     },
     "execution_count": 19,
     "metadata": {},
     "output_type": "execute_result"
    }
   ],
   "source": [
    "df_imdb_num.isnull().sum()"
   ]
  },
  {
   "cell_type": "markdown",
   "metadata": {},
   "source": [
    "**Interpretation:** Out of 9 numerical columns 7 columns is having null values."
   ]
  },
  {
   "cell_type": "code",
   "execution_count": 20,
   "metadata": {},
   "outputs": [
    {
     "data": {
      "text/plain": [
       "color               19\n",
       "genres               0\n",
       "movie_title          0\n",
       "movie_imdb_link      0\n",
       "language            12\n",
       "country              5\n",
       "content_rating     301\n",
       "title_year         107\n",
       "primary_genre        0\n",
       "dtype: int64"
      ]
     },
     "execution_count": 20,
     "metadata": {},
     "output_type": "execute_result"
    }
   ],
   "source": [
    "# missing values in categorical columns\n",
    "df_imdb_cat.isnull().sum()"
   ]
  },
  {
   "cell_type": "markdown",
   "metadata": {},
   "source": [
    "**Interpretation:** Out of 9 categorical columns 5 columns is having null values."
   ]
  },
  {
   "cell_type": "code",
   "execution_count": 21,
   "metadata": {},
   "outputs": [
    {
     "data": {
      "text/plain": [
       "(4996, 8)"
      ]
     },
     "execution_count": 21,
     "metadata": {},
     "output_type": "execute_result"
    }
   ],
   "source": [
    "# handling missing values of num columns with median\n",
    "df_imdb_num=df_imdb_num.apply(lambda x: x.fillna(x.median()),axis=0)\n",
    "df_imdb_num.shape"
   ]
  },
  {
   "cell_type": "code",
   "execution_count": 22,
   "metadata": {},
   "outputs": [
    {
     "data": {
      "text/plain": [
       "num_critic_for_reviews    0\n",
       "duration                  0\n",
       "gross                     0\n",
       "num_voted_users           0\n",
       "num_user_for_reviews      0\n",
       "budget                    0\n",
       "aspect_ratio              0\n",
       "imdb_score                0\n",
       "dtype: int64"
      ]
     },
     "execution_count": 22,
     "metadata": {},
     "output_type": "execute_result"
    }
   ],
   "source": [
    "df_imdb_num.isnull().sum()"
   ]
  },
  {
   "cell_type": "code",
   "execution_count": 23,
   "metadata": {},
   "outputs": [
    {
     "data": {
      "text/plain": [
       "(4996, 9)"
      ]
     },
     "execution_count": 23,
     "metadata": {},
     "output_type": "execute_result"
    }
   ],
   "source": [
    "# handling missing value of cat col with mode\n",
    "df_imdb_cat=df_imdb_cat.apply(lambda x:x.fillna(x.value_counts().index[0]))\n",
    "df_imdb_cat.shape"
   ]
  },
  {
   "cell_type": "code",
   "execution_count": 24,
   "metadata": {},
   "outputs": [
    {
     "data": {
      "text/plain": [
       "color              0\n",
       "genres             0\n",
       "movie_title        0\n",
       "movie_imdb_link    0\n",
       "language           0\n",
       "country            0\n",
       "content_rating     0\n",
       "title_year         0\n",
       "primary_genre      0\n",
       "dtype: int64"
      ]
     },
     "execution_count": 24,
     "metadata": {},
     "output_type": "execute_result"
    }
   ],
   "source": [
    "df_imdb_cat.isnull().sum()"
   ]
  },
  {
   "cell_type": "code",
   "execution_count": 25,
   "metadata": {},
   "outputs": [],
   "source": [
    "df_movies =pd.concat([df_imdb_num,df_imdb_cat],axis=1)"
   ]
  },
  {
   "cell_type": "code",
   "execution_count": 26,
   "metadata": {},
   "outputs": [
    {
     "data": {
      "text/plain": [
       "(4996, 17)"
      ]
     },
     "execution_count": 26,
     "metadata": {},
     "output_type": "execute_result"
    }
   ],
   "source": [
    "df_movies.shape"
   ]
  },
  {
   "cell_type": "code",
   "execution_count": 27,
   "metadata": {},
   "outputs": [
    {
     "data": {
      "image/png": "[encoded data removed]",
      "text/plain": [
       "<Figure size 720x1080 with 2 Axes>"
      ]
     },
     "metadata": {
      "needs_background": "light"
     },
     "output_type": "display_data"
    }
   ],
   "source": [
    "plt.figure(figsize=(10,15))\n",
    "sns.heatmap(df_movies.isnull())\n",
    "plt.show()"
   ]
  },
  {
   "cell_type": "markdown",
   "metadata": {},
   "source": [
    "**Interpretation:** Heatmap showing no null values in the entire dataset."
   ]
  },
  {
   "cell_type": "markdown",
   "metadata": {},
   "source": [
    "# Univariate Analysis."
   ]
  },
  {
   "cell_type": "code",
   "execution_count": 28,
   "metadata": {},
   "outputs": [
    {
     "data": {
      "text/plain": [
       "Index(['color', 'genres', 'movie_title', 'movie_imdb_link', 'language',\n",
       "       'country', 'content_rating', 'title_year', 'primary_genre'],\n",
       "      dtype='object')"
      ]
     },
     "execution_count": 28,
     "metadata": {},
     "output_type": "execute_result"
    }
   ],
   "source": [
    "# univaraite categorical col analysis\n",
    "df_imdb_cat.columns"
   ]
  },
  {
   "cell_type": "markdown",
   "metadata": {},
   "source": [
    "## Content Rating"
   ]
  },
  {
   "cell_type": "code",
   "execution_count": 29,
   "metadata": {},
   "outputs": [
    {
     "data": {
      "text/html": [
       "<div>\n",
       "<style scoped>\n",
       "    .dataframe tbody tr th:only-of-type {\n",
       "        vertical-align: middle;\n",
       "    }\n",
       "\n",
       "    .dataframe tbody tr th {\n",
       "        vertical-align: top;\n",
       "    }\n",
       "\n",
       "    .dataframe thead th {\n",
       "        text-align: right;\n",
       "    }\n",
       "</style>\n",
       "<table border=\"1\" class=\"dataframe\">\n",
       "  <thead>\n",
       "    <tr style=\"text-align: right;\">\n",
       "      <th></th>\n",
       "      <th>content_rating</th>\n",
       "      <th>Count</th>\n",
       "    </tr>\n",
       "  </thead>\n",
       "  <tbody>\n",
       "    <tr>\n",
       "      <th>9</th>\n",
       "      <td>R</td>\n",
       "      <td>2398</td>\n",
       "    </tr>\n",
       "    <tr>\n",
       "      <th>7</th>\n",
       "      <td>PG-13</td>\n",
       "      <td>1443</td>\n",
       "    </tr>\n",
       "    <tr>\n",
       "      <th>6</th>\n",
       "      <td>PG</td>\n",
       "      <td>698</td>\n",
       "    </tr>\n",
       "    <tr>\n",
       "      <th>5</th>\n",
       "      <td>Not Rated</td>\n",
       "      <td>116</td>\n",
       "    </tr>\n",
       "    <tr>\n",
       "      <th>1</th>\n",
       "      <td>G</td>\n",
       "      <td>112</td>\n",
       "    </tr>\n",
       "  </tbody>\n",
       "</table>\n",
       "</div>"
      ],
      "text/plain": [
       "  content_rating  Count\n",
       "9              R   2398\n",
       "7          PG-13   1443\n",
       "6             PG    698\n",
       "5      Not Rated    116\n",
       "1              G    112"
      ]
     },
     "execution_count": 29,
     "metadata": {},
     "output_type": "execute_result"
    }
   ],
   "source": [
    "freq_table=df_movies.groupby(['content_rating']).size().reset_index(name='Count')\n",
    "freq_table1=freq_table\n",
    "freq_table1.sort_values('Count', ascending=False,inplace=True)\n",
    "freq_table1.head()"
   ]
  },
  {
   "cell_type": "code",
   "execution_count": 30,
   "metadata": {},
   "outputs": [
    {
     "data": {
      "image/png": "[encoded data removed]",
      "text/plain": [
       "<Figure size 1080x360 with 1 Axes>"
      ]
     },
     "metadata": {
      "needs_background": "light"
     },
     "output_type": "display_data"
    }
   ],
   "source": [
    "plt.rcParams['figure.figsize']=[15,5]\n",
    "plt.bar(freq_table1['content_rating'],freq_table1['Count'])\n",
    "plt.show()"
   ]
  },
  {
   "cell_type": "markdown",
   "metadata": {},
   "source": [
    "**Interpretation:** Most of the movie are of rating R(restricted),(pG-13),(PG) parent guidance is suggested\n",
    "\n"
   ]
  },
  {
   "cell_type": "markdown",
   "metadata": {},
   "source": [
    "## Color"
   ]
  },
  {
   "cell_type": "code",
   "execution_count": 31,
   "metadata": {},
   "outputs": [
    {
     "data": {
      "text/html": [
       "<div>\n",
       "<style scoped>\n",
       "    .dataframe tbody tr th:only-of-type {\n",
       "        vertical-align: middle;\n",
       "    }\n",
       "\n",
       "    .dataframe tbody tr th {\n",
       "        vertical-align: top;\n",
       "    }\n",
       "\n",
       "    .dataframe thead th {\n",
       "        text-align: right;\n",
       "    }\n",
       "</style>\n",
       "<table border=\"1\" class=\"dataframe\">\n",
       "  <thead>\n",
       "    <tr style=\"text-align: right;\">\n",
       "      <th></th>\n",
       "      <th>color</th>\n",
       "      <th>Count</th>\n",
       "    </tr>\n",
       "  </thead>\n",
       "  <tbody>\n",
       "    <tr>\n",
       "      <th>1</th>\n",
       "      <td>Color</td>\n",
       "      <td>4789</td>\n",
       "    </tr>\n",
       "    <tr>\n",
       "      <th>0</th>\n",
       "      <td>Black and White</td>\n",
       "      <td>207</td>\n",
       "    </tr>\n",
       "  </tbody>\n",
       "</table>\n",
       "</div>"
      ],
      "text/plain": [
       "              color  Count\n",
       "1             Color   4789\n",
       "0   Black and White    207"
      ]
     },
     "execution_count": 31,
     "metadata": {},
     "output_type": "execute_result"
    }
   ],
   "source": [
    "freq_table=df_movies.groupby(['color']).size().reset_index(name='Count')\n",
    "freq_table1=freq_table\n",
    "freq_table1.sort_values('Count', ascending=False,inplace=True)\n",
    "freq_table1.head()"
   ]
  },
  {
   "cell_type": "code",
   "execution_count": 32,
   "metadata": {},
   "outputs": [
    {
     "data": {
      "image/png": "[encoded data removed]",
      "text/plain": [
       "<Figure size 144x360 with 1 Axes>"
      ]
     },
     "metadata": {
      "needs_background": "light"
     },
     "output_type": "display_data"
    }
   ],
   "source": [
    "plt.rcParams['figure.figsize']=[2,5]\n",
    "plt.bar(freq_table1['color'],freq_table1['Count'])\n",
    "plt.show()"
   ]
  },
  {
   "cell_type": "markdown",
   "metadata": {},
   "source": [
    "**Interpretation:** As we see from above graph from  1916-2016  that is since last century  most of the movie released in color only.\n",
    "\n"
   ]
  },
  {
   "cell_type": "markdown",
   "metadata": {},
   "source": [
    "## Primary Genre"
   ]
  },
  {
   "cell_type": "code",
   "execution_count": 33,
   "metadata": {},
   "outputs": [
    {
     "data": {
      "text/html": [
       "<div>\n",
       "<style scoped>\n",
       "    .dataframe tbody tr th:only-of-type {\n",
       "        vertical-align: middle;\n",
       "    }\n",
       "\n",
       "    .dataframe tbody tr th {\n",
       "        vertical-align: top;\n",
       "    }\n",
       "\n",
       "    .dataframe thead th {\n",
       "        text-align: right;\n",
       "    }\n",
       "</style>\n",
       "<table border=\"1\" class=\"dataframe\">\n",
       "  <thead>\n",
       "    <tr style=\"text-align: right;\">\n",
       "      <th></th>\n",
       "      <th>primary_genre</th>\n",
       "      <th>Count</th>\n",
       "    </tr>\n",
       "  </thead>\n",
       "  <tbody>\n",
       "    <tr>\n",
       "      <th>4</th>\n",
       "      <td>Comedy</td>\n",
       "      <td>1319</td>\n",
       "    </tr>\n",
       "    <tr>\n",
       "      <th>0</th>\n",
       "      <td>Action</td>\n",
       "      <td>1142</td>\n",
       "    </tr>\n",
       "    <tr>\n",
       "      <th>7</th>\n",
       "      <td>Drama</td>\n",
       "      <td>960</td>\n",
       "    </tr>\n",
       "    <tr>\n",
       "      <th>1</th>\n",
       "      <td>Adventure</td>\n",
       "      <td>450</td>\n",
       "    </tr>\n",
       "    <tr>\n",
       "      <th>5</th>\n",
       "      <td>Crime</td>\n",
       "      <td>347</td>\n",
       "    </tr>\n",
       "  </tbody>\n",
       "</table>\n",
       "</div>"
      ],
      "text/plain": [
       "  primary_genre  Count\n",
       "4        Comedy   1319\n",
       "0        Action   1142\n",
       "7         Drama    960\n",
       "1     Adventure    450\n",
       "5         Crime    347"
      ]
     },
     "execution_count": 33,
     "metadata": {},
     "output_type": "execute_result"
    }
   ],
   "source": [
    "freq_table=df_movies.groupby(['primary_genre']).size().reset_index(name='Count')\n",
    "freq_table1=freq_table\n",
    "freq_table1.sort_values('Count', ascending=False,inplace=True)\n",
    "freq_table2=freq_table1.head()\n",
    "freq_table2"
   ]
  },
  {
   "cell_type": "code",
   "execution_count": 34,
   "metadata": {},
   "outputs": [
    {
     "data": {
      "image/png": "[encoded data removed]",
      "text/plain": [
       "<Figure size 864x360 with 1 Axes>"
      ]
     },
     "metadata": {
      "needs_background": "light"
     },
     "output_type": "display_data"
    }
   ],
   "source": [
    "plt.rcParams['figure.figsize']=[12,5]\n",
    "plt.bar(freq_table2['primary_genre'],freq_table2['Count'])\n",
    "plt.show()"
   ]
  },
  {
   "cell_type": "markdown",
   "metadata": {},
   "source": [
    "**Interpretation:** comedy,action,drama,adventure,crime were the top 5 genres since the last century where more movies is comming from."
   ]
  },
  {
   "cell_type": "markdown",
   "metadata": {},
   "source": [
    "## Language"
   ]
  },
  {
   "cell_type": "code",
   "execution_count": 35,
   "metadata": {},
   "outputs": [
    {
     "data": {
      "text/html": [
       "<div>\n",
       "<style scoped>\n",
       "    .dataframe tbody tr th:only-of-type {\n",
       "        vertical-align: middle;\n",
       "    }\n",
       "\n",
       "    .dataframe tbody tr th {\n",
       "        vertical-align: top;\n",
       "    }\n",
       "\n",
       "    .dataframe thead th {\n",
       "        text-align: right;\n",
       "    }\n",
       "</style>\n",
       "<table border=\"1\" class=\"dataframe\">\n",
       "  <thead>\n",
       "    <tr style=\"text-align: right;\">\n",
       "      <th></th>\n",
       "      <th>language</th>\n",
       "      <th>Count</th>\n",
       "    </tr>\n",
       "  </thead>\n",
       "  <tbody>\n",
       "    <tr>\n",
       "      <th>11</th>\n",
       "      <td>English</td>\n",
       "      <td>4672</td>\n",
       "    </tr>\n",
       "    <tr>\n",
       "      <th>13</th>\n",
       "      <td>French</td>\n",
       "      <td>73</td>\n",
       "    </tr>\n",
       "    <tr>\n",
       "      <th>38</th>\n",
       "      <td>Spanish</td>\n",
       "      <td>40</td>\n",
       "    </tr>\n",
       "    <tr>\n",
       "      <th>17</th>\n",
       "      <td>Hindi</td>\n",
       "      <td>28</td>\n",
       "    </tr>\n",
       "    <tr>\n",
       "      <th>26</th>\n",
       "      <td>Mandarin</td>\n",
       "      <td>24</td>\n",
       "    </tr>\n",
       "  </tbody>\n",
       "</table>\n",
       "</div>"
      ],
      "text/plain": [
       "    language  Count\n",
       "11   English   4672\n",
       "13    French     73\n",
       "38   Spanish     40\n",
       "17     Hindi     28\n",
       "26  Mandarin     24"
      ]
     },
     "execution_count": 35,
     "metadata": {},
     "output_type": "execute_result"
    }
   ],
   "source": [
    "freq_table=df_movies.groupby(['language']).size().reset_index(name='Count')\n",
    "freq_table1=freq_table\n",
    "freq_table1.sort_values('Count', ascending=False,inplace=True)\n",
    "freq_table2=freq_table1.head()\n",
    "freq_table2"
   ]
  },
  {
   "cell_type": "code",
   "execution_count": 36,
   "metadata": {},
   "outputs": [
    {
     "data": {
      "image/png": "[encoded data removed]",
      "text/plain": [
       "<Figure size 864x360 with 1 Axes>"
      ]
     },
     "metadata": {
      "needs_background": "light"
     },
     "output_type": "display_data"
    }
   ],
   "source": [
    "plt.rcParams['figure.figsize']=[12,5]\n",
    "plt.bar(freq_table2['language'],freq_table2['Count'])\n",
    "plt.show()"
   ]
  },
  {
   "cell_type": "markdown",
   "metadata": {},
   "source": [
    "**Interpretation:** So the above plot is showing that most of the movie since the last century were primarily released in English language."
   ]
  },
  {
   "cell_type": "markdown",
   "metadata": {},
   "source": [
    "## Country"
   ]
  },
  {
   "cell_type": "code",
   "execution_count": 37,
   "metadata": {},
   "outputs": [
    {
     "data": {
      "text/html": [
       "<div>\n",
       "<style scoped>\n",
       "    .dataframe tbody tr th:only-of-type {\n",
       "        vertical-align: middle;\n",
       "    }\n",
       "\n",
       "    .dataframe tbody tr th {\n",
       "        vertical-align: top;\n",
       "    }\n",
       "\n",
       "    .dataframe thead th {\n",
       "        text-align: right;\n",
       "    }\n",
       "</style>\n",
       "<table border=\"1\" class=\"dataframe\">\n",
       "  <thead>\n",
       "    <tr style=\"text-align: right;\">\n",
       "      <th></th>\n",
       "      <th>country</th>\n",
       "      <th>Count</th>\n",
       "    </tr>\n",
       "  </thead>\n",
       "  <tbody>\n",
       "    <tr>\n",
       "      <th>62</th>\n",
       "      <td>USA</td>\n",
       "      <td>3777</td>\n",
       "    </tr>\n",
       "    <tr>\n",
       "      <th>61</th>\n",
       "      <td>UK</td>\n",
       "      <td>443</td>\n",
       "    </tr>\n",
       "    <tr>\n",
       "      <th>19</th>\n",
       "      <td>France</td>\n",
       "      <td>154</td>\n",
       "    </tr>\n",
       "    <tr>\n",
       "      <th>10</th>\n",
       "      <td>Canada</td>\n",
       "      <td>124</td>\n",
       "    </tr>\n",
       "    <tr>\n",
       "      <th>21</th>\n",
       "      <td>Germany</td>\n",
       "      <td>96</td>\n",
       "    </tr>\n",
       "  </tbody>\n",
       "</table>\n",
       "</div>"
      ],
      "text/plain": [
       "    country  Count\n",
       "62      USA   3777\n",
       "61       UK    443\n",
       "19   France    154\n",
       "10   Canada    124\n",
       "21  Germany     96"
      ]
     },
     "execution_count": 37,
     "metadata": {},
     "output_type": "execute_result"
    }
   ],
   "source": [
    "freq_table=df_movies.groupby(['country']).size().reset_index(name='Count')\n",
    "freq_table1=freq_table\n",
    "freq_table1.sort_values('Count', ascending=False,inplace=True)\n",
    "freq_table2=freq_table1.head()\n",
    "freq_table2"
   ]
  },
  {
   "cell_type": "code",
   "execution_count": 38,
   "metadata": {},
   "outputs": [
    {
     "data": {
      "image/png": "[encoded data removed]",
      "text/plain": [
       "<Figure size 864x360 with 1 Axes>"
      ]
     },
     "metadata": {
      "needs_background": "light"
     },
     "output_type": "display_data"
    }
   ],
   "source": [
    "plt.rcParams['figure.figsize']=[12,5]\n",
    "plt.bar(freq_table2['country'],freq_table2['Count'])\n",
    "plt.show()"
   ]
  },
  {
   "cell_type": "markdown",
   "metadata": {},
   "source": [
    "**Interpretation:** So this plot is showing that USA followed by UK are the top 2 countries\n",
    "were most of the movies was produced in the last century."
   ]
  },
  {
   "cell_type": "markdown",
   "metadata": {},
   "source": [
    "## Title Year"
   ]
  },
  {
   "cell_type": "code",
   "execution_count": 39,
   "metadata": {},
   "outputs": [],
   "source": [
    "freq_table=df_movies.groupby(['title_year']).size().reset_index(name='Count')\n",
    "freq_table1=freq_table"
   ]
  },
  {
   "cell_type": "code",
   "execution_count": 40,
   "metadata": {},
   "outputs": [
    {
     "data": {
      "image/png": "[encoded data removed]",
      "text/plain": [
       "<Figure size 1440x576 with 1 Axes>"
      ]
     },
     "metadata": {
      "needs_background": "light"
     },
     "output_type": "display_data"
    }
   ],
   "source": [
    "plt.rcParams['figure.figsize']=[20,8]\n",
    "plt.bar(freq_table1['title_year'],freq_table1['Count'])\n",
    "plt.show()"
   ]
  },
  {
   "cell_type": "markdown",
   "metadata": {},
   "source": [
    "**Interpretation:** This graph is showing how the amount of movies relased per year\n",
    "has increased exponentially since 1916-2016."
   ]
  },
  {
   "cell_type": "markdown",
   "metadata": {},
   "source": [
    "## Univariate Numerical columns Analysis"
   ]
  },
  {
   "cell_type": "code",
   "execution_count": 41,
   "metadata": {},
   "outputs": [
    {
     "data": {
      "image/png": "[encoded data removed]",
      "text/plain": [
       "<Figure size 1440x576 with 9 Axes>"
      ]
     },
     "metadata": {
      "needs_background": "light"
     },
     "output_type": "display_data"
    }
   ],
   "source": [
    "# univariate num col\n",
    "df_movies_num=df_movies.select_dtypes(include='number')\n",
    "df_movies_num.hist()\n",
    "plt.show()"
   ]
  },
  {
   "cell_type": "markdown",
   "metadata": {},
   "source": [
    "**Interpretation:** So above graph is showing the distribution of all numerical column\n",
    "which help us in handling data transformation before ML model building\n",
    "and no numerical column is normally distributed which means we have to use some transformation technique."
   ]
  },
  {
   "cell_type": "code",
   "execution_count": 42,
   "metadata": {},
   "outputs": [
    {
     "data": {
      "image/png": "[encoded data removed]",
      "text/plain": [
       "<Figure size 1440x576 with 2 Axes>"
      ]
     },
     "metadata": {
      "needs_background": "light"
     },
     "output_type": "display_data"
    }
   ],
   "source": [
    "sns.heatmap(df_movies.corr(),annot=True)\n",
    "plt.show()"
   ]
  },
  {
   "cell_type": "markdown",
   "metadata": {},
   "source": [
    "**Interpretation:** From this correlation matrix we can see that there are some feature having some correlation b/w them like\n",
    "\n",
    "num_crict_for_reviews correlated VS (num_voted_user,num_user_for_reviews)\n",
    "\n",
    "gross VS num_voted_user\n",
    "\n",
    "So there may be muliticollinearity present which we have to check using determinant of this correlation matrix and if present then remove it using vif technique"
   ]
  },
  {
   "cell_type": "code",
   "execution_count": 43,
   "metadata": {},
   "outputs": [
    {
     "data": {
      "text/plain": [
       "0.06270381596704461"
      ]
     },
     "execution_count": 43,
     "metadata": {},
     "output_type": "execute_result"
    }
   ],
   "source": [
    "import scipy.linalg as la\n",
    "\n",
    "la.det(df_movies.corr())"
   ]
  },
  {
   "cell_type": "markdown",
   "metadata": {},
   "source": [
    "**Interpretation:** So by calculating the det of corr matrix we say that it is near to 0. \n",
    " So we have multicollinearity also present which we have to remove before model building"
   ]
  },
  {
   "cell_type": "markdown",
   "metadata": {},
   "source": [
    "**EDA Conclusion:** So the conclusion from EDA is that we do have outlier in most of our features ,multicollinearity.\n",
    "So we need to handle it with some proper transformation technique and vif technique respectively before Model Building. "
   ]
  },
  {
   "cell_type": "code",
   "execution_count": null,
   "metadata": {},
   "outputs": [],
   "source": []
  },
  {
   "cell_type": "markdown",
   "metadata": {},
   "source": [
    "# Encoding the categorical data"
   ]
  },
  {
   "cell_type": "code",
   "execution_count": 45,
   "metadata": {
    "scrolled": false
   },
   "outputs": [
    {
     "data": {
      "text/html": [
       "<div>\n",
       "<style scoped>\n",
       "    .dataframe tbody tr th:only-of-type {\n",
       "        vertical-align: middle;\n",
       "    }\n",
       "\n",
       "    .dataframe tbody tr th {\n",
       "        vertical-align: top;\n",
       "    }\n",
       "\n",
       "    .dataframe thead th {\n",
       "        text-align: right;\n",
       "    }\n",
       "</style>\n",
       "<table border=\"1\" class=\"dataframe\">\n",
       "  <thead>\n",
       "    <tr style=\"text-align: right;\">\n",
       "      <th></th>\n",
       "      <th>num_critic_for_reviews</th>\n",
       "      <th>duration</th>\n",
       "      <th>gross</th>\n",
       "      <th>num_voted_users</th>\n",
       "      <th>num_user_for_reviews</th>\n",
       "      <th>budget</th>\n",
       "      <th>aspect_ratio</th>\n",
       "      <th>imdb_score</th>\n",
       "      <th>genres</th>\n",
       "      <th>movie_title</th>\n",
       "      <th>...</th>\n",
       "      <th>country_Spain</th>\n",
       "      <th>country_Sweden</th>\n",
       "      <th>country_Switzerland</th>\n",
       "      <th>country_Taiwan</th>\n",
       "      <th>country_Thailand</th>\n",
       "      <th>country_Turkey</th>\n",
       "      <th>country_UK</th>\n",
       "      <th>country_USA</th>\n",
       "      <th>country_United Arab Emirates</th>\n",
       "      <th>country_West Germany</th>\n",
       "    </tr>\n",
       "  </thead>\n",
       "  <tbody>\n",
       "    <tr>\n",
       "      <th>0</th>\n",
       "      <td>723.0</td>\n",
       "      <td>178.0</td>\n",
       "      <td>760505847.0</td>\n",
       "      <td>886204</td>\n",
       "      <td>3054.0</td>\n",
       "      <td>237000000.0</td>\n",
       "      <td>1.78</td>\n",
       "      <td>7.9</td>\n",
       "      <td>Action|Adventure|Fantasy|Sci-Fi</td>\n",
       "      <td>Avatar</td>\n",
       "      <td>...</td>\n",
       "      <td>0</td>\n",
       "      <td>0</td>\n",
       "      <td>0</td>\n",
       "      <td>0</td>\n",
       "      <td>0</td>\n",
       "      <td>0</td>\n",
       "      <td>0</td>\n",
       "      <td>1</td>\n",
       "      <td>0</td>\n",
       "      <td>0</td>\n",
       "    </tr>\n",
       "    <tr>\n",
       "      <th>1</th>\n",
       "      <td>302.0</td>\n",
       "      <td>169.0</td>\n",
       "      <td>309404152.0</td>\n",
       "      <td>471220</td>\n",
       "      <td>1238.0</td>\n",
       "      <td>300000000.0</td>\n",
       "      <td>2.35</td>\n",
       "      <td>7.1</td>\n",
       "      <td>Action|Adventure|Fantasy</td>\n",
       "      <td>Pirates of the Caribbean: At World's End</td>\n",
       "      <td>...</td>\n",
       "      <td>0</td>\n",
       "      <td>0</td>\n",
       "      <td>0</td>\n",
       "      <td>0</td>\n",
       "      <td>0</td>\n",
       "      <td>0</td>\n",
       "      <td>0</td>\n",
       "      <td>1</td>\n",
       "      <td>0</td>\n",
       "      <td>0</td>\n",
       "    </tr>\n",
       "    <tr>\n",
       "      <th>2</th>\n",
       "      <td>602.0</td>\n",
       "      <td>148.0</td>\n",
       "      <td>200074175.0</td>\n",
       "      <td>275868</td>\n",
       "      <td>994.0</td>\n",
       "      <td>245000000.0</td>\n",
       "      <td>2.35</td>\n",
       "      <td>6.8</td>\n",
       "      <td>Action|Adventure|Thriller</td>\n",
       "      <td>Spectre</td>\n",
       "      <td>...</td>\n",
       "      <td>0</td>\n",
       "      <td>0</td>\n",
       "      <td>0</td>\n",
       "      <td>0</td>\n",
       "      <td>0</td>\n",
       "      <td>0</td>\n",
       "      <td>1</td>\n",
       "      <td>0</td>\n",
       "      <td>0</td>\n",
       "      <td>0</td>\n",
       "    </tr>\n",
       "    <tr>\n",
       "      <th>3</th>\n",
       "      <td>813.0</td>\n",
       "      <td>164.0</td>\n",
       "      <td>448130642.0</td>\n",
       "      <td>1144337</td>\n",
       "      <td>2701.0</td>\n",
       "      <td>250000000.0</td>\n",
       "      <td>2.35</td>\n",
       "      <td>8.5</td>\n",
       "      <td>Action|Thriller</td>\n",
       "      <td>The Dark Knight Rises</td>\n",
       "      <td>...</td>\n",
       "      <td>0</td>\n",
       "      <td>0</td>\n",
       "      <td>0</td>\n",
       "      <td>0</td>\n",
       "      <td>0</td>\n",
       "      <td>0</td>\n",
       "      <td>0</td>\n",
       "      <td>1</td>\n",
       "      <td>0</td>\n",
       "      <td>0</td>\n",
       "    </tr>\n",
       "    <tr>\n",
       "      <th>4</th>\n",
       "      <td>110.0</td>\n",
       "      <td>103.0</td>\n",
       "      <td>25450527.0</td>\n",
       "      <td>8</td>\n",
       "      <td>156.0</td>\n",
       "      <td>20000000.0</td>\n",
       "      <td>2.35</td>\n",
       "      <td>7.1</td>\n",
       "      <td>Documentary</td>\n",
       "      <td>Star Wars: Episode VII - The Force Awakens    ...</td>\n",
       "      <td>...</td>\n",
       "      <td>0</td>\n",
       "      <td>0</td>\n",
       "      <td>0</td>\n",
       "      <td>0</td>\n",
       "      <td>0</td>\n",
       "      <td>0</td>\n",
       "      <td>0</td>\n",
       "      <td>1</td>\n",
       "      <td>0</td>\n",
       "      <td>0</td>\n",
       "    </tr>\n",
       "  </tbody>\n",
       "</table>\n",
       "<p>5 rows × 255 columns</p>\n",
       "</div>"
      ],
      "text/plain": [
       "   num_critic_for_reviews  duration        gross  num_voted_users  \\\n",
       "0                   723.0     178.0  760505847.0           886204   \n",
       "1                   302.0     169.0  309404152.0           471220   \n",
       "2                   602.0     148.0  200074175.0           275868   \n",
       "3                   813.0     164.0  448130642.0          1144337   \n",
       "4                   110.0     103.0   25450527.0                8   \n",
       "\n",
       "   num_user_for_reviews       budget  aspect_ratio  imdb_score  \\\n",
       "0                3054.0  237000000.0          1.78         7.9   \n",
       "1                1238.0  300000000.0          2.35         7.1   \n",
       "2                 994.0  245000000.0          2.35         6.8   \n",
       "3                2701.0  250000000.0          2.35         8.5   \n",
       "4                 156.0   20000000.0          2.35         7.1   \n",
       "\n",
       "                            genres  \\\n",
       "0  Action|Adventure|Fantasy|Sci-Fi   \n",
       "1         Action|Adventure|Fantasy   \n",
       "2        Action|Adventure|Thriller   \n",
       "3                  Action|Thriller   \n",
       "4                      Documentary   \n",
       "\n",
       "                                         movie_title  ... country_Spain  \\\n",
       "0                                            Avatar   ...             0   \n",
       "1          Pirates of the Caribbean: At World's End   ...             0   \n",
       "2                                           Spectre   ...             0   \n",
       "3                             The Dark Knight Rises   ...             0   \n",
       "4  Star Wars: Episode VII - The Force Awakens    ...  ...             0   \n",
       "\n",
       "   country_Sweden  country_Switzerland  country_Taiwan  country_Thailand  \\\n",
       "0               0                    0               0                 0   \n",
       "1               0                    0               0                 0   \n",
       "2               0                    0               0                 0   \n",
       "3               0                    0               0                 0   \n",
       "4               0                    0               0                 0   \n",
       "\n",
       "   country_Turkey  country_UK  country_USA  country_United Arab Emirates  \\\n",
       "0               0           0            1                             0   \n",
       "1               0           0            1                             0   \n",
       "2               0           1            0                             0   \n",
       "3               0           0            1                             0   \n",
       "4               0           0            1                             0   \n",
       "\n",
       "   country_West Germany  \n",
       "0                     0  \n",
       "1                     0  \n",
       "2                     0  \n",
       "3                     0  \n",
       "4                     0  \n",
       "\n",
       "[5 rows x 255 columns]"
      ]
     },
     "execution_count": 45,
     "metadata": {},
     "output_type": "execute_result"
    }
   ],
   "source": [
    "encode = pd.get_dummies(data=df_movies, columns=['title_year','color','language','content_rating','primary_genre','country'])\n",
    "encode.head()"
   ]
  },
  {
   "cell_type": "markdown",
   "metadata": {},
   "source": [
    "**Interpretation:** So after encoding all the categorical variables we now have 255 columns in encoded form."
   ]
  },
  {
   "cell_type": "markdown",
   "metadata": {},
   "source": [
    "# Outliers"
   ]
  },
  {
   "cell_type": "code",
   "execution_count": 46,
   "metadata": {},
   "outputs": [],
   "source": [
    "data2 = df_movies.copy()"
   ]
  },
  {
   "cell_type": "code",
   "execution_count": 47,
   "metadata": {
    "scrolled": true
   },
   "outputs": [
    {
     "data": {
      "image/png": "[encoded data removed]",
      "text/plain": [
       "<Figure size 1080x720 with 16 Axes>"
      ]
     },
     "metadata": {
      "needs_background": "light"
     },
     "output_type": "display_data"
    }
   ],
   "source": [
    "df_imdb_num.plot(kind='box',subplots=True,layout=(4,4), figsize=(15,10))\n",
    "plt.show()"
   ]
  },
  {
   "cell_type": "markdown",
   "metadata": {},
   "source": [
    "**Interpretation:** The boxplot clearly displays the outliers present in the numerical columns for which transformation is needed.Here most of the variables are left skewed."
   ]
  },
  {
   "cell_type": "code",
   "execution_count": 48,
   "metadata": {
    "scrolled": false
   },
   "outputs": [
    {
     "name": "stdout",
     "output_type": "stream",
     "text": [
      "Skewness: 4.034193374858156\n"
     ]
    },
    {
     "data": {
      "image/png": "[encoded data removed]",
      "text/plain": [
       "<Figure size 1080x576 with 1 Axes>"
      ]
     },
     "metadata": {
      "needs_background": "light"
     },
     "output_type": "display_data"
    }
   ],
   "source": [
    "plt.rcParams[\"figure.figsize\"] = [15,8]\n",
    "\n",
    "ax = sns.distplot((df_movies['num_voted_users']))\n",
    "ax.set_xlabel('Number of users voted', fontsize=15)\n",
    "\n",
    "# coefficient of skewness \n",
    "print('Skewness:', (df_movies['num_voted_users']).skew())\n",
    "\n",
    "# set label for y-axis\n",
    "plt.ylabel('Density', fontsize=15)\n",
    "\n",
    "# display the plot\n",
    "plt.show()"
   ]
  },
  {
   "cell_type": "markdown",
   "metadata": {},
   "source": [
    "**Interpretation:** It can be seen that the variable is positively skewed with the coefficient of skewness as 4.034. Apply the log transformation to reduce the skewness in the data."
   ]
  },
  {
   "cell_type": "code",
   "execution_count": 49,
   "metadata": {},
   "outputs": [
    {
     "name": "stdout",
     "output_type": "stream",
     "text": [
      "Skewness: -0.9901772923202484\n"
     ]
    },
    {
     "data": {
      "image/png": "[encoded data removed]",
      "text/plain": [
       "<Figure size 1080x576 with 1 Axes>"
      ]
     },
     "metadata": {
      "needs_background": "light"
     },
     "output_type": "display_data"
    }
   ],
   "source": [
    "plt.rcParams[\"figure.figsize\"] = [15,8] \n",
    "\n",
    "# apply natural log transformation (with base 'e')\n",
    "np.log(df_movies['num_voted_users'])\n",
    "\n",
    "# coefficient of skewness of transformed data\n",
    "print('Skewness:', np.log(df_movies['num_voted_users']).skew())\n",
    "\n",
    "# distribution of log_transformed variable\n",
    "# ax: create an axes object in the figure\n",
    "ax = sns.distplot(np.log(df_movies['num_voted_users']))\n",
    "\n",
    "# set the label for x-axis\n",
    "ax.set_xlabel('No. of users voted', fontsize=15)\n",
    "\n",
    "# set label for y-axis\n",
    "plt.ylabel('Density', fontsize=15)\n",
    "\n",
    "# display the plot\n",
    "plt.show()"
   ]
  },
  {
   "cell_type": "markdown",
   "metadata": {},
   "source": [
    "**Interpretation:** The coefficient of skewness of the log_transformed data is near zero (-0.990). The distribution plot of the transformed variable is also more interpretable than the plot with original values."
   ]
  },
  {
   "cell_type": "markdown",
   "metadata": {},
   "source": [
    "## Outlier treatment using Transformation"
   ]
  },
  {
   "cell_type": "code",
   "execution_count": 50,
   "metadata": {},
   "outputs": [
    {
     "data": {
      "image/png": "[encoded data removed]",
      "text/plain": [
       "<Figure size 1080x576 with 9 Axes>"
      ]
     },
     "metadata": {
      "needs_background": "light"
     },
     "output_type": "display_data"
    }
   ],
   "source": [
    "data2_num=df_movies.select_dtypes(include='number')\n",
    "data2_num.hist()\n",
    "plt.show()"
   ]
  },
  {
   "cell_type": "code",
   "execution_count": 51,
   "metadata": {},
   "outputs": [],
   "source": [
    "data2['num_critic_for_reviews']= np.log(data2['num_critic_for_reviews'])\n",
    "data2['duration']= np.log(data2['duration'])\n",
    "data2['num_voted_users']= np.log(data2['num_voted_users'])\n",
    "data2['aspect_ratio']= np.log(data2['aspect_ratio'])\n",
    "data2['num_user_for_reviews']= np.log(data2['num_user_for_reviews'])\n",
    "data2['budget']= np.sqrt(data2['budget'])\n",
    "data2['gross']= np.log(data2['gross'])\n",
    "data2['num_voted_users']= np.log(data2['num_voted_users'])"
   ]
  },
  {
   "cell_type": "code",
   "execution_count": 52,
   "metadata": {},
   "outputs": [
    {
     "data": {
      "image/png": "[encoded data removed]",
      "text/plain": [
       "<Figure size 1080x576 with 9 Axes>"
      ]
     },
     "metadata": {
      "needs_background": "light"
     },
     "output_type": "display_data"
    }
   ],
   "source": [
    "data2_num=data2.select_dtypes(include='number')\n",
    "data2_num.hist()\n",
    "plt.show()"
   ]
  },
  {
   "cell_type": "code",
   "execution_count": 53,
   "metadata": {},
   "outputs": [],
   "source": [
    "df_movies=df_movies.drop(['movie_imdb_link','genres'],axis=1)"
   ]
  },
  {
   "cell_type": "code",
   "execution_count": 54,
   "metadata": {},
   "outputs": [
    {
     "data": {
      "text/plain": [
       "(4996, 15)"
      ]
     },
     "execution_count": 54,
     "metadata": {},
     "output_type": "execute_result"
    }
   ],
   "source": [
    "df_movies.shape"
   ]
  },
  {
   "cell_type": "code",
   "execution_count": 100,
   "metadata": {},
   "outputs": [],
   "source": [
    "# df_movies.reset_index(inplace=True)\n",
    "# df_movies.drop(columns=[\"index\"],inplace=True)"
   ]
  },
  {
   "cell_type": "markdown",
   "metadata": {},
   "source": [
    "# User defined functions to get the model performance scores"
   ]
  },
  {
   "cell_type": "code",
   "execution_count": 63,
   "metadata": {},
   "outputs": [],
   "source": [
    "def get_train_rmse(model,X_train1):\n",
    "    train_pred = model.predict(X_train1)\n",
    "    mse_train = mean_squared_error(y_train, train_pred)\n",
    "    rmse_train = round(np.sqrt(mse_train), 4)\n",
    "    return(rmse_train)\n",
    "\n",
    "def get_test_rmse(model,X_test1):\n",
    "    test_pred = model.predict(X_test1)\n",
    "    mse_test = mean_squared_error(y_test, test_pred)\n",
    "    rmse_test = round(np.sqrt(mse_test), 4)\n",
    "    return(rmse_test)\n",
    "\n",
    "def mape(actual, predicted):\n",
    "    return (np.mean(np.abs((actual - predicted) / actual)) * 100)\n",
    "\n",
    "def get_test_mape(model,X_test1):\n",
    "    test_pred = model.predict(X_test1)\n",
    "    mape_test = mape(y_test, test_pred)\n",
    "    return(mape_test)\n",
    "\n",
    "def get_score(model,X_train1):\n",
    "    r_sq = model.score(X_train1, y_train)\n",
    "    n = X_train1.shape[0]\n",
    "    k = X_train1.shape[1]\n",
    "    r_sq_adj = 1 - ((1-r_sq)*(n-1)/(n-k-1))\n",
    "    return ([r_sq, r_sq_adj])\n",
    "\n",
    "score_card = pd.DataFrame(columns=['Model_Name', 'Alpha', 'l1-ratio', 'R-Squared',\n",
    "                                       'Adj. R-Squared', 'Train_RMSE','Test_RMSE', 'Test_MAPE'])\n",
    "def update_score_card(algorithm_name, model, X_train1,X_test1,alpha = '-', l1_ratio = '-'):\n",
    "    global score_card\n",
    "    score_card = score_card.append({'Model_Name': algorithm_name,\n",
    "                       'Alpha': alpha, \n",
    "                       'l1-ratio': l1_ratio, \n",
    "                       'Test_MAPE': get_test_mape(model,X_test1),\n",
    "                       'Train_RMSE': get_train_rmse(model,X_train1),\n",
    "                       'Test_RMSE': get_test_rmse(model,X_test1), \n",
    "                       'R-Squared': get_score(model,X_train1)[0], \n",
    "                       'Adj. R-Squared': get_score(model,X_train1)[1]}, ignore_index = True)\n",
    "    return score_card"
   ]
  },
  {
   "cell_type": "markdown",
   "metadata": {},
   "source": [
    "# Model1: Simple full OLS Model"
   ]
  },
  {
   "cell_type": "code",
   "execution_count": 64,
   "metadata": {
    "scrolled": true
   },
   "outputs": [
    {
     "name": "stdout",
     "output_type": "stream",
     "text": [
      "                            OLS Regression Results                            \n",
      "==============================================================================\n",
      "Dep. Variable:             imdb_score   R-squared:                       0.479\n",
      "Model:                            OLS   Adj. R-squared:                  0.448\n",
      "Method:                 Least Squares   F-statistic:                     15.29\n",
      "Date:                Tue, 23 Feb 2021   Prob (F-statistic):               0.00\n",
      "Time:                        08:34:43   Log-Likelihood:                -4835.3\n",
      "No. Observations:                3996   AIC:                         1.013e+04\n",
      "Df Residuals:                    3768   BIC:                         1.156e+04\n",
      "Df Model:                         227                                         \n",
      "Covariance Type:            nonrobust                                         \n",
      "================================================================================================\n",
      "                                   coef    std err          t      P>|t|      [0.025      0.975]\n",
      "------------------------------------------------------------------------------------------------\n",
      "const                            4.3567      0.118     37.019      0.000       4.126       4.587\n",
      "num_critic_for_reviews           0.0031      0.000     17.060      0.000       0.003       0.004\n",
      "duration                         0.0050      0.001      7.152      0.000       0.004       0.006\n",
      "gross                        -4.881e-10    3.2e-10     -1.524      0.128   -1.12e-09     1.4e-10\n",
      "num_voted_users               3.134e-06   1.87e-07     16.791      0.000    2.77e-06     3.5e-06\n",
      "num_user_for_reviews            -0.0005      7e-05     -7.450      0.000      -0.001      -0.000\n",
      "budget                       -1.186e-10   7.32e-11     -1.619      0.105   -2.62e-10     2.5e-11\n",
      "aspect_ratio                     0.0368      0.012      3.097      0.002       0.014       0.060\n",
      "color_ Black and White           2.3046      0.072     32.204      0.000       2.164       2.445\n",
      "color_Color                      2.0521      0.068     30.116      0.000       1.919       2.186\n",
      "language_Aboriginal             -0.1582      0.596     -0.265      0.791      -1.327       1.011\n",
      "language_Arabic                  0.7156      0.829      0.863      0.388      -0.911       2.342\n",
      "language_Aramaic                -0.1704      0.842     -0.202      0.840      -1.821       1.480\n",
      "language_Bosnian                -2.4433      0.828     -2.952      0.003      -4.066      -0.821\n",
      "language_Cantonese               0.0195      0.442      0.044      0.965      -0.847       0.886\n",
      "language_Chinese                -0.6449      0.577     -1.117      0.264      -1.777       0.487\n",
      "language_Czech                9.886e-09   6.51e-09      1.519      0.129   -2.88e-09    2.27e-08\n",
      "language_Danish                  0.1646      0.593      0.277      0.781      -0.999       1.328\n",
      "language_Dari                    0.3470      0.827      0.420      0.675      -1.273       1.967\n",
      "language_Dutch                   1.3917      1.025      1.358      0.174      -0.617       3.400\n",
      "language_Dzongkha            -6.361e-09   4.19e-09     -1.519      0.129   -1.46e-08    1.85e-09\n",
      "language_English                -0.5970      0.127     -4.698      0.000      -0.846      -0.348\n",
      "language_Filipino               -0.0835      0.831     -0.100      0.920      -1.713       1.546\n",
      "language_French                  0.0073      0.185      0.040      0.968      -0.356       0.371\n",
      "language_German                  0.0981      0.284      0.345      0.730      -0.459       0.655\n",
      "language_Greek                  -0.2506      1.172     -0.214      0.831      -2.548       2.046\n",
      "language_Hebrew                  0.5111      0.830      0.616      0.538      -1.115       2.138\n",
      "language_Hindi                  -0.3031      0.497     -0.610      0.542      -1.277       0.671\n",
      "language_Hungarian           -6.947e-09   4.58e-09     -1.519      0.129   -1.59e-08    2.02e-09\n",
      "language_Icelandic              -1.5773      1.204     -1.310      0.190      -3.938       0.784\n",
      "language_Indonesian              0.5810      0.836      0.695      0.487      -1.058       2.220\n",
      "language_Italian                -0.2922      0.380     -0.770      0.441      -1.037       0.452\n",
      "language_Japanese                0.7108      0.482      1.474      0.141      -0.235       1.656\n",
      "language_Kannada                 0.8146      0.943      0.864      0.388      -1.034       2.663\n",
      "language_Kazakh                 -0.9837      0.833     -1.181      0.237      -2.616       0.649\n",
      "language_Korean                  1.8129      0.562      3.227      0.001       0.712       2.914\n",
      "language_Mandarin               -0.0596      0.365     -0.163      0.870      -0.776       0.657\n",
      "language_Maya                    0.4119      0.828      0.498      0.619      -1.211       2.035\n",
      "language_Mongolian               0.5277      0.793      0.665      0.506      -1.027       2.082\n",
      "language_None                    0.7759      0.601      1.291      0.197      -0.402       1.954\n",
      "language_Norwegian               0.1499      0.642      0.233      0.815      -1.109       1.409\n",
      "language_Panjabi                 0.6410      0.919      0.698      0.485      -1.160       2.442\n",
      "language_Persian                -0.3992      0.687     -0.581      0.561      -1.747       0.948\n",
      "language_Polish                  0.3183      0.222      1.433      0.152      -0.117       0.754\n",
      "language_Portuguese              0.0204      0.614      0.033      0.973      -1.183       1.224\n",
      "language_Romanian                0.2549      0.827      0.308      0.758      -1.367       1.876\n",
      "language_Russian                 0.0211      0.372      0.057      0.955      -0.709       0.751\n",
      "language_Slovenian               0.2415      0.416      0.581      0.561      -0.573       1.057\n",
      "language_Spanish                -0.0815      0.243     -0.336      0.737      -0.557       0.394\n",
      "language_Swahili                 0.3961      0.418      0.948      0.343      -0.423       1.215\n",
      "language_Swedish                -0.1068      0.690     -0.155      0.877      -1.460       1.247\n",
      "language_Tamil                  -1.3704      0.943     -1.453      0.146      -3.219       0.478\n",
      "language_Telugu                  2.1118      0.943      2.239      0.025       0.263       3.961\n",
      "language_Thai                    0.0351      0.758      0.046      0.963      -1.451       1.521\n",
      "language_Urdu                    0.4876      0.416      1.173      0.241      -0.327       1.302\n",
      "language_Vietnamese              0.4112      0.828      0.497      0.619      -1.211       2.034\n",
      "language_Zulu                   -0.1004      0.830     -0.121      0.904      -1.727       1.526\n",
      "country_Afghanistan              0.2842      1.169      0.243      0.808      -2.008       2.576\n",
      "country_Argentina                0.2459      0.472      0.521      0.602      -0.679       1.171\n",
      "country_Aruba                   -1.1537      0.832     -1.387      0.165      -2.784       0.477\n",
      "country_Australia                0.1525      0.163      0.935      0.350      -0.167       0.472\n",
      "country_Bahamas                 -1.7070      0.830     -2.057      0.040      -3.334      -0.080\n",
      "country_Belgium                 -0.0009      0.592     -0.002      0.999      -1.161       1.159\n",
      "country_Brazil                   0.1602      0.613      0.261      0.794      -1.042       1.363\n",
      "country_Bulgaria                 0.2661      0.830      0.321      0.748      -1.360       1.892\n",
      "country_Cambodia                -0.3893      0.830     -0.469      0.639      -2.017       1.238\n",
      "country_Cameroon                 0.0798      0.840      0.095      0.924      -1.567       1.727\n",
      "country_Canada                  -0.0519      0.131     -0.396      0.692      -0.309       0.205\n",
      "country_Chile                 -1.54e-09   1.01e-09     -1.519      0.129   -3.53e-09    4.48e-10\n",
      "country_China                    0.3619      0.328      1.103      0.270      -0.281       1.005\n",
      "country_Colombia                 0.3632      0.856      0.424      0.671      -1.315       2.042\n",
      "country_Czech Republic           0.4743      0.596      0.796      0.426      -0.694       1.643\n",
      "country_Denmark                  0.0701      0.352      0.199      0.842      -0.620       0.761\n",
      "country_Dominican Republic   -6.157e-10   4.05e-10     -1.519      0.129   -1.41e-09    1.79e-10\n",
      "country_Egypt                   -0.2857      1.160     -0.246      0.805      -2.560       1.988\n",
      "country_Finland                  0.5059      0.846      0.598      0.550      -1.152       2.164\n",
      "country_France                  -0.0186      0.137     -0.136      0.892      -0.288       0.250\n",
      "country_Georgia                  0.2224      0.830      0.268      0.789      -1.406       1.850\n",
      "country_Germany                 -0.1865      0.143     -1.308      0.191      -0.466       0.093\n",
      "country_Greece                  -0.1512      0.833     -0.181      0.856      -1.785       1.482\n",
      "country_Hong Kong                0.2926      0.376      0.779      0.436      -0.444       1.029\n",
      "country_Hungary                  0.1811      0.832      0.218      0.828      -1.449       1.811\n",
      "country_Iceland                  0.4890      0.828      0.590      0.555      -1.135       2.113\n",
      "country_India                    0.2100      0.500      0.420      0.675      -0.771       1.191\n",
      "country_Indonesia             1.013e-09   6.67e-10      1.519      0.129   -2.95e-10    2.32e-09\n",
      "country_Iran                     0.5781      0.701      0.825      0.409      -0.796       1.952\n",
      "country_Ireland                  0.5024      0.293      1.712      0.087      -0.073       1.078\n",
      "country_Israel                  -0.2931      0.962     -0.305      0.761      -2.179       1.593\n",
      "country_Italy                   -0.0152      0.290     -0.052      0.958      -0.585       0.554\n",
      "country_Japan                   -0.3500      0.427     -0.820      0.412      -1.187       0.487\n",
      "country_Kenya                    0.3961      0.418      0.948      0.343      -0.423       1.215\n",
      "country_Kyrgyzstan               3.4805      0.830      4.191      0.000       1.852       5.109\n",
      "country_Libya                    1.2407      0.856      1.449      0.147      -0.438       2.919\n",
      "country_Mexico                   0.4473      0.286      1.564      0.118      -0.114       1.008\n",
      "country_Netherlands             -0.9695      0.847     -1.144      0.253      -2.631       0.692\n",
      "country_New Line                -1.7153      0.831     -2.065      0.039      -3.344      -0.087\n",
      "country_New Zealand              0.6965      0.272      2.563      0.010       0.164       1.229\n",
      "country_Nigeria              -3.964e-10   2.61e-10     -1.518      0.129   -9.08e-10    1.15e-10\n",
      "country_Norway                  -0.3401      0.430     -0.791      0.429      -1.183       0.503\n",
      "country_Official site            0.2041      0.831      0.246      0.806      -1.424       1.833\n",
      "country_Pakistan                 0.4876      0.416      1.173      0.241      -0.327       1.302\n",
      "country_Panama                   0.9713      0.833      1.166      0.244      -0.662       2.604\n",
      "country_Peru                    -0.7811      0.837     -0.933      0.351      -2.423       0.861\n",
      "country_Philippines              1.0276      0.864      1.190      0.234      -0.666       2.721\n",
      "country_Poland                   0.3183      0.222      1.433      0.152      -0.117       0.754\n",
      "country_Romania                 -0.0569      0.592     -0.096      0.923      -1.217       1.103\n",
      "country_Russia                  -0.3856      0.416     -0.927      0.354      -1.201       0.430\n",
      "country_Slovakia                -0.5871      0.832     -0.705      0.481      -2.219       1.044\n",
      "country_Slovenia                 0.2415      0.416      0.581      0.561      -0.573       1.057\n",
      "country_South Africa             0.2933      0.352      0.833      0.405      -0.397       0.984\n",
      "country_South Korea             -1.4563      0.383     -3.801      0.000      -2.208      -0.705\n",
      "country_Soviet Union             0.0926      0.829      0.112      0.911      -1.533       1.719\n",
      "country_Spain                    0.1634      0.200      0.818      0.413      -0.228       0.555\n",
      "country_Sweden                   0.7350      0.612      1.202      0.230      -0.464       1.934\n",
      "country_Switzerland             -0.7252      0.499     -1.453      0.146      -1.704       0.253\n",
      "country_Taiwan                   0.6839      0.689      0.992      0.321      -0.668       2.036\n",
      "country_Thailand                -0.1572      0.591     -0.266      0.790      -1.315       1.001\n",
      "country_Turkey                  -1.0132      1.153     -0.879      0.380      -3.273       1.247\n",
      "country_UK                       0.2230      0.111      2.004      0.045       0.005       0.441\n",
      "country_USA                     -0.0505      0.104     -0.487      0.626      -0.254       0.153\n",
      "country_United Arab Emirates     0.0480      1.157      0.041      0.967      -2.220       2.316\n",
      "country_West Germany             0.0077      0.557      0.014      0.989      -1.084       1.100\n",
      "content_rating_Approved         -0.3721      0.216     -1.723      0.085      -0.796       0.051\n",
      "content_rating_G                -0.3825      0.127     -3.020      0.003      -0.631      -0.134\n",
      "content_rating_GP               -0.4878      0.388     -1.256      0.209      -1.249       0.274\n",
      "content_rating_M                -0.5109      0.451     -1.133      0.257      -1.395       0.373\n",
      "content_rating_NC-17            -0.6607      0.344     -1.923      0.055      -1.334       0.013\n",
      "content_rating_Not Rated        -0.0906      0.128     -0.707      0.479      -0.342       0.161\n",
      "content_rating_PG               -0.3945      0.100     -3.950      0.000      -0.590      -0.199\n",
      "content_rating_PG-13            -0.4695      0.099     -4.765      0.000      -0.663      -0.276\n",
      "content_rating_Passed           -0.7285      0.477     -1.529      0.126      -1.663       0.206\n",
      "content_rating_R                -0.1654      0.096     -1.720      0.086      -0.354       0.023\n",
      "content_rating_TV-14             0.9624      0.193      4.986      0.000       0.584       1.341\n",
      "content_rating_TV-G              1.0501      0.298      3.529      0.000       0.467       1.633\n",
      "content_rating_TV-MA             1.8364      0.235      7.821      0.000       1.376       2.297\n",
      "content_rating_TV-PG             1.6418      0.282      5.813      0.000       1.088       2.196\n",
      "content_rating_TV-Y              1.4413      0.809      1.782      0.075      -0.144       3.027\n",
      "content_rating_TV-Y7             1.7395      0.797      2.183      0.029       0.177       3.302\n",
      "content_rating_Unrated           0.0357      0.153      0.234      0.815      -0.264       0.336\n",
      "content_rating_X                -0.0878      0.277     -0.317      0.751      -0.631       0.455\n",
      "title_year_1916.0                0.6200      0.835      0.742      0.458      -1.018       2.258\n",
      "title_year_1920.0               -2.1370      0.833     -2.565      0.010      -3.771      -0.503\n",
      "title_year_1925.0            -5.282e-10   3.48e-10     -1.519      0.129   -1.21e-09    1.54e-10\n",
      "title_year_1927.0               -0.5082      0.869     -0.585      0.559      -2.213       1.196\n",
      "title_year_1929.0                0.1276      0.715      0.178      0.858      -1.275       1.530\n",
      "title_year_1930.0                1.3081      0.947      1.381      0.167      -0.549       3.165\n",
      "title_year_1932.0            -6.553e-10   4.32e-10     -1.519      0.129    -1.5e-09    1.91e-10\n",
      "title_year_1933.0                0.4017      0.598      0.671      0.502      -0.771       1.575\n",
      "title_year_1934.0                1.0306      0.841      1.226      0.220      -0.618       2.679\n",
      "title_year_1935.0             3.477e-11   2.29e-11      1.518      0.129   -1.01e-11    7.97e-11\n",
      "title_year_1936.0                0.8974      0.849      1.057      0.291      -0.768       2.563\n",
      "title_year_1937.0             1.762e-10   1.16e-10      1.518      0.129   -5.13e-11    4.04e-10\n",
      "title_year_1938.0                0.7137      0.616      1.159      0.247      -0.494       1.921\n",
      "title_year_1939.0                0.7747      0.628      1.234      0.217      -0.456       2.005\n",
      "title_year_1940.0                0.4601      0.388      1.185      0.236      -0.301       1.221\n",
      "title_year_1941.0                0.7120      0.849      0.839      0.402      -0.953       2.377\n",
      "title_year_1942.0                0.6281      0.595      1.056      0.291      -0.538       1.794\n",
      "title_year_1943.0                0.4472      0.947      0.472      0.637      -1.410       2.304\n",
      "title_year_1944.0                0.6248      0.947      0.660      0.509      -1.231       2.481\n",
      "title_year_1945.0                0.8809      0.696      1.265      0.206      -0.485       2.246\n",
      "title_year_1946.0                0.2996      0.485      0.618      0.537      -0.652       1.251\n",
      "title_year_1947.0                0.1473      0.613      0.240      0.810      -1.054       1.349\n",
      "title_year_1948.0                0.6445      0.614      1.051      0.294      -0.558       1.847\n",
      "title_year_1949.0                0.8403      0.611      1.374      0.169      -0.358       2.039\n",
      "title_year_1950.0                0.5257      0.948      0.555      0.579      -1.332       2.384\n",
      "title_year_1951.0                0.4637      0.501      0.926      0.354      -0.518       1.445\n",
      "title_year_1952.0                1.6409      0.604      2.719      0.007       0.458       2.824\n",
      "title_year_1953.0                0.1129      0.425      0.265      0.791      -0.721       0.947\n",
      "title_year_1954.0                0.2529      0.390      0.649      0.516      -0.511       1.017\n",
      "title_year_1955.0                0.7581      0.846      0.896      0.370      -0.901       2.417\n",
      "title_year_1956.0               -0.1810      0.593     -0.305      0.760      -1.343       0.981\n",
      "title_year_1957.0                0.5447      0.592      0.920      0.358      -0.616       1.705\n",
      "title_year_1958.0                1.2622      0.846      1.492      0.136      -0.397       2.921\n",
      "title_year_1959.0               -0.1643      0.591     -0.278      0.781      -1.324       0.995\n",
      "title_year_1960.0                0.8896      0.493      1.804      0.071      -0.077       1.856\n",
      "title_year_1961.0                0.4255      0.426      0.999      0.318      -0.410       1.261\n",
      "title_year_1962.0                0.0991      0.307      0.323      0.747      -0.502       0.700\n",
      "title_year_1963.0                0.6429      0.360      1.787      0.074      -0.062       1.348\n",
      "title_year_1964.0                0.7468      0.305      2.446      0.014       0.148       1.345\n",
      "title_year_1965.0                0.1314      0.303      0.433      0.665      -0.463       0.726\n",
      "title_year_1966.0                0.6146      0.445      1.381      0.167      -0.258       1.487\n",
      "title_year_1967.0                0.3122      0.466      0.670      0.503      -0.601       1.226\n",
      "title_year_1968.0                0.1834      0.323      0.567      0.570      -0.450       0.817\n",
      "title_year_1969.0                0.2369      0.359      0.659      0.510      -0.468       0.941\n",
      "title_year_1970.0                0.3548      0.335      1.058      0.290      -0.303       1.012\n",
      "title_year_1971.0                0.4004      0.343      1.167      0.243      -0.272       1.073\n",
      "title_year_1972.0               -0.0294      0.364     -0.081      0.936      -0.744       0.685\n",
      "title_year_1973.0                0.6541      0.304      2.149      0.032       0.057       1.251\n",
      "title_year_1974.0                0.3222      0.347      0.928      0.353      -0.358       1.003\n",
      "title_year_1975.0                0.2954      0.424      0.696      0.486      -0.536       1.127\n",
      "title_year_1976.0                0.3570      0.289      1.233      0.218      -0.211       0.924\n",
      "title_year_1977.0                0.0089      0.244      0.037      0.971      -0.470       0.488\n",
      "title_year_1978.0                0.0792      0.264      0.300      0.764      -0.438       0.596\n",
      "title_year_1979.0                0.0476      0.244      0.195      0.845      -0.430       0.526\n",
      "title_year_1980.0               -0.2686      0.217     -1.236      0.216      -0.695       0.157\n",
      "title_year_1981.0               -0.3049      0.179     -1.699      0.089      -0.657       0.047\n",
      "title_year_1982.0                0.0078      0.200      0.039      0.969      -0.384       0.400\n",
      "title_year_1983.0               -0.1714      0.230     -0.746      0.456      -0.622       0.279\n",
      "title_year_1984.0                0.0279      0.208      0.134      0.893      -0.381       0.436\n",
      "title_year_1985.0               -0.0847      0.202     -0.419      0.675      -0.481       0.311\n",
      "title_year_1986.0               -0.1820      0.198     -0.919      0.358      -0.570       0.206\n",
      "title_year_1987.0               -0.4314      0.178     -2.430      0.015      -0.779      -0.083\n",
      "title_year_1988.0               -0.1338      0.185     -0.722      0.470      -0.497       0.229\n",
      "title_year_1989.0               -0.0295      0.182     -0.162      0.871      -0.387       0.328\n",
      "title_year_1990.0                0.0736      0.192      0.382      0.702      -0.304       0.451\n",
      "title_year_1991.0               -0.3420      0.189     -1.813      0.070      -0.712       0.028\n",
      "title_year_1992.0                0.0733      0.176      0.416      0.677      -0.272       0.418\n",
      "title_year_1993.0               -0.1697      0.151     -1.123      0.262      -0.466       0.127\n",
      "title_year_1994.0               -0.2301      0.150     -1.530      0.126      -0.525       0.065\n",
      "title_year_1995.0               -0.3032      0.133     -2.283      0.022      -0.564      -0.043\n",
      "title_year_1996.0               -0.3309      0.127     -2.600      0.009      -0.580      -0.081\n",
      "title_year_1997.0               -0.4070      0.119     -3.418      0.001      -0.640      -0.174\n",
      "title_year_1998.0               -0.3625      0.113     -3.198      0.001      -0.585      -0.140\n",
      "title_year_1999.0               -0.4561      0.109     -4.186      0.000      -0.670      -0.242\n",
      "title_year_2000.0               -0.5795      0.106     -5.445      0.000      -0.788      -0.371\n",
      "title_year_2001.0               -0.5523      0.106     -5.220      0.000      -0.760      -0.345\n",
      "title_year_2002.0               -0.5545      0.104     -5.346      0.000      -0.758      -0.351\n",
      "title_year_2003.0               -0.5682      0.109     -5.233      0.000      -0.781      -0.355\n",
      "title_year_2004.0               -0.5764      0.103     -5.616      0.000      -0.778      -0.375\n",
      "title_year_2005.0               -0.5737      0.104     -5.539      0.000      -0.777      -0.371\n",
      "title_year_2006.0               -0.5869      0.100     -5.847      0.000      -0.784      -0.390\n",
      "title_year_2007.0               -0.6783      0.105     -6.436      0.000      -0.885      -0.472\n",
      "title_year_2008.0               -0.7396      0.101     -7.338      0.000      -0.937      -0.542\n",
      "title_year_2009.0               -0.6134      0.097     -6.310      0.000      -0.804      -0.423\n",
      "title_year_2010.0               -0.9185      0.104     -8.833      0.000      -1.122      -0.715\n",
      "title_year_2011.0               -1.1206      0.105    -10.672      0.000      -1.326      -0.915\n",
      "title_year_2012.0               -1.1001      0.105    -10.521      0.000      -1.305      -0.895\n",
      "title_year_2013.0               -1.0432      0.103    -10.089      0.000      -1.246      -0.841\n",
      "title_year_2014.0               -0.8828      0.101     -8.702      0.000      -1.082      -0.684\n",
      "title_year_2015.0               -1.1072      0.105    -10.540      0.000      -1.313      -0.901\n",
      "title_year_2016.0               -0.3242      0.126     -2.582      0.010      -0.570      -0.078\n",
      "primary_genre_Action            -0.0342      0.084     -0.408      0.683      -0.199       0.130\n",
      "primary_genre_Adventure          0.3489      0.091      3.832      0.000       0.170       0.527\n",
      "primary_genre_Animation          0.6149      0.145      4.237      0.000       0.330       0.899\n",
      "primary_genre_Biography          0.8334      0.099      8.441      0.000       0.640       1.027\n",
      "primary_genre_Comedy             0.2875      0.083      3.478      0.001       0.125       0.450\n",
      "primary_genre_Crime              0.4904      0.093      5.253      0.000       0.307       0.673\n",
      "primary_genre_Documentary        1.5888      0.128     12.379      0.000       1.337       1.840\n",
      "primary_genre_Drama              0.6030      0.084      7.141      0.000       0.437       0.769\n",
      "primary_genre_Family            -0.2539      0.295     -0.861      0.389      -0.832       0.324\n",
      "primary_genre_Fantasy            0.0692      0.152      0.455      0.649      -0.229       0.367\n",
      "primary_genre_Film-Noir               0          0        nan        nan           0           0\n",
      "primary_genre_Game-Show         -2.4675      0.798     -3.092      0.002      -4.032      -0.903\n",
      "primary_genre_History            2.2266      0.798      2.790      0.005       0.662       3.792\n",
      "primary_genre_Horror            -0.4012      0.099     -4.046      0.000      -0.596      -0.207\n",
      "primary_genre_Music                   0          0        nan        nan           0           0\n",
      "primary_genre_Musical            0.3520      0.585      0.602      0.547      -0.794       1.498\n",
      "primary_genre_Mystery            0.2835      0.167      1.697      0.090      -0.044       0.611\n",
      "primary_genre_Romance            0.0970      0.376      0.258      0.796      -0.640       0.834\n",
      "primary_genre_Sci-Fi             0.0652      0.317      0.206      0.837      -0.556       0.687\n",
      "primary_genre_Thriller          -0.4538      0.233     -1.948      0.052      -0.911       0.003\n",
      "primary_genre_Western            0.1070      0.279      0.383      0.701      -0.440       0.654\n",
      "==============================================================================\n",
      "Omnibus:                      693.534   Durbin-Watson:                   2.039\n",
      "Prob(Omnibus):                  0.000   Jarque-Bera (JB):             1894.966\n",
      "Skew:                          -0.928   Prob(JB):                         0.00\n",
      "Kurtosis:                       5.817   Cond. No.                     1.40e+25\n",
      "==============================================================================\n",
      "\n",
      "Warnings:\n",
      "[1] Standard Errors assume that the covariance matrix of the errors is correctly specified.\n",
      "[2] The smallest eigenvalue is 8.87e-31. This might indicate that there are\n",
      "strong multicollinearity problems or that the design matrix is singular.\n"
     ]
    }
   ],
   "source": [
    "dummy=df_movies.select_dtypes(include=\"object\").drop(columns=[\"movie_title\"])\n",
    "dummy1=pd.get_dummies(dummy[dummy.columns])\n",
    "num=df_movies.select_dtypes(include=\"number\").drop(columns=[\"imdb_score\"])\n",
    "X=pd.concat([num,dummy1],axis=1)\n",
    "X=sm.add_constant(X)\n",
    "y=df_movies[\"imdb_score\"]\n",
    "X_train, X_test, y_train, y_test = train_test_split(X, y, random_state = 10, test_size = 0.2)\n",
    "ols_all=sm.OLS(y_train,X_train).fit()\n",
    "print(ols_all.summary())"
   ]
  },
  {
   "cell_type": "code",
   "execution_count": 65,
   "metadata": {
    "scrolled": true
   },
   "outputs": [
    {
     "data": {
      "text/html": [
       "<div>\n",
       "<style scoped>\n",
       "    .dataframe tbody tr th:only-of-type {\n",
       "        vertical-align: middle;\n",
       "    }\n",
       "\n",
       "    .dataframe tbody tr th {\n",
       "        vertical-align: top;\n",
       "    }\n",
       "\n",
       "    .dataframe thead th {\n",
       "        text-align: right;\n",
       "    }\n",
       "</style>\n",
       "<table border=\"1\" class=\"dataframe\">\n",
       "  <thead>\n",
       "    <tr style=\"text-align: right;\">\n",
       "      <th></th>\n",
       "      <th>Model_Name</th>\n",
       "      <th>Alpha</th>\n",
       "      <th>l1-ratio</th>\n",
       "      <th>R-Squared</th>\n",
       "      <th>Adj. R-Squared</th>\n",
       "      <th>Train_RMSE</th>\n",
       "      <th>Test_RMSE</th>\n",
       "      <th>Test_MAPE</th>\n",
       "    </tr>\n",
       "  </thead>\n",
       "  <tbody>\n",
       "    <tr>\n",
       "      <th>0</th>\n",
       "      <td>Simple full OLS model</td>\n",
       "      <td>-</td>\n",
       "      <td>-</td>\n",
       "      <td>0.479434</td>\n",
       "      <td>0.444387</td>\n",
       "      <td>0.8115</td>\n",
       "      <td>0.8611</td>\n",
       "      <td>11.398791</td>\n",
       "    </tr>\n",
       "  </tbody>\n",
       "</table>\n",
       "</div>"
      ],
      "text/plain": [
       "              Model_Name Alpha l1-ratio  R-Squared  Adj. R-Squared  \\\n",
       "0  Simple full OLS model     -        -   0.479434        0.444387   \n",
       "\n",
       "   Train_RMSE  Test_RMSE  Test_MAPE  \n",
       "0      0.8115     0.8611  11.398791  "
      ]
     },
     "execution_count": 65,
     "metadata": {},
     "output_type": "execute_result"
    }
   ],
   "source": [
    "linear_reg=LinearRegression()\n",
    "ols_all_linreg=linear_reg.fit(X_train, y_train)\n",
    "update_score_card(\"Simple full OLS model\",ols_all_linreg,X_train,X_test)"
   ]
  },
  {
   "cell_type": "markdown",
   "metadata": {},
   "source": [
    "### Interpretation:\n",
    "\n",
    "**Model explains about 48% of the variance in the dependent variable by the predictor variables.**\n",
    "\n",
    "**There is no auto-correlation as the Durbib-Watson test value is 2.**\n",
    "\n",
    "**Since the p(JB)<0.05, the residuals are not normally distributed.**\n",
    "\n",
    "**Presence of severe multicollinearity**"
   ]
  },
  {
   "cell_type": "markdown",
   "metadata": {},
   "source": [
    "# Model 2: OLS  model with significant variables"
   ]
  },
  {
   "cell_type": "markdown",
   "metadata": {},
   "source": [
    "**Here we will take the significant numerical and object features based on the p_values from the full model**"
   ]
  },
  {
   "cell_type": "code",
   "execution_count": 66,
   "metadata": {},
   "outputs": [],
   "source": [
    "d = ols_all.pvalues[ols_all.pvalues<0.05].index.tolist()"
   ]
  },
  {
   "cell_type": "code",
   "execution_count": 67,
   "metadata": {
    "scrolled": false
   },
   "outputs": [
    {
     "name": "stdout",
     "output_type": "stream",
     "text": [
      "                            OLS Regression Results                            \n",
      "==============================================================================\n",
      "Dep. Variable:             imdb_score   R-squared:                       0.461\n",
      "Model:                            OLS   Adj. R-squared:                  0.453\n",
      "Method:                 Least Squares   F-statistic:                     55.20\n",
      "Date:                Tue, 23 Feb 2021   Prob (F-statistic):               0.00\n",
      "Time:                        08:34:44   Log-Likelihood:                -4904.1\n",
      "No. Observations:                3996   AIC:                             9932.\n",
      "Df Residuals:                    3934   BIC:                         1.032e+04\n",
      "Df Model:                          61                                         \n",
      "Covariance Type:            nonrobust                                         \n",
      "=============================================================================================\n",
      "                                coef    std err          t      P>|t|      [0.025      0.975]\n",
      "---------------------------------------------------------------------------------------------\n",
      "const                         4.3551      0.071     61.558      0.000       4.216       4.494\n",
      "num_critic_for_reviews        0.0031      0.000     17.923      0.000       0.003       0.003\n",
      "duration                      0.0046      0.001      7.302      0.000       0.003       0.006\n",
      "num_voted_users            3.021e-06   1.73e-07     17.512      0.000    2.68e-06    3.36e-06\n",
      "num_user_for_reviews         -0.0005   6.75e-05     -7.800      0.000      -0.001      -0.000\n",
      "aspect_ratio                  0.0296      0.012      2.571      0.010       0.007       0.052\n",
      "color_ Black and White        2.3487      0.054     43.852      0.000       2.244       2.454\n",
      "color_Color                   2.0064      0.043     46.305      0.000       1.921       2.091\n",
      "language_Bosnian             -2.6184      0.837     -3.130      0.002      -4.258      -0.978\n",
      "language_English             -0.7420      0.056    -13.299      0.000      -0.851      -0.633\n",
      "language_Korean               1.4770      0.531      2.781      0.005       0.436       2.518\n",
      "language_Telugu               2.2324      0.837      2.667      0.008       0.591       3.874\n",
      "country_Bahamas              -1.6980      0.835     -2.034      0.042      -3.335      -0.061\n",
      "country_Kyrgyzstan            3.5439      0.835      4.242      0.000       1.906       5.182\n",
      "country_New Line             -1.6713      0.835     -2.001      0.045      -3.309      -0.034\n",
      "country_New Zealand           0.7321      0.255      2.868      0.004       0.232       1.233\n",
      "country_South Korea          -1.4634      0.374     -3.914      0.000      -2.196      -0.730\n",
      "country_UK                    0.2719      0.046      5.885      0.000       0.181       0.363\n",
      "content_rating_G             -0.2097      0.096     -2.180      0.029      -0.398      -0.021\n",
      "content_rating_PG            -0.2684      0.043     -6.248      0.000      -0.353      -0.184\n",
      "content_rating_PG-13         -0.3303      0.032    -10.250      0.000      -0.393      -0.267\n",
      "content_rating_TV-14          1.1374      0.185      6.158      0.000       0.775       1.500\n",
      "content_rating_TV-G           1.1647      0.300      3.886      0.000       0.577       1.752\n",
      "content_rating_TV-MA          2.0139      0.224      8.978      0.000       1.574       2.454\n",
      "content_rating_TV-PG          1.7767      0.286      6.211      0.000       1.216       2.337\n",
      "content_rating_TV-Y7          1.8543      0.836      2.219      0.027       0.216       3.493\n",
      "title_year_1920.0            -2.2274      0.836     -2.663      0.008      -3.867      -0.588\n",
      "title_year_1952.0             1.3034      0.591      2.207      0.027       0.145       2.461\n",
      "title_year_1964.0             0.5481      0.298      1.840      0.066      -0.036       1.132\n",
      "title_year_1973.0             0.7022      0.297      2.364      0.018       0.120       1.285\n",
      "title_year_1987.0            -0.3935      0.162     -2.429      0.015      -0.711      -0.076\n",
      "title_year_1995.0            -0.3102      0.112     -2.768      0.006      -0.530      -0.090\n",
      "title_year_1996.0            -0.3286      0.105     -3.122      0.002      -0.535      -0.122\n",
      "title_year_1997.0            -0.3947      0.095     -4.147      0.000      -0.581      -0.208\n",
      "title_year_1998.0            -0.3627      0.089     -4.088      0.000      -0.537      -0.189\n",
      "title_year_1999.0            -0.4436      0.083     -5.336      0.000      -0.607      -0.281\n",
      "title_year_2000.0            -0.5692      0.080     -7.100      0.000      -0.726      -0.412\n",
      "title_year_2001.0            -0.5484      0.079     -6.904      0.000      -0.704      -0.393\n",
      "title_year_2002.0            -0.5488      0.077     -7.169      0.000      -0.699      -0.399\n",
      "title_year_2003.0            -0.5559      0.083     -6.687      0.000      -0.719      -0.393\n",
      "title_year_2004.0            -0.5572      0.075     -7.390      0.000      -0.705      -0.409\n",
      "title_year_2005.0            -0.5763      0.075     -7.634      0.000      -0.724      -0.428\n",
      "title_year_2006.0            -0.5854      0.072     -8.102      0.000      -0.727      -0.444\n",
      "title_year_2007.0            -0.6515      0.078     -8.311      0.000      -0.805      -0.498\n",
      "title_year_2008.0            -0.7349      0.073    -10.117      0.000      -0.877      -0.592\n",
      "title_year_2009.0            -0.5913      0.068     -8.738      0.000      -0.724      -0.459\n",
      "title_year_2010.0            -0.9047      0.077    -11.800      0.000      -1.055      -0.754\n",
      "title_year_2011.0            -1.0882      0.079    -13.851      0.000      -1.242      -0.934\n",
      "title_year_2012.0            -1.0863      0.079    -13.784      0.000      -1.241      -0.932\n",
      "title_year_2013.0            -1.0227      0.076    -13.436      0.000      -1.172      -0.873\n",
      "title_year_2014.0            -0.8676      0.073    -11.855      0.000      -1.011      -0.724\n",
      "title_year_2015.0            -1.0881      0.077    -14.201      0.000      -1.238      -0.938\n",
      "title_year_2016.0            -0.3094      0.101     -3.052      0.002      -0.508      -0.111\n",
      "primary_genre_Adventure       0.3618      0.054      6.737      0.000       0.257       0.467\n",
      "primary_genre_Animation       0.6639      0.128      5.193      0.000       0.413       0.915\n",
      "primary_genre_Biography       0.8549      0.066     13.034      0.000       0.726       0.983\n",
      "primary_genre_Comedy          0.3097      0.038      8.045      0.000       0.234       0.385\n",
      "primary_genre_Crime           0.5201      0.058      8.973      0.000       0.406       0.634\n",
      "primary_genre_Documentary     1.6425      0.107     15.312      0.000       1.432       1.853\n",
      "primary_genre_Drama           0.6497      0.041     15.900      0.000       0.570       0.730\n",
      "primary_genre_Game-Show      -2.4840      0.835     -2.976      0.003      -4.121      -0.847\n",
      "primary_genre_History         2.2248      0.835      2.665      0.008       0.588       3.862\n",
      "primary_genre_Horror         -0.3883      0.069     -5.640      0.000      -0.523      -0.253\n",
      "==============================================================================\n",
      "Omnibus:                      676.854   Durbin-Watson:                   2.030\n",
      "Prob(Omnibus):                  0.000   Jarque-Bera (JB):             1736.898\n",
      "Skew:                          -0.928   Prob(JB):                         0.00\n",
      "Kurtosis:                       5.643   Cond. No.                     5.37e+17\n",
      "==============================================================================\n",
      "\n",
      "Warnings:\n",
      "[1] Standard Errors assume that the covariance matrix of the errors is correctly specified.\n",
      "[2] The smallest eigenvalue is 3.63e-22. This might indicate that there are\n",
      "strong multicollinearity problems or that the design matrix is singular.\n"
     ]
    }
   ],
   "source": [
    "dummy=df_movies.select_dtypes(include=\"object\").drop(columns=[\"movie_title\"])\n",
    "dummy1=pd.get_dummies(dummy[dummy.columns])\n",
    "num=df_movies.select_dtypes(include=\"number\").drop(columns=[\"imdb_score\"])\n",
    "X=pd.concat([num,dummy1],axis=1)\n",
    "X=sm.add_constant(X)\n",
    "X=X[d]\n",
    "y=df_movies[\"imdb_score\"]\n",
    "X_train, X_test, y_train, y_test = train_test_split(X, y, random_state = 10, test_size = 0.2)\n",
    "ols_significant=sm.OLS(y_train,X_train).fit()\n",
    "print(ols_significant.summary())"
   ]
  },
  {
   "cell_type": "code",
   "execution_count": 68,
   "metadata": {},
   "outputs": [
    {
     "data": {
      "text/html": [
       "<div>\n",
       "<style scoped>\n",
       "    .dataframe tbody tr th:only-of-type {\n",
       "        vertical-align: middle;\n",
       "    }\n",
       "\n",
       "    .dataframe tbody tr th {\n",
       "        vertical-align: top;\n",
       "    }\n",
       "\n",
       "    .dataframe thead th {\n",
       "        text-align: right;\n",
       "    }\n",
       "</style>\n",
       "<table border=\"1\" class=\"dataframe\">\n",
       "  <thead>\n",
       "    <tr style=\"text-align: right;\">\n",
       "      <th></th>\n",
       "      <th>Model_Name</th>\n",
       "      <th>Alpha</th>\n",
       "      <th>l1-ratio</th>\n",
       "      <th>R-Squared</th>\n",
       "      <th>Adj. R-Squared</th>\n",
       "      <th>Train_RMSE</th>\n",
       "      <th>Test_RMSE</th>\n",
       "      <th>Test_MAPE</th>\n",
       "    </tr>\n",
       "  </thead>\n",
       "  <tbody>\n",
       "    <tr>\n",
       "      <th>0</th>\n",
       "      <td>Simple full OLS model</td>\n",
       "      <td>-</td>\n",
       "      <td>-</td>\n",
       "      <td>0.479434</td>\n",
       "      <td>0.444387</td>\n",
       "      <td>0.8115</td>\n",
       "      <td>0.8611</td>\n",
       "      <td>11.398791</td>\n",
       "    </tr>\n",
       "    <tr>\n",
       "      <th>1</th>\n",
       "      <td>OLS model with significant variables</td>\n",
       "      <td>-</td>\n",
       "      <td>-</td>\n",
       "      <td>0.461188</td>\n",
       "      <td>0.452555</td>\n",
       "      <td>0.8256</td>\n",
       "      <td>0.8564</td>\n",
       "      <td>11.363497</td>\n",
       "    </tr>\n",
       "  </tbody>\n",
       "</table>\n",
       "</div>"
      ],
      "text/plain": [
       "                             Model_Name Alpha l1-ratio  R-Squared  \\\n",
       "0                 Simple full OLS model     -        -   0.479434   \n",
       "1  OLS model with significant variables     -        -   0.461188   \n",
       "\n",
       "   Adj. R-Squared  Train_RMSE  Test_RMSE  Test_MAPE  \n",
       "0        0.444387      0.8115     0.8611  11.398791  \n",
       "1        0.452555      0.8256     0.8564  11.363497  "
      ]
     },
     "execution_count": 68,
     "metadata": {},
     "output_type": "execute_result"
    }
   ],
   "source": [
    "linear_reg=LinearRegression()\n",
    "ols_significant_linreg=linear_reg.fit(X_train, y_train)\n",
    "update_score_card(\"OLS model with significant variables\",ols_significant_linreg,X_train,X_test)"
   ]
  },
  {
   "cell_type": "markdown",
   "metadata": {},
   "source": [
    "# Non-multicollinearity check using VIF factor"
   ]
  },
  {
   "cell_type": "code",
   "execution_count": 69,
   "metadata": {},
   "outputs": [
    {
     "data": {
      "text/html": [
       "<div>\n",
       "<style scoped>\n",
       "    .dataframe tbody tr th:only-of-type {\n",
       "        vertical-align: middle;\n",
       "    }\n",
       "\n",
       "    .dataframe tbody tr th {\n",
       "        vertical-align: top;\n",
       "    }\n",
       "\n",
       "    .dataframe thead th {\n",
       "        text-align: right;\n",
       "    }\n",
       "</style>\n",
       "<table border=\"1\" class=\"dataframe\">\n",
       "  <thead>\n",
       "    <tr style=\"text-align: right;\">\n",
       "      <th></th>\n",
       "      <th>VIF_Factor</th>\n",
       "      <th>Features</th>\n",
       "    </tr>\n",
       "  </thead>\n",
       "  <tbody>\n",
       "    <tr>\n",
       "      <th>0</th>\n",
       "      <td>4.812984</td>\n",
       "      <td>duration</td>\n",
       "    </tr>\n",
       "    <tr>\n",
       "      <th>1</th>\n",
       "      <td>4.583948</td>\n",
       "      <td>num_voted_users</td>\n",
       "    </tr>\n",
       "    <tr>\n",
       "      <th>2</th>\n",
       "      <td>4.515385</td>\n",
       "      <td>num_user_for_reviews</td>\n",
       "    </tr>\n",
       "    <tr>\n",
       "      <th>3</th>\n",
       "      <td>4.038856</td>\n",
       "      <td>num_critic_for_reviews</td>\n",
       "    </tr>\n",
       "    <tr>\n",
       "      <th>4</th>\n",
       "      <td>3.115138</td>\n",
       "      <td>aspect_ratio</td>\n",
       "    </tr>\n",
       "    <tr>\n",
       "      <th>5</th>\n",
       "      <td>2.619696</td>\n",
       "      <td>gross</td>\n",
       "    </tr>\n",
       "    <tr>\n",
       "      <th>6</th>\n",
       "      <td>1.057657</td>\n",
       "      <td>budget</td>\n",
       "    </tr>\n",
       "  </tbody>\n",
       "</table>\n",
       "</div>"
      ],
      "text/plain": [
       "   VIF_Factor                Features\n",
       "0    4.812984                duration\n",
       "1    4.583948         num_voted_users\n",
       "2    4.515385    num_user_for_reviews\n",
       "3    4.038856  num_critic_for_reviews\n",
       "4    3.115138            aspect_ratio\n",
       "5    2.619696                   gross\n",
       "6    1.057657                  budget"
      ]
     },
     "execution_count": 69,
     "metadata": {},
     "output_type": "execute_result"
    }
   ],
   "source": [
    "from statsmodels.stats.outliers_influence import variance_inflation_factor\n",
    "\n",
    "df_numeric_features_vif = df_movies.drop(columns=\"imdb_score\").select_dtypes(include=[np.number])\n",
    "vif = pd.DataFrame()\n",
    "vif[\"VIF_Factor\"] = [variance_inflation_factor(df_numeric_features_vif.values, i) for i in range(df_numeric_features_vif.shape[1])]\n",
    "vif[\"Features\"] = df_numeric_features_vif.columns\n",
    "vif.sort_values('VIF_Factor', ascending = False).reset_index(drop = True)"
   ]
  },
  {
   "cell_type": "code",
   "execution_count": 70,
   "metadata": {},
   "outputs": [
    {
     "name": "stdout",
     "output_type": "stream",
     "text": [
      "   VIF_Factor                Features\n",
      "0    4.038856  num_critic_for_reviews\n",
      "1    4.812984                duration\n",
      "2    2.619696                   gross\n",
      "3    4.583948         num_voted_users\n",
      "4    4.515385    num_user_for_reviews\n",
      "5    1.057657                  budget\n",
      "6    3.115138            aspect_ratio\n"
     ]
    }
   ],
   "source": [
    "for ind in range(len(df_numeric_features_vif.columns)):\n",
    "    vif = pd.DataFrame()\n",
    "    vif[\"VIF_Factor\"] = [variance_inflation_factor(df_numeric_features_vif.values, i) for i in range(df_numeric_features_vif.shape[1])]\n",
    "    vif[\"Features\"] = df_numeric_features_vif.columns\n",
    "    vif.sort_values(\"VIF_Factor\",ascending=False)\n",
    "    multi = vif[vif['VIF_Factor'] > 10]\n",
    "    if(multi.empty == False):\n",
    "        df_sorted = multi.sort_values(by = 'VIF_Factor', ascending = False)\n",
    "    else:\n",
    "        print(vif)\n",
    "        break\n",
    "    if (df_sorted.empty == False):\n",
    "        df_numeric_features_vif = df_numeric_features_vif.drop(df_sorted.Features, axis=1)\n",
    "    else:\n",
    "        print(vif)"
   ]
  },
  {
   "cell_type": "markdown",
   "metadata": {},
   "source": [
    "# Model 3: OLS model with non-multicollinear features"
   ]
  },
  {
   "cell_type": "code",
   "execution_count": 71,
   "metadata": {},
   "outputs": [],
   "source": [
    "df_num=df_movies.select_dtypes(include=\"number\").columns\n",
    "num_significant_cols=[];cat_significant_cols=[]\n",
    "\n",
    "for i in d:\n",
    "    if i in df_num:\n",
    "        num_significant_cols.append(i)\n",
    "    else:\n",
    "        cat_significant_cols.append(i)"
   ]
  },
  {
   "cell_type": "code",
   "execution_count": 72,
   "metadata": {
    "scrolled": true
   },
   "outputs": [
    {
     "name": "stdout",
     "output_type": "stream",
     "text": [
      "                            OLS Regression Results                            \n",
      "==============================================================================\n",
      "Dep. Variable:             imdb_score   R-squared:                       0.462\n",
      "Model:                            OLS   Adj. R-squared:                  0.454\n",
      "Method:                 Least Squares   F-statistic:                     53.63\n",
      "Date:                Tue, 23 Feb 2021   Prob (F-statistic):               0.00\n",
      "Time:                        08:34:44   Log-Likelihood:                -4900.5\n",
      "No. Observations:                3996   AIC:                             9929.\n",
      "Df Residuals:                    3932   BIC:                         1.033e+04\n",
      "Df Model:                          63                                         \n",
      "Covariance Type:            nonrobust                                         \n",
      "=============================================================================================\n",
      "                                coef    std err          t      P>|t|      [0.025      0.975]\n",
      "---------------------------------------------------------------------------------------------\n",
      "const                         4.3481      0.071     61.421      0.000       4.209       4.487\n",
      "num_critic_for_reviews        0.0032      0.000     18.127      0.000       0.003       0.004\n",
      "duration                      0.0047      0.001      7.448      0.000       0.003       0.006\n",
      "gross                     -6.171e-10   3.11e-10     -1.982      0.048   -1.23e-09   -6.78e-12\n",
      "num_voted_users            3.126e-06   1.81e-07     17.278      0.000    2.77e-06    3.48e-06\n",
      "num_user_for_reviews         -0.0005   6.79e-05     -7.519      0.000      -0.001      -0.000\n",
      "budget                    -1.181e-10   7.21e-11     -1.637      0.102   -2.59e-10    2.33e-11\n",
      "aspect_ratio                  0.0300      0.012      2.608      0.009       0.007       0.053\n",
      "color_ Black and White        2.3416      0.054     43.661      0.000       2.236       2.447\n",
      "color_Color                   2.0065      0.043     46.336      0.000       1.922       2.091\n",
      "language_Bosnian             -2.6152      0.836     -3.128      0.002      -4.254      -0.976\n",
      "language_English             -0.7375      0.056    -13.179      0.000      -0.847      -0.628\n",
      "language_Korean               1.7543      0.558      3.146      0.002       0.661       2.848\n",
      "language_Telugu               2.2064      0.837      2.637      0.008       0.566       3.847\n",
      "country_Bahamas              -1.6823      0.834     -2.016      0.044      -3.318      -0.047\n",
      "country_Kyrgyzstan            3.5295      0.835      4.227      0.000       1.893       5.166\n",
      "country_New Line             -1.6634      0.835     -1.993      0.046      -3.300      -0.027\n",
      "country_New Zealand           0.7386      0.255      2.895      0.004       0.238       1.239\n",
      "country_South Korea          -1.4749      0.374     -3.947      0.000      -2.208      -0.742\n",
      "country_UK                    0.2623      0.046      5.654      0.000       0.171       0.353\n",
      "content_rating_G             -0.1861      0.097     -1.923      0.055      -0.376       0.004\n",
      "content_rating_PG            -0.2442      0.044     -5.513      0.000      -0.331      -0.157\n",
      "content_rating_PG-13         -0.3143      0.033     -9.541      0.000      -0.379      -0.250\n",
      "content_rating_TV-14          1.1478      0.185      6.217      0.000       0.786       1.510\n",
      "content_rating_TV-G           1.1799      0.300      3.938      0.000       0.593       1.767\n",
      "content_rating_TV-MA          2.0219      0.224      9.018      0.000       1.582       2.461\n",
      "content_rating_TV-PG          1.7890      0.286      6.257      0.000       1.228       2.350\n",
      "content_rating_TV-Y7          1.8664      0.835      2.235      0.025       0.229       3.504\n",
      "title_year_1920.0            -2.2135      0.836     -2.648      0.008      -3.852      -0.575\n",
      "title_year_1952.0             1.2766      0.590      2.162      0.031       0.119       2.434\n",
      "title_year_1964.0             0.5501      0.298      1.848      0.065      -0.033       1.134\n",
      "title_year_1973.0             0.7122      0.297      2.398      0.017       0.130       1.294\n",
      "title_year_1987.0            -0.3961      0.162     -2.447      0.014      -0.714      -0.079\n",
      "title_year_1995.0            -0.3088      0.112     -2.757      0.006      -0.528      -0.089\n",
      "title_year_1996.0            -0.3208      0.105     -3.049      0.002      -0.527      -0.115\n",
      "title_year_1997.0            -0.3875      0.095     -4.073      0.000      -0.574      -0.201\n",
      "title_year_1998.0            -0.3626      0.089     -4.088      0.000      -0.536      -0.189\n",
      "title_year_1999.0            -0.4475      0.083     -5.382      0.000      -0.611      -0.284\n",
      "title_year_2000.0            -0.5715      0.080     -7.132      0.000      -0.729      -0.414\n",
      "title_year_2001.0            -0.5512      0.079     -6.941      0.000      -0.707      -0.396\n",
      "title_year_2002.0            -0.5482      0.077     -7.166      0.000      -0.698      -0.398\n",
      "title_year_2003.0            -0.5596      0.083     -6.735      0.000      -0.722      -0.397\n",
      "title_year_2004.0            -0.5649      0.075     -7.487      0.000      -0.713      -0.417\n",
      "title_year_2005.0            -0.5818      0.075     -7.707      0.000      -0.730      -0.434\n",
      "title_year_2006.0            -0.5839      0.072     -8.067      0.000      -0.726      -0.442\n",
      "title_year_2007.0            -0.6550      0.078     -8.359      0.000      -0.809      -0.501\n",
      "title_year_2008.0            -0.7399      0.073    -10.185      0.000      -0.882      -0.597\n",
      "title_year_2009.0            -0.5915      0.068     -8.746      0.000      -0.724      -0.459\n",
      "title_year_2010.0            -0.9093      0.077    -11.862      0.000      -1.060      -0.759\n",
      "title_year_2011.0            -1.0957      0.079    -13.943      0.000      -1.250      -0.942\n",
      "title_year_2012.0            -1.0903      0.079    -13.841      0.000      -1.245      -0.936\n",
      "title_year_2013.0            -1.0258      0.076    -13.485      0.000      -1.175      -0.877\n",
      "title_year_2014.0            -0.8669      0.073    -11.853      0.000      -1.010      -0.724\n",
      "title_year_2015.0            -1.0811      0.077    -14.103      0.000      -1.231      -0.931\n",
      "title_year_2016.0            -0.2978      0.102     -2.932      0.003      -0.497      -0.099\n",
      "primary_genre_Adventure       0.3666      0.054      6.825      0.000       0.261       0.472\n",
      "primary_genre_Animation       0.6734      0.128      5.267      0.000       0.423       0.924\n",
      "primary_genre_Biography       0.8410      0.066     12.783      0.000       0.712       0.970\n",
      "primary_genre_Comedy          0.3052      0.039      7.921      0.000       0.230       0.381\n",
      "primary_genre_Crime           0.5062      0.058      8.693      0.000       0.392       0.620\n",
      "primary_genre_Documentary     1.6347      0.107     15.242      0.000       1.424       1.845\n",
      "primary_genre_Drama           0.6363      0.041     15.446      0.000       0.556       0.717\n",
      "primary_genre_Game-Show      -2.4736      0.834     -2.965      0.003      -4.109      -0.838\n",
      "primary_genre_History         2.2192      0.834      2.659      0.008       0.583       3.855\n",
      "primary_genre_Horror         -0.3977      0.069     -5.773      0.000      -0.533      -0.263\n",
      "==============================================================================\n",
      "Omnibus:                      687.821   Durbin-Watson:                   2.031\n",
      "Prob(Omnibus):                  0.000   Jarque-Bera (JB):             1780.625\n",
      "Skew:                          -0.939   Prob(JB):                         0.00\n",
      "Kurtosis:                       5.677   Cond. No.                     4.78e+17\n",
      "==============================================================================\n",
      "\n",
      "Warnings:\n",
      "[1] Standard Errors assume that the covariance matrix of the errors is correctly specified.\n",
      "[2] The smallest eigenvalue is 7.6e-16. This might indicate that there are\n",
      "strong multicollinearity problems or that the design matrix is singular.\n"
     ]
    }
   ],
   "source": [
    "dummy=df_movies.select_dtypes(include=\"object\").drop(columns=[\"movie_title\"])\n",
    "dummy1=pd.get_dummies(dummy[dummy.columns])\n",
    "cat_significant_cols.remove('const')\n",
    "dummy1=dummy1[cat_significant_cols]\n",
    "X=pd.concat([df_movies[vif.Features.tolist()],dummy1],axis=1)\n",
    "X=sm.add_constant(X)\n",
    "y=df_movies[\"imdb_score\"]\n",
    "\n",
    "X_train, X_test, y_train, y_test = train_test_split(X, y, random_state = 10, test_size = 0.2)\n",
    "OLS_vif=sm.OLS(y_train,X_train).fit()\n",
    "print(OLS_vif.summary())"
   ]
  },
  {
   "cell_type": "code",
   "execution_count": 73,
   "metadata": {
    "scrolled": true
   },
   "outputs": [
    {
     "data": {
      "text/html": [
       "<div>\n",
       "<style scoped>\n",
       "    .dataframe tbody tr th:only-of-type {\n",
       "        vertical-align: middle;\n",
       "    }\n",
       "\n",
       "    .dataframe tbody tr th {\n",
       "        vertical-align: top;\n",
       "    }\n",
       "\n",
       "    .dataframe thead th {\n",
       "        text-align: right;\n",
       "    }\n",
       "</style>\n",
       "<table border=\"1\" class=\"dataframe\">\n",
       "  <thead>\n",
       "    <tr style=\"text-align: right;\">\n",
       "      <th></th>\n",
       "      <th>Model_Name</th>\n",
       "      <th>Alpha</th>\n",
       "      <th>l1-ratio</th>\n",
       "      <th>R-Squared</th>\n",
       "      <th>Adj. R-Squared</th>\n",
       "      <th>Train_RMSE</th>\n",
       "      <th>Test_RMSE</th>\n",
       "      <th>Test_MAPE</th>\n",
       "    </tr>\n",
       "  </thead>\n",
       "  <tbody>\n",
       "    <tr>\n",
       "      <th>0</th>\n",
       "      <td>Simple full OLS model</td>\n",
       "      <td>-</td>\n",
       "      <td>-</td>\n",
       "      <td>0.479434</td>\n",
       "      <td>0.444387</td>\n",
       "      <td>0.8115</td>\n",
       "      <td>0.8611</td>\n",
       "      <td>11.398791</td>\n",
       "    </tr>\n",
       "    <tr>\n",
       "      <th>1</th>\n",
       "      <td>OLS model with significant variables</td>\n",
       "      <td>-</td>\n",
       "      <td>-</td>\n",
       "      <td>0.461188</td>\n",
       "      <td>0.452555</td>\n",
       "      <td>0.8256</td>\n",
       "      <td>0.8564</td>\n",
       "      <td>11.363497</td>\n",
       "    </tr>\n",
       "    <tr>\n",
       "      <th>2</th>\n",
       "      <td>OLS model with non-multicollinear features</td>\n",
       "      <td>-</td>\n",
       "      <td>-</td>\n",
       "      <td>0.462149</td>\n",
       "      <td>0.453253</td>\n",
       "      <td>0.8248</td>\n",
       "      <td>0.8538</td>\n",
       "      <td>11.326303</td>\n",
       "    </tr>\n",
       "  </tbody>\n",
       "</table>\n",
       "</div>"
      ],
      "text/plain": [
       "                                   Model_Name Alpha l1-ratio  R-Squared  \\\n",
       "0                       Simple full OLS model     -        -   0.479434   \n",
       "1        OLS model with significant variables     -        -   0.461188   \n",
       "2  OLS model with non-multicollinear features     -        -   0.462149   \n",
       "\n",
       "   Adj. R-Squared  Train_RMSE  Test_RMSE  Test_MAPE  \n",
       "0        0.444387      0.8115     0.8611  11.398791  \n",
       "1        0.452555      0.8256     0.8564  11.363497  \n",
       "2        0.453253      0.8248     0.8538  11.326303  "
      ]
     },
     "execution_count": 73,
     "metadata": {},
     "output_type": "execute_result"
    }
   ],
   "source": [
    "linear_reg=LinearRegression()\n",
    "ols_nonmulticollinear_linreg_std=linear_reg.fit(X_train, y_train)\n",
    "update_score_card(\"OLS model with non-multicollinear features\",ols_nonmulticollinear_linreg_std,X_train,X_test)"
   ]
  },
  {
   "cell_type": "markdown",
   "metadata": {},
   "source": [
    "# Model 4: OLS model scaled(Normalised)"
   ]
  },
  {
   "cell_type": "code",
   "execution_count": 101,
   "metadata": {
    "scrolled": true
   },
   "outputs": [
    {
     "name": "stdout",
     "output_type": "stream",
     "text": [
      "                            OLS Regression Results                            \n",
      "==============================================================================\n",
      "Dep. Variable:             imdb_score   R-squared:                       0.461\n",
      "Model:                            OLS   Adj. R-squared:                  0.453\n",
      "Method:                 Least Squares   F-statistic:                     55.20\n",
      "Date:                Tue, 23 Feb 2021   Prob (F-statistic):               0.00\n",
      "Time:                        10:14:01   Log-Likelihood:                -4904.1\n",
      "No. Observations:                3996   AIC:                             9932.\n",
      "Df Residuals:                    3934   BIC:                         1.032e+04\n",
      "Df Model:                          61                                         \n",
      "Covariance Type:            nonrobust                                         \n",
      "=============================================================================================\n",
      "                                coef    std err          t      P>|t|      [0.025      0.975]\n",
      "---------------------------------------------------------------------------------------------\n",
      "const                         4.4015      0.068     65.003      0.000       4.269       4.534\n",
      "num_critic_for_reviews        2.5415      0.142     17.923      0.000       2.263       2.820\n",
      "duration                      2.3074      0.316      7.302      0.000       1.688       2.927\n",
      "num_voted_users               5.1047      0.292     17.512      0.000       4.533       5.676\n",
      "num_user_for_reviews         -2.6631      0.341     -7.800      0.000      -3.332      -1.994\n",
      "aspect_ratio                  0.4385      0.171      2.571      0.010       0.104       0.773\n",
      "color_ Black and White        2.3719      0.053     45.051      0.000       2.269       2.475\n",
      "color_Color                   2.0296      0.042     48.323      0.000       1.947       2.112\n",
      "language_Bosnian             -2.6184      0.837     -3.130      0.002      -4.258      -0.978\n",
      "language_English             -0.7420      0.056    -13.299      0.000      -0.851      -0.633\n",
      "language_Korean               1.4770      0.531      2.781      0.005       0.436       2.518\n",
      "language_Telugu               2.2324      0.837      2.667      0.008       0.591       3.874\n",
      "country_Bahamas              -1.6980      0.835     -2.034      0.042      -3.335      -0.061\n",
      "country_Kyrgyzstan            3.5439      0.835      4.242      0.000       1.906       5.182\n",
      "country_New Line             -1.6713      0.835     -2.001      0.045      -3.309      -0.034\n",
      "country_New Zealand           0.7321      0.255      2.868      0.004       0.232       1.233\n",
      "country_South Korea          -1.4634      0.374     -3.914      0.000      -2.196      -0.730\n",
      "country_UK                    0.2719      0.046      5.885      0.000       0.181       0.363\n",
      "content_rating_G             -0.2097      0.096     -2.180      0.029      -0.398      -0.021\n",
      "content_rating_PG            -0.2684      0.043     -6.248      0.000      -0.353      -0.184\n",
      "content_rating_PG-13         -0.3303      0.032    -10.250      0.000      -0.393      -0.267\n",
      "content_rating_TV-14          1.1374      0.185      6.158      0.000       0.775       1.500\n",
      "content_rating_TV-G           1.1647      0.300      3.886      0.000       0.577       1.752\n",
      "content_rating_TV-MA          2.0139      0.224      8.978      0.000       1.574       2.454\n",
      "content_rating_TV-PG          1.7767      0.286      6.211      0.000       1.216       2.337\n",
      "content_rating_TV-Y7          1.8543      0.836      2.219      0.027       0.216       3.493\n",
      "title_year_1920.0            -2.2274      0.836     -2.663      0.008      -3.867      -0.588\n",
      "title_year_1952.0             1.3034      0.591      2.207      0.027       0.145       2.461\n",
      "title_year_1964.0             0.5481      0.298      1.840      0.066      -0.036       1.132\n",
      "title_year_1973.0             0.7022      0.297      2.364      0.018       0.120       1.285\n",
      "title_year_1987.0            -0.3935      0.162     -2.429      0.015      -0.711      -0.076\n",
      "title_year_1995.0            -0.3102      0.112     -2.768      0.006      -0.530      -0.090\n",
      "title_year_1996.0            -0.3286      0.105     -3.122      0.002      -0.535      -0.122\n",
      "title_year_1997.0            -0.3947      0.095     -4.147      0.000      -0.581      -0.208\n",
      "title_year_1998.0            -0.3627      0.089     -4.088      0.000      -0.537      -0.189\n",
      "title_year_1999.0            -0.4436      0.083     -5.336      0.000      -0.607      -0.281\n",
      "title_year_2000.0            -0.5692      0.080     -7.100      0.000      -0.726      -0.412\n",
      "title_year_2001.0            -0.5484      0.079     -6.904      0.000      -0.704      -0.393\n",
      "title_year_2002.0            -0.5488      0.077     -7.169      0.000      -0.699      -0.399\n",
      "title_year_2003.0            -0.5559      0.083     -6.687      0.000      -0.719      -0.393\n",
      "title_year_2004.0            -0.5572      0.075     -7.390      0.000      -0.705      -0.409\n",
      "title_year_2005.0            -0.5763      0.075     -7.634      0.000      -0.724      -0.428\n",
      "title_year_2006.0            -0.5854      0.072     -8.102      0.000      -0.727      -0.444\n",
      "title_year_2007.0            -0.6515      0.078     -8.311      0.000      -0.805      -0.498\n",
      "title_year_2008.0            -0.7349      0.073    -10.117      0.000      -0.877      -0.592\n",
      "title_year_2009.0            -0.5913      0.068     -8.738      0.000      -0.724      -0.459\n",
      "title_year_2010.0            -0.9047      0.077    -11.800      0.000      -1.055      -0.754\n",
      "title_year_2011.0            -1.0882      0.079    -13.851      0.000      -1.242      -0.934\n",
      "title_year_2012.0            -1.0863      0.079    -13.784      0.000      -1.241      -0.932\n",
      "title_year_2013.0            -1.0227      0.076    -13.436      0.000      -1.172      -0.873\n",
      "title_year_2014.0            -0.8676      0.073    -11.855      0.000      -1.011      -0.724\n",
      "title_year_2015.0            -1.0881      0.077    -14.201      0.000      -1.238      -0.938\n",
      "title_year_2016.0            -0.3094      0.101     -3.052      0.002      -0.508      -0.111\n",
      "primary_genre_Adventure       0.3618      0.054      6.737      0.000       0.257       0.467\n",
      "primary_genre_Animation       0.6639      0.128      5.193      0.000       0.413       0.915\n",
      "primary_genre_Biography       0.8549      0.066     13.034      0.000       0.726       0.983\n",
      "primary_genre_Comedy          0.3097      0.038      8.045      0.000       0.234       0.385\n",
      "primary_genre_Crime           0.5201      0.058      8.973      0.000       0.406       0.634\n",
      "primary_genre_Documentary     1.6425      0.107     15.312      0.000       1.432       1.853\n",
      "primary_genre_Drama           0.6497      0.041     15.900      0.000       0.570       0.730\n",
      "primary_genre_Game-Show      -2.4840      0.835     -2.976      0.003      -4.121      -0.847\n",
      "primary_genre_History         2.2248      0.835      2.665      0.008       0.588       3.862\n",
      "primary_genre_Horror         -0.3883      0.069     -5.640      0.000      -0.523      -0.253\n",
      "==============================================================================\n",
      "Omnibus:                      676.854   Durbin-Watson:                   2.030\n",
      "Prob(Omnibus):                  0.000   Jarque-Bera (JB):             1736.898\n",
      "Skew:                          -0.928   Prob(JB):                         0.00\n",
      "Kurtosis:                       5.643   Cond. No.                     3.35e+15\n",
      "==============================================================================\n",
      "\n",
      "Warnings:\n",
      "[1] Standard Errors assume that the covariance matrix of the errors is correctly specified.\n",
      "[2] The smallest eigenvalue is 1.13e-27. This might indicate that there are\n",
      "strong multicollinearity problems or that the design matrix is singular.\n"
     ]
    }
   ],
   "source": [
    "\n",
    "dummy=df_movies.select_dtypes(include=\"object\").drop(columns=[\"movie_title\"])\n",
    "dummy1=pd.get_dummies(dummy[dummy.columns])\n",
    "dummy1=dummy1[cat_significant_cols]\n",
    "a=df_movies[num_significant_cols]\n",
    "mm=MinMaxScaler()\n",
    "b=mm.fit_transform(df_movies[num_significant_cols])\n",
    "dfn1=pd.DataFrame(b,columns=num_significant_cols)\n",
    "X=pd.concat([dfn1,dummy1],axis=1)\n",
    "X=sm.add_constant(X)\n",
    "y=df_movies[\"imdb_score\"]\n",
    "\n",
    "X_train, X_test, y_train, y_test = train_test_split(X, y, random_state = 10, test_size = 0.2)\n",
    "OLS_Scaled_nrm=sm.OLS(y_train,X_train).fit()\n",
    "print(OLS_Scaled_nrm.summary())"
   ]
  },
  {
   "cell_type": "code",
   "execution_count": 75,
   "metadata": {},
   "outputs": [
    {
     "data": {
      "text/html": [
       "<div>\n",
       "<style scoped>\n",
       "    .dataframe tbody tr th:only-of-type {\n",
       "        vertical-align: middle;\n",
       "    }\n",
       "\n",
       "    .dataframe tbody tr th {\n",
       "        vertical-align: top;\n",
       "    }\n",
       "\n",
       "    .dataframe thead th {\n",
       "        text-align: right;\n",
       "    }\n",
       "</style>\n",
       "<table border=\"1\" class=\"dataframe\">\n",
       "  <thead>\n",
       "    <tr style=\"text-align: right;\">\n",
       "      <th></th>\n",
       "      <th>Model_Name</th>\n",
       "      <th>Alpha</th>\n",
       "      <th>l1-ratio</th>\n",
       "      <th>R-Squared</th>\n",
       "      <th>Adj. R-Squared</th>\n",
       "      <th>Train_RMSE</th>\n",
       "      <th>Test_RMSE</th>\n",
       "      <th>Test_MAPE</th>\n",
       "    </tr>\n",
       "  </thead>\n",
       "  <tbody>\n",
       "    <tr>\n",
       "      <th>0</th>\n",
       "      <td>Simple full OLS model</td>\n",
       "      <td>-</td>\n",
       "      <td>-</td>\n",
       "      <td>0.479434</td>\n",
       "      <td>0.444387</td>\n",
       "      <td>0.8115</td>\n",
       "      <td>0.8611</td>\n",
       "      <td>11.398791</td>\n",
       "    </tr>\n",
       "    <tr>\n",
       "      <th>1</th>\n",
       "      <td>OLS model with significant variables</td>\n",
       "      <td>-</td>\n",
       "      <td>-</td>\n",
       "      <td>0.461188</td>\n",
       "      <td>0.452555</td>\n",
       "      <td>0.8256</td>\n",
       "      <td>0.8564</td>\n",
       "      <td>11.363497</td>\n",
       "    </tr>\n",
       "    <tr>\n",
       "      <th>2</th>\n",
       "      <td>OLS model with non-multicollinear features</td>\n",
       "      <td>-</td>\n",
       "      <td>-</td>\n",
       "      <td>0.462149</td>\n",
       "      <td>0.453253</td>\n",
       "      <td>0.8248</td>\n",
       "      <td>0.8538</td>\n",
       "      <td>11.326303</td>\n",
       "    </tr>\n",
       "    <tr>\n",
       "      <th>3</th>\n",
       "      <td>OLS model scaled(Normalised)</td>\n",
       "      <td>-</td>\n",
       "      <td>-</td>\n",
       "      <td>0.461011</td>\n",
       "      <td>0.452375</td>\n",
       "      <td>0.8257</td>\n",
       "      <td>0.8575</td>\n",
       "      <td>11.378893</td>\n",
       "    </tr>\n",
       "  </tbody>\n",
       "</table>\n",
       "</div>"
      ],
      "text/plain": [
       "                                   Model_Name Alpha l1-ratio  R-Squared  \\\n",
       "0                       Simple full OLS model     -        -   0.479434   \n",
       "1        OLS model with significant variables     -        -   0.461188   \n",
       "2  OLS model with non-multicollinear features     -        -   0.462149   \n",
       "3                OLS model scaled(Normalised)     -        -   0.461011   \n",
       "\n",
       "   Adj. R-Squared  Train_RMSE  Test_RMSE  Test_MAPE  \n",
       "0        0.444387      0.8115     0.8611  11.398791  \n",
       "1        0.452555      0.8256     0.8564  11.363497  \n",
       "2        0.453253      0.8248     0.8538  11.326303  \n",
       "3        0.452375      0.8257     0.8575  11.378893  "
      ]
     },
     "execution_count": 75,
     "metadata": {},
     "output_type": "execute_result"
    }
   ],
   "source": [
    "linear_reg=LinearRegression()\n",
    "ols_significant_linreg_nrm=linear_reg.fit(X_train, y_train)\n",
    "update_score_card(\"OLS model scaled(Normalised)\",ols_significant_linreg_nrm,X_train,X_test)"
   ]
  },
  {
   "cell_type": "markdown",
   "metadata": {},
   "source": [
    "# Assumptions of Linear Regression"
   ]
  },
  {
   "cell_type": "markdown",
   "metadata": {},
   "source": [
    "## 1. Detecting Autocorrelation"
   ]
  },
  {
   "cell_type": "markdown",
   "metadata": {},
   "source": [
    "The null and alternate hypothesis of Durbin-Watson test is as follows:\n",
    "\n",
    "      H0: There is no autocorrelation in the residuals\n",
    "      H1: There is autocorrelation in the residuals"
   ]
  },
  {
   "cell_type": "markdown",
   "metadata": {},
   "source": [
    "**\"r\" is the Durbin-Watson Test values.**\n",
    "\n",
    "**for r == 0, indicating no serial correlation, the test statistic equals 2.**\n",
    "\n",
    "**The closer to 0 the statistic, the more evidence for positive serial correlation.**\n",
    "\n",
    "**The closer to 4, the more evidence for negative serial correlation**\n",
    "\n",
    "**From the summary output, we see that the Durbin-Watson static is 2.030. There is no autocorrelation.**"
   ]
  },
  {
   "cell_type": "markdown",
   "metadata": {},
   "source": [
    "## 2. Detecting Heteroskedasticity"
   ]
  },
  {
   "cell_type": "markdown",
   "metadata": {},
   "source": [
    "Heteroskedasticity is a systematic change in the spread of the residuals over the range of measured values. One of the assumptions of the linear regression is that there should not be Heteroskedasticity.\n",
    "\n",
    "Breusch-Pagan is the test for detecting heteroskedasticity:\n",
    "\n",
    "The null and alternate hypothesis of Breusch-Pagan test is as follows:\n",
    "\n",
    "H0: The residuals are homoskedastic\n",
    "H1: The residuals are not homoskedastic"
   ]
  },
  {
   "cell_type": "code",
   "execution_count": 76,
   "metadata": {},
   "outputs": [],
   "source": [
    "dummy=df_movies.select_dtypes(include=\"object\").drop(columns=[\"movie_title\"])\n",
    "dummy1=pd.get_dummies(dummy[dummy.columns])\n",
    "dummy1=dummy1[cat_significant_cols]\n",
    "a=df_movies[num_significant_cols]\n",
    "mm=MinMaxScaler()\n",
    "b=mm.fit_transform(df_movies[num_significant_cols])\n",
    "dfn1=pd.DataFrame(b,columns=num_significant_cols)\n",
    "X=pd.concat([dfn1,dummy1],axis=1)\n",
    "X=sm.add_constant(X)\n",
    "y=df_movies[\"imdb_score\"]\n",
    "\n",
    "X_train, X_test, y_train, y_test = train_test_split(X, y, random_state = 10, test_size = 0.2)\n",
    "OLS_Scaled_nrm=sm.OLS(y_train,X_train).fit()"
   ]
  },
  {
   "cell_type": "code",
   "execution_count": 77,
   "metadata": {},
   "outputs": [
    {
     "data": {
      "text/plain": [
       "[('f-value', 291.9140778891034), ('p-value', 1.6358177917253858e-31)]"
      ]
     },
     "execution_count": 77,
     "metadata": {},
     "output_type": "execute_result"
    }
   ],
   "source": [
    "from statsmodels.compat import lzip\n",
    "name = ['f-value','p-value']           \n",
    "test = sms.het_breuschpagan(OLS_Scaled_nrm.resid, OLS_Scaled_nrm.model.exog)\n",
    "lzip(name, test)   "
   ]
  },
  {
   "cell_type": "markdown",
   "metadata": {},
   "source": [
    "**We observe that p-value is less than 0.05 and thus reject the null hypothesis. We conclude that there is heteroskedasticity present in the data.**"
   ]
  },
  {
   "cell_type": "markdown",
   "metadata": {},
   "source": [
    "## 3. Linearity of Residuals"
   ]
  },
  {
   "cell_type": "raw",
   "metadata": {},
   "source": [
    "Multiple linear regression requires the relationship between the independent and dependent variables to be linear, i.e. it should be linear in the parameters. The linearity assumption can best be tested with scatterplots.\n",
    "\n",
    "The independent variables must have a linear relationship with the dependent variable."
   ]
  },
  {
   "cell_type": "code",
   "execution_count": 78,
   "metadata": {},
   "outputs": [
    {
     "data": {
      "image/png": "[encoded data removed]",
      "text/plain": [
       "<Figure size 1800x1440 with 20 Axes>"
      ]
     },
     "metadata": {
      "needs_background": "light"
     },
     "output_type": "display_data"
    }
   ],
   "source": [
    "fig, ax = plt.subplots(nrows = 4, ncols= 5, figsize=(25, 20))\n",
    "\n",
    "for variable, subplot in zip(X_train.columns[1:], ax.flatten()):\n",
    "    sns.scatterplot(X_train[variable], OLS_Scaled_nrm.resid , ax=subplot)\n",
    "plt.show()"
   ]
  },
  {
   "cell_type": "markdown",
   "metadata": {},
   "source": [
    "**From the plots we see that none of the plots show a specific pattern. Hence, we may conclude that the variables are linearly related to the dependent variable.**"
   ]
  },
  {
   "cell_type": "markdown",
   "metadata": {},
   "source": [
    "## 4. Normality of Residuals"
   ]
  },
  {
   "cell_type": "code",
   "execution_count": 79,
   "metadata": {},
   "outputs": [
    {
     "data": {
      "image/png": "[encoded data removed]",
      "text/plain": [
       "<Figure size 1080x576 with 1 Axes>"
      ]
     },
     "metadata": {
      "needs_background": "light"
     },
     "output_type": "display_data"
    }
   ],
   "source": [
    "fitted_vals = OLS_Scaled_nrm.predict(X_test)\n",
    "resids = y_test - fitted_vals\n",
    "fig, ax = plt.subplots(1, 1, figsize=(15, 8))\n",
    "stats.probplot(resids, plot=plt)\n",
    "ax.get_lines()[0].set_marker('o')\n",
    "ax.get_lines()[0].set_markersize(5.0)\n",
    "ax.get_lines()[0].set_markerfacecolor('r')\n",
    "ax.get_lines()[1].set_linewidth(4.0)\n",
    "plt.show()"
   ]
  },
  {
   "cell_type": "code",
   "execution_count": 80,
   "metadata": {},
   "outputs": [
    {
     "data": {
      "image/png": "[encoded data removed]",
      "text/plain": [
       "<Figure size 1080x576 with 1 Axes>"
      ]
     },
     "metadata": {
      "needs_background": "light"
     },
     "output_type": "display_data"
    }
   ],
   "source": [
    "OLS_Scaled_nrm.resid.hist()\n",
    "plt.show()"
   ]
  },
  {
   "cell_type": "markdown",
   "metadata": {},
   "source": [
    "**SInce the QQ plot and the hist plot of the residual are not normal, residual data is not normally distributed.**"
   ]
  },
  {
   "cell_type": "markdown",
   "metadata": {},
   "source": [
    "## Jarque_Bera test"
   ]
  },
  {
   "cell_type": "markdown",
   "metadata": {},
   "source": [
    "Null and Alternate Hypothesis:"
   ]
  },
  {
   "cell_type": "markdown",
   "metadata": {},
   "source": [
    "H0: The data is normally distributed\n",
    "\n",
    "H1: The data is not normally distributed"
   ]
  },
  {
   "cell_type": "code",
   "execution_count": 81,
   "metadata": {},
   "outputs": [
    {
     "name": "stdout",
     "output_type": "stream",
     "text": [
      "Statistics=1736.898, p-value=0.000\n",
      "The data is not normally distributed (reject H0)\n"
     ]
    }
   ],
   "source": [
    "stat, p = jarque_bera(OLS_Scaled_nrm.resid)\n",
    "print('Statistics=%.3f, p-value=%.3f' % (stat, p))\n",
    "alpha = 0.05\n",
    "if p > alpha:\n",
    "    print('The data is normally distributed (fail to reject H0)')\n",
    "else:\n",
    "    print('The data is not normally distributed (reject H0)')"
   ]
  },
  {
   "cell_type": "markdown",
   "metadata": {},
   "source": [
    "# Feature Selection"
   ]
  },
  {
   "cell_type": "markdown",
   "metadata": {},
   "source": [
    "## Selecting significant features using Recursive Feature Elimination"
   ]
  },
  {
   "cell_type": "code",
   "execution_count": 82,
   "metadata": {},
   "outputs": [],
   "source": [
    "encoded = pd.get_dummies(data=df_movies, columns=['title_year','color','language','content_rating','primary_genre','country'])\n",
    "df_movies['title_year']=df_movies['title_year'].astype(\"object\")\n",
    "x = encoded.drop(['movie_title','imdb_score'],axis=1)\n",
    "x = sm.add_constant(x)\n",
    "X_train, X_test, y_train, y_test = train_test_split(x, df_movies['imdb_score'], random_state = 10, test_size = 0.2)"
   ]
  },
  {
   "cell_type": "code",
   "execution_count": 83,
   "metadata": {},
   "outputs": [
    {
     "data": {
      "text/plain": [
       "(3996, 252)"
      ]
     },
     "execution_count": 83,
     "metadata": {},
     "output_type": "execute_result"
    }
   ],
   "source": [
    "X_train.shape"
   ]
  },
  {
   "cell_type": "code",
   "execution_count": 84,
   "metadata": {
    "scrolled": true
   },
   "outputs": [
    {
     "name": "stdout",
     "output_type": "stream",
     "text": [
      "Significant features: Index(['title_year_1916.0', 'title_year_1925.0', 'title_year_1927.0',\n",
      "       'title_year_1930.0', 'title_year_1933.0', 'title_year_1934.0',\n",
      "       'title_year_1936.0', 'title_year_1937.0', 'title_year_1938.0',\n",
      "       'title_year_1939.0',\n",
      "       ...\n",
      "       'country_Spain', 'country_Sweden', 'country_Switzerland',\n",
      "       'country_Taiwan', 'country_Thailand', 'country_Turkey', 'country_UK',\n",
      "       'country_USA', 'country_United Arab Emirates', 'country_West Germany'],\n",
      "      dtype='object', length=200)\n"
     ]
    }
   ],
   "source": [
    "linreg_rfe = LinearRegression()\n",
    "rfe_model = RFE(estimator=linreg_rfe, n_features_to_select=200)\n",
    "rfe_model = rfe_model.fit(X_train, y_train)\n",
    "feat_index = pd.Series(data = rfe_model.ranking_, index = X_train.columns)\n",
    "signi_feat_rfe = feat_index[feat_index==1].index\n",
    "print('Significant features:',signi_feat_rfe)"
   ]
  },
  {
   "cell_type": "code",
   "execution_count": 85,
   "metadata": {},
   "outputs": [
    {
     "data": {
      "text/plain": [
       "0.23015321808674638"
      ]
     },
     "execution_count": 85,
     "metadata": {},
     "output_type": "execute_result"
    }
   ],
   "source": [
    "new_X_train = X_train[signi_feat_rfe]\n",
    "linreg = LinearRegression()\n",
    "\n",
    "linreg.fit(new_X_train, y_train)\n",
    "\n",
    "# check the score\n",
    "linreg.score(new_X_train, y_train)"
   ]
  },
  {
   "cell_type": "code",
   "execution_count": 86,
   "metadata": {},
   "outputs": [
    {
     "data": {
      "text/html": [
       "<div>\n",
       "<style scoped>\n",
       "    .dataframe tbody tr th:only-of-type {\n",
       "        vertical-align: middle;\n",
       "    }\n",
       "\n",
       "    .dataframe tbody tr th {\n",
       "        vertical-align: top;\n",
       "    }\n",
       "\n",
       "    .dataframe thead th {\n",
       "        text-align: right;\n",
       "    }\n",
       "</style>\n",
       "<table border=\"1\" class=\"dataframe\">\n",
       "  <thead>\n",
       "    <tr style=\"text-align: right;\">\n",
       "      <th></th>\n",
       "      <th>Model_Name</th>\n",
       "      <th>Alpha</th>\n",
       "      <th>l1-ratio</th>\n",
       "      <th>R-Squared</th>\n",
       "      <th>Adj. R-Squared</th>\n",
       "      <th>Train_RMSE</th>\n",
       "      <th>Test_RMSE</th>\n",
       "      <th>Test_MAPE</th>\n",
       "    </tr>\n",
       "  </thead>\n",
       "  <tbody>\n",
       "    <tr>\n",
       "      <th>0</th>\n",
       "      <td>Simple full OLS model</td>\n",
       "      <td>-</td>\n",
       "      <td>-</td>\n",
       "      <td>0.479434</td>\n",
       "      <td>0.444387</td>\n",
       "      <td>0.8115</td>\n",
       "      <td>8.611000e-01</td>\n",
       "      <td>1.139879e+01</td>\n",
       "    </tr>\n",
       "    <tr>\n",
       "      <th>1</th>\n",
       "      <td>OLS model with significant variables</td>\n",
       "      <td>-</td>\n",
       "      <td>-</td>\n",
       "      <td>0.461188</td>\n",
       "      <td>0.452555</td>\n",
       "      <td>0.8256</td>\n",
       "      <td>8.564000e-01</td>\n",
       "      <td>1.136350e+01</td>\n",
       "    </tr>\n",
       "    <tr>\n",
       "      <th>2</th>\n",
       "      <td>OLS model with non-multicollinear features</td>\n",
       "      <td>-</td>\n",
       "      <td>-</td>\n",
       "      <td>0.462149</td>\n",
       "      <td>0.453253</td>\n",
       "      <td>0.8248</td>\n",
       "      <td>8.538000e-01</td>\n",
       "      <td>1.132630e+01</td>\n",
       "    </tr>\n",
       "    <tr>\n",
       "      <th>3</th>\n",
       "      <td>OLS model scaled(Normalised)</td>\n",
       "      <td>-</td>\n",
       "      <td>-</td>\n",
       "      <td>0.461011</td>\n",
       "      <td>0.452375</td>\n",
       "      <td>0.8257</td>\n",
       "      <td>8.575000e-01</td>\n",
       "      <td>1.137889e+01</td>\n",
       "    </tr>\n",
       "    <tr>\n",
       "      <th>4</th>\n",
       "      <td>Getting significant variables with RFE</td>\n",
       "      <td>-</td>\n",
       "      <td>-</td>\n",
       "      <td>0.230153</td>\n",
       "      <td>0.189582</td>\n",
       "      <td>0.9868</td>\n",
       "      <td>1.329744e+11</td>\n",
       "      <td>8.609846e+10</td>\n",
       "    </tr>\n",
       "  </tbody>\n",
       "</table>\n",
       "</div>"
      ],
      "text/plain": [
       "                                   Model_Name Alpha l1-ratio  R-Squared  \\\n",
       "0                       Simple full OLS model     -        -   0.479434   \n",
       "1        OLS model with significant variables     -        -   0.461188   \n",
       "2  OLS model with non-multicollinear features     -        -   0.462149   \n",
       "3                OLS model scaled(Normalised)     -        -   0.461011   \n",
       "4      Getting significant variables with RFE     -        -   0.230153   \n",
       "\n",
       "   Adj. R-Squared  Train_RMSE     Test_RMSE     Test_MAPE  \n",
       "0        0.444387      0.8115  8.611000e-01  1.139879e+01  \n",
       "1        0.452555      0.8256  8.564000e-01  1.136350e+01  \n",
       "2        0.453253      0.8248  8.538000e-01  1.132630e+01  \n",
       "3        0.452375      0.8257  8.575000e-01  1.137889e+01  \n",
       "4        0.189582      0.9868  1.329744e+11  8.609846e+10  "
      ]
     },
     "execution_count": 86,
     "metadata": {},
     "output_type": "execute_result"
    }
   ],
   "source": [
    "update_score_card(\"Getting significant variables with RFE\",linreg,X_train[signi_feat_rfe],X_test[signi_feat_rfe])"
   ]
  },
  {
   "cell_type": "markdown",
   "metadata": {},
   "source": [
    "**Interpretation:** As we can see our R2 and Adj R2 decreases when we select features using RFE method."
   ]
  },
  {
   "cell_type": "code",
   "execution_count": 87,
   "metadata": {
    "scrolled": true
   },
   "outputs": [
    {
     "name": "stdout",
     "output_type": "stream",
     "text": [
      "                            OLS Regression Results                            \n",
      "==============================================================================\n",
      "Dep. Variable:             imdb_score   R-squared:                       0.479\n",
      "Model:                            OLS   Adj. R-squared:                  0.448\n",
      "Method:                 Least Squares   F-statistic:                     15.29\n",
      "Date:                Tue, 23 Feb 2021   Prob (F-statistic):               0.00\n",
      "Time:                        08:34:53   Log-Likelihood:                -4835.3\n",
      "No. Observations:                3996   AIC:                         1.013e+04\n",
      "Df Residuals:                    3768   BIC:                         1.156e+04\n",
      "Df Model:                         227                                         \n",
      "Covariance Type:            nonrobust                                         \n",
      "================================================================================================\n",
      "                                   coef    std err          t      P>|t|      [0.025      0.975]\n",
      "------------------------------------------------------------------------------------------------\n",
      "const                            4.3567      0.118     37.019      0.000       4.126       4.587\n",
      "num_critic_for_reviews           0.0031      0.000     17.060      0.000       0.003       0.004\n",
      "duration                         0.0050      0.001      7.152      0.000       0.004       0.006\n",
      "gross                        -4.881e-10    3.2e-10     -1.524      0.128   -1.12e-09     1.4e-10\n",
      "num_voted_users               3.134e-06   1.87e-07     16.791      0.000    2.77e-06     3.5e-06\n",
      "num_user_for_reviews            -0.0005      7e-05     -7.450      0.000      -0.001      -0.000\n",
      "budget                       -1.186e-10   7.32e-11     -1.619      0.105   -2.62e-10     2.5e-11\n",
      "aspect_ratio                     0.0368      0.012      3.097      0.002       0.014       0.060\n",
      "title_year_1916.0                0.6200      0.835      0.742      0.458      -1.018       2.258\n",
      "title_year_1920.0               -2.1370      0.833     -2.565      0.010      -3.771      -0.503\n",
      "title_year_1925.0             6.216e-09   4.09e-09      1.519      0.129   -1.81e-09    1.42e-08\n",
      "title_year_1927.0               -0.5082      0.869     -0.585      0.559      -2.213       1.196\n",
      "title_year_1929.0                0.1276      0.715      0.178      0.858      -1.275       1.530\n",
      "title_year_1930.0                1.3081      0.947      1.381      0.167      -0.549       3.165\n",
      "title_year_1932.0             7.198e-09   4.74e-09      1.519      0.129    -2.1e-09    1.65e-08\n",
      "title_year_1933.0                0.4017      0.598      0.671      0.502      -0.771       1.575\n",
      "title_year_1934.0                1.0306      0.841      1.226      0.220      -0.618       2.679\n",
      "title_year_1935.0            -9.242e-10   6.09e-10     -1.519      0.129   -2.12e-09    2.69e-10\n",
      "title_year_1936.0                0.8974      0.849      1.057      0.291      -0.768       2.563\n",
      "title_year_1937.0             -1.82e-09    1.2e-09     -1.519      0.129   -4.17e-09     5.3e-10\n",
      "title_year_1938.0                0.7137      0.616      1.159      0.247      -0.494       1.921\n",
      "title_year_1939.0                0.7747      0.628      1.234      0.217      -0.456       2.005\n",
      "title_year_1940.0                0.4601      0.388      1.185      0.236      -0.301       1.221\n",
      "title_year_1941.0                0.7120      0.849      0.839      0.402      -0.953       2.377\n",
      "title_year_1942.0                0.6281      0.595      1.056      0.291      -0.538       1.794\n",
      "title_year_1943.0                0.4472      0.947      0.472      0.637      -1.410       2.304\n",
      "title_year_1944.0                0.6248      0.947      0.660      0.509      -1.231       2.481\n",
      "title_year_1945.0                0.8809      0.696      1.265      0.206      -0.485       2.246\n",
      "title_year_1946.0                0.2996      0.485      0.618      0.537      -0.652       1.251\n",
      "title_year_1947.0                0.1473      0.613      0.240      0.810      -1.054       1.349\n",
      "title_year_1948.0                0.6445      0.614      1.051      0.294      -0.558       1.847\n",
      "title_year_1949.0                0.8403      0.611      1.374      0.169      -0.358       2.039\n",
      "title_year_1950.0                0.5257      0.948      0.555      0.579      -1.332       2.384\n",
      "title_year_1951.0                0.4637      0.501      0.926      0.354      -0.518       1.445\n",
      "title_year_1952.0                1.6409      0.604      2.719      0.007       0.458       2.824\n",
      "title_year_1953.0                0.1129      0.425      0.265      0.791      -0.721       0.947\n",
      "title_year_1954.0                0.2529      0.390      0.649      0.516      -0.511       1.017\n",
      "title_year_1955.0                0.7581      0.846      0.896      0.370      -0.901       2.417\n",
      "title_year_1956.0               -0.1810      0.593     -0.305      0.760      -1.343       0.981\n",
      "title_year_1957.0                0.5447      0.592      0.920      0.358      -0.616       1.705\n",
      "title_year_1958.0                1.2622      0.846      1.492      0.136      -0.397       2.921\n",
      "title_year_1959.0               -0.1643      0.591     -0.278      0.781      -1.324       0.995\n",
      "title_year_1960.0                0.8896      0.493      1.804      0.071      -0.077       1.856\n",
      "title_year_1961.0                0.4255      0.426      0.999      0.318      -0.410       1.261\n",
      "title_year_1962.0                0.0991      0.307      0.323      0.747      -0.502       0.700\n",
      "title_year_1963.0                0.6429      0.360      1.787      0.074      -0.062       1.348\n",
      "title_year_1964.0                0.7468      0.305      2.446      0.014       0.148       1.345\n",
      "title_year_1965.0                0.1314      0.303      0.433      0.665      -0.463       0.726\n",
      "title_year_1966.0                0.6146      0.445      1.381      0.167      -0.258       1.487\n",
      "title_year_1967.0                0.3122      0.466      0.670      0.503      -0.601       1.226\n",
      "title_year_1968.0                0.1834      0.323      0.567      0.570      -0.450       0.817\n",
      "title_year_1969.0                0.2369      0.359      0.659      0.510      -0.468       0.941\n",
      "title_year_1970.0                0.3548      0.335      1.058      0.290      -0.303       1.012\n",
      "title_year_1971.0                0.4004      0.343      1.167      0.243      -0.272       1.073\n",
      "title_year_1972.0               -0.0294      0.364     -0.081      0.936      -0.744       0.685\n",
      "title_year_1973.0                0.6541      0.304      2.149      0.032       0.057       1.251\n",
      "title_year_1974.0                0.3222      0.347      0.928      0.353      -0.358       1.003\n",
      "title_year_1975.0                0.2954      0.424      0.696      0.486      -0.536       1.127\n",
      "title_year_1976.0                0.3570      0.289      1.233      0.218      -0.211       0.924\n",
      "title_year_1977.0                0.0089      0.244      0.037      0.971      -0.470       0.488\n",
      "title_year_1978.0                0.0792      0.264      0.300      0.764      -0.438       0.596\n",
      "title_year_1979.0                0.0476      0.244      0.195      0.845      -0.430       0.526\n",
      "title_year_1980.0               -0.2686      0.217     -1.236      0.216      -0.695       0.157\n",
      "title_year_1981.0               -0.3049      0.179     -1.699      0.089      -0.657       0.047\n",
      "title_year_1982.0                0.0078      0.200      0.039      0.969      -0.384       0.400\n",
      "title_year_1983.0               -0.1714      0.230     -0.746      0.456      -0.622       0.279\n",
      "title_year_1984.0                0.0279      0.208      0.134      0.893      -0.381       0.436\n",
      "title_year_1985.0               -0.0847      0.202     -0.419      0.675      -0.481       0.311\n",
      "title_year_1986.0               -0.1820      0.198     -0.919      0.358      -0.570       0.206\n",
      "title_year_1987.0               -0.4314      0.178     -2.430      0.015      -0.779      -0.083\n",
      "title_year_1988.0               -0.1338      0.185     -0.722      0.470      -0.497       0.229\n",
      "title_year_1989.0               -0.0295      0.182     -0.162      0.871      -0.387       0.328\n",
      "title_year_1990.0                0.0736      0.192      0.382      0.702      -0.304       0.451\n",
      "title_year_1991.0               -0.3420      0.189     -1.813      0.070      -0.712       0.028\n",
      "title_year_1992.0                0.0733      0.176      0.416      0.677      -0.272       0.418\n",
      "title_year_1993.0               -0.1697      0.151     -1.123      0.262      -0.466       0.127\n",
      "title_year_1994.0               -0.2301      0.150     -1.530      0.126      -0.525       0.065\n",
      "title_year_1995.0               -0.3032      0.133     -2.283      0.022      -0.564      -0.043\n",
      "title_year_1996.0               -0.3309      0.127     -2.600      0.009      -0.580      -0.081\n",
      "title_year_1997.0               -0.4070      0.119     -3.418      0.001      -0.640      -0.174\n",
      "title_year_1998.0               -0.3625      0.113     -3.198      0.001      -0.585      -0.140\n",
      "title_year_1999.0               -0.4561      0.109     -4.186      0.000      -0.670      -0.242\n",
      "title_year_2000.0               -0.5795      0.106     -5.445      0.000      -0.788      -0.371\n",
      "title_year_2001.0               -0.5523      0.106     -5.220      0.000      -0.760      -0.345\n",
      "title_year_2002.0               -0.5546      0.104     -5.346      0.000      -0.758      -0.351\n",
      "title_year_2003.0               -0.5682      0.109     -5.233      0.000      -0.781      -0.355\n",
      "title_year_2004.0               -0.5765      0.103     -5.616      0.000      -0.778      -0.375\n",
      "title_year_2005.0               -0.5737      0.104     -5.539      0.000      -0.777      -0.371\n",
      "title_year_2006.0               -0.5869      0.100     -5.847      0.000      -0.784      -0.390\n",
      "title_year_2007.0               -0.6783      0.105     -6.436      0.000      -0.885      -0.472\n",
      "title_year_2008.0               -0.7396      0.101     -7.338      0.000      -0.937      -0.542\n",
      "title_year_2009.0               -0.6134      0.097     -6.310      0.000      -0.804      -0.423\n",
      "title_year_2010.0               -0.9185      0.104     -8.833      0.000      -1.122      -0.715\n",
      "title_year_2011.0               -1.1206      0.105    -10.672      0.000      -1.326      -0.915\n",
      "title_year_2012.0               -1.1001      0.105    -10.521      0.000      -1.305      -0.895\n",
      "title_year_2013.0               -1.0432      0.103    -10.089      0.000      -1.246      -0.841\n",
      "title_year_2014.0               -0.8828      0.101     -8.702      0.000      -1.082      -0.684\n",
      "title_year_2015.0               -1.1072      0.105    -10.540      0.000      -1.313      -0.901\n",
      "title_year_2016.0               -0.3242      0.126     -2.582      0.010      -0.570      -0.078\n",
      "color_ Black and White           2.3046      0.072     32.204      0.000       2.164       2.445\n",
      "color_Color                      2.0521      0.068     30.116      0.000       1.919       2.186\n",
      "language_Aboriginal             -0.1582      0.596     -0.265      0.791      -1.327       1.011\n",
      "language_Arabic                  0.7156      0.829      0.863      0.388      -0.911       2.342\n",
      "language_Aramaic                -0.1704      0.842     -0.202      0.840      -1.821       1.480\n",
      "language_Bosnian                -2.4433      0.828     -2.952      0.003      -4.066      -0.821\n",
      "language_Cantonese               0.0195      0.442      0.044      0.965      -0.847       0.886\n",
      "language_Chinese                -0.6449      0.577     -1.117      0.264      -1.777       0.487\n",
      "language_Czech               -2.942e-09   1.94e-09     -1.519      0.129   -6.74e-09    8.57e-10\n",
      "language_Danish                  0.1646      0.593      0.277      0.781      -0.999       1.328\n",
      "language_Dari                    0.3470      0.827      0.420      0.675      -1.273       1.967\n",
      "language_Dutch                   1.3917      1.025      1.358      0.174      -0.617       3.400\n",
      "language_Dzongkha            -2.568e-09   1.69e-09     -1.519      0.129   -5.88e-09    7.48e-10\n",
      "language_English                -0.5970      0.127     -4.698      0.000      -0.846      -0.348\n",
      "language_Filipino               -0.0835      0.831     -0.100      0.920      -1.713       1.546\n",
      "language_French                  0.0073      0.185      0.040      0.968      -0.356       0.371\n",
      "language_German                  0.0981      0.284      0.345      0.730      -0.459       0.655\n",
      "language_Greek                  -0.2506      1.172     -0.214      0.831      -2.548       2.046\n",
      "language_Hebrew                  0.5111      0.830      0.616      0.538      -1.115       2.138\n",
      "language_Hindi                  -0.3031      0.497     -0.610      0.542      -1.277       0.671\n",
      "language_Hungarian           -2.422e-09    1.6e-09     -1.519      0.129   -5.55e-09    7.05e-10\n",
      "language_Icelandic              -1.5773      1.204     -1.310      0.190      -3.938       0.784\n",
      "language_Indonesian              0.5810      0.836      0.695      0.487      -1.058       2.220\n",
      "language_Italian                -0.2923      0.380     -0.770      0.441      -1.037       0.452\n",
      "language_Japanese                0.7108      0.482      1.474      0.141      -0.235       1.656\n",
      "language_Kannada                 0.8146      0.943      0.864      0.388      -1.034       2.663\n",
      "language_Kazakh                 -0.9837      0.833     -1.181      0.237      -2.616       0.649\n",
      "language_Korean                  1.8129      0.562      3.227      0.001       0.712       2.914\n",
      "language_Mandarin               -0.0596      0.365     -0.163      0.870      -0.776       0.657\n",
      "language_Maya                    0.4119      0.828      0.498      0.619      -1.211       2.035\n",
      "language_Mongolian               0.5277      0.793      0.665      0.506      -1.027       2.082\n",
      "language_None                    0.7759      0.601      1.291      0.197      -0.402       1.954\n",
      "language_Norwegian               0.1499      0.642      0.233      0.815      -1.109       1.409\n",
      "language_Panjabi                 0.6410      0.919      0.698      0.485      -1.160       2.442\n",
      "language_Persian                -0.3992      0.687     -0.581      0.561      -1.747       0.948\n",
      "language_Polish                  0.3183      0.222      1.433      0.152      -0.117       0.754\n",
      "language_Portuguese              0.0204      0.614      0.033      0.973      -1.183       1.224\n",
      "language_Romanian                0.2549      0.827      0.308      0.758      -1.367       1.876\n",
      "language_Russian                 0.0211      0.372      0.057      0.955      -0.709       0.751\n",
      "language_Slovenian               0.2415      0.416      0.581      0.561      -0.573       1.057\n",
      "language_Spanish                -0.0815      0.243     -0.336      0.737      -0.557       0.394\n",
      "language_Swahili                 0.3961      0.418      0.948      0.343      -0.423       1.215\n",
      "language_Swedish                -0.1068      0.690     -0.155      0.877      -1.460       1.247\n",
      "language_Tamil                  -1.3704      0.943     -1.453      0.146      -3.219       0.478\n",
      "language_Telugu                  2.1118      0.943      2.239      0.025       0.263       3.961\n",
      "language_Thai                    0.0351      0.758      0.046      0.963      -1.451       1.521\n",
      "language_Urdu                    0.4876      0.416      1.173      0.241      -0.327       1.302\n",
      "language_Vietnamese              0.4112      0.828      0.497      0.619      -1.211       2.034\n",
      "language_Zulu                   -0.1004      0.830     -0.121      0.904      -1.727       1.526\n",
      "content_rating_Approved         -0.3721      0.216     -1.723      0.085      -0.796       0.051\n",
      "content_rating_G                -0.3825      0.127     -3.020      0.003      -0.631      -0.134\n",
      "content_rating_GP               -0.4878      0.388     -1.256      0.209      -1.249       0.274\n",
      "content_rating_M                -0.5109      0.451     -1.133      0.257      -1.395       0.373\n",
      "content_rating_NC-17            -0.6607      0.344     -1.923      0.055      -1.334       0.013\n",
      "content_rating_Not Rated        -0.0906      0.128     -0.707      0.479      -0.342       0.161\n",
      "content_rating_PG               -0.3945      0.100     -3.950      0.000      -0.590      -0.199\n",
      "content_rating_PG-13            -0.4695      0.099     -4.765      0.000      -0.663      -0.276\n",
      "content_rating_Passed           -0.7285      0.477     -1.529      0.126      -1.663       0.206\n",
      "content_rating_R                -0.1654      0.096     -1.720      0.086      -0.354       0.023\n",
      "content_rating_TV-14             0.9624      0.193      4.986      0.000       0.584       1.341\n",
      "content_rating_TV-G              1.0501      0.298      3.529      0.000       0.467       1.633\n",
      "content_rating_TV-MA             1.8364      0.235      7.821      0.000       1.376       2.297\n",
      "content_rating_TV-PG             1.6418      0.282      5.813      0.000       1.088       2.196\n",
      "content_rating_TV-Y              1.4413      0.809      1.782      0.075      -0.144       3.027\n",
      "content_rating_TV-Y7             1.7395      0.797      2.183      0.029       0.177       3.302\n",
      "content_rating_Unrated           0.0357      0.153      0.233      0.815      -0.264       0.336\n",
      "content_rating_X                -0.0878      0.277     -0.317      0.751      -0.631       0.455\n",
      "primary_genre_Action            -0.0342      0.084     -0.408      0.683      -0.199       0.130\n",
      "primary_genre_Adventure          0.3489      0.091      3.832      0.000       0.170       0.527\n",
      "primary_genre_Animation          0.6149      0.145      4.236      0.000       0.330       0.899\n",
      "primary_genre_Biography          0.8334      0.099      8.441      0.000       0.640       1.027\n",
      "primary_genre_Comedy             0.2875      0.083      3.478      0.001       0.125       0.450\n",
      "primary_genre_Crime              0.4904      0.093      5.253      0.000       0.307       0.673\n",
      "primary_genre_Documentary        1.5888      0.128     12.379      0.000       1.337       1.840\n",
      "primary_genre_Drama              0.6030      0.084      7.141      0.000       0.437       0.769\n",
      "primary_genre_Family            -0.2539      0.295     -0.861      0.389      -0.832       0.324\n",
      "primary_genre_Fantasy            0.0692      0.152      0.455      0.649      -0.229       0.367\n",
      "primary_genre_Film-Noir       6.576e-16   6.46e-16      1.018      0.309   -6.09e-16    1.92e-15\n",
      "primary_genre_Game-Show         -2.4675      0.798     -3.092      0.002      -4.032      -0.903\n",
      "primary_genre_History            2.2266      0.798      2.790      0.005       0.662       3.792\n",
      "primary_genre_Horror            -0.4012      0.099     -4.046      0.000      -0.596      -0.207\n",
      "primary_genre_Music          -2.062e-16   5.75e-16     -0.358      0.720   -1.33e-15    9.22e-16\n",
      "primary_genre_Musical            0.3520      0.585      0.602      0.547      -0.794       1.498\n",
      "primary_genre_Mystery            0.2835      0.167      1.697      0.090      -0.044       0.611\n",
      "primary_genre_Romance            0.0970      0.376      0.258      0.796      -0.640       0.834\n",
      "primary_genre_Sci-Fi             0.0652      0.317      0.206      0.837      -0.556       0.687\n",
      "primary_genre_Thriller          -0.4538      0.233     -1.948      0.052      -0.911       0.003\n",
      "primary_genre_Western            0.1070      0.279      0.383      0.701      -0.440       0.654\n",
      "country_Afghanistan              0.2842      1.169      0.243      0.808      -2.008       2.576\n",
      "country_Argentina                0.2459      0.472      0.521      0.602      -0.679       1.171\n",
      "country_Aruba                   -1.1537      0.832     -1.387      0.165      -2.784       0.477\n",
      "country_Australia                0.1525      0.163      0.935      0.350      -0.167       0.472\n",
      "country_Bahamas                 -1.7070      0.830     -2.057      0.040      -3.334      -0.080\n",
      "country_Belgium                 -0.0009      0.592     -0.002      0.999      -1.161       1.159\n",
      "country_Brazil                   0.1602      0.613      0.261      0.794      -1.042       1.363\n",
      "country_Bulgaria                 0.2661      0.830      0.321      0.748      -1.360       1.892\n",
      "country_Cambodia                -0.3893      0.830     -0.469      0.639      -2.017       1.238\n",
      "country_Cameroon                 0.0798      0.840      0.095      0.924      -1.567       1.727\n",
      "country_Canada                  -0.0519      0.131     -0.396      0.692      -0.309       0.205\n",
      "country_Chile                -1.285e-16   4.94e-16     -0.260      0.795    -1.1e-15     8.4e-16\n",
      "country_China                    0.3619      0.328      1.103      0.270      -0.281       1.005\n",
      "country_Colombia                 0.3632      0.856      0.424      0.671      -1.315       2.042\n",
      "country_Czech Republic           0.4743      0.596      0.796      0.426      -0.694       1.643\n",
      "country_Denmark                  0.0701      0.352      0.199      0.842      -0.620       0.761\n",
      "country_Dominican Republic    3.283e-16   6.02e-16      0.545      0.586   -8.53e-16    1.51e-15\n",
      "country_Egypt                   -0.2857      1.160     -0.246      0.805      -2.560       1.988\n",
      "country_Finland                  0.5059      0.846      0.598      0.550      -1.152       2.164\n",
      "country_France                  -0.0186      0.137     -0.136      0.892      -0.288       0.250\n",
      "country_Georgia                  0.2224      0.830      0.268      0.789      -1.406       1.850\n",
      "country_Germany                 -0.1865      0.143     -1.308      0.191      -0.466       0.093\n",
      "country_Greece                  -0.1512      0.833     -0.181      0.856      -1.785       1.482\n",
      "country_Hong Kong                0.2926      0.376      0.779      0.436      -0.444       1.029\n",
      "country_Hungary                  0.1811      0.832      0.218      0.828      -1.449       1.811\n",
      "country_Iceland                  0.4890      0.828      0.590      0.555      -1.135       2.113\n",
      "country_India                    0.2099      0.500      0.420      0.675      -0.771       1.191\n",
      "country_Indonesia            -9.063e-16   3.91e-16     -2.315      0.021   -1.67e-15   -1.39e-16\n",
      "country_Iran                     0.5781      0.701      0.825      0.409      -0.796       1.952\n",
      "country_Ireland                  0.5024      0.293      1.712      0.087      -0.073       1.078\n",
      "country_Israel                  -0.2931      0.962     -0.305      0.761      -2.179       1.593\n",
      "country_Italy                   -0.0152      0.290     -0.052      0.958      -0.585       0.554\n",
      "country_Japan                   -0.3500      0.427     -0.820      0.412      -1.187       0.487\n",
      "country_Kenya                    0.3961      0.418      0.948      0.343      -0.423       1.215\n",
      "country_Kyrgyzstan               3.4805      0.830      4.191      0.000       1.852       5.109\n",
      "country_Libya                    1.2407      0.856      1.449      0.147      -0.438       2.919\n",
      "country_Mexico                   0.4473      0.286      1.564      0.118      -0.114       1.008\n",
      "country_Netherlands             -0.9695      0.847     -1.144      0.253      -2.631       0.692\n",
      "country_New Line                -1.7153      0.831     -2.065      0.039      -3.344      -0.087\n",
      "country_New Zealand              0.6965      0.272      2.563      0.010       0.164       1.229\n",
      "country_Nigeria               -6.03e-17   1.28e-16     -0.470      0.638   -3.12e-16    1.91e-16\n",
      "country_Norway                  -0.3401      0.430     -0.791      0.429      -1.183       0.503\n",
      "country_Official site            0.2041      0.831      0.246      0.806      -1.424       1.833\n",
      "country_Pakistan                 0.4876      0.416      1.173      0.241      -0.327       1.302\n",
      "country_Panama                   0.9713      0.833      1.166      0.244      -0.662       2.604\n",
      "country_Peru                    -0.7811      0.837     -0.933      0.351      -2.423       0.861\n",
      "country_Philippines              1.0276      0.864      1.190      0.234      -0.666       2.721\n",
      "country_Poland                   0.3183      0.222      1.433      0.152      -0.117       0.754\n",
      "country_Romania                 -0.0569      0.592     -0.096      0.923      -1.217       1.103\n",
      "country_Russia                  -0.3856      0.416     -0.927      0.354      -1.201       0.430\n",
      "country_Slovakia                -0.5871      0.832     -0.705      0.481      -2.219       1.044\n",
      "country_Slovenia                 0.2415      0.416      0.581      0.561      -0.573       1.057\n",
      "country_South Africa             0.2933      0.352      0.833      0.405      -0.397       0.984\n",
      "country_South Korea             -1.4563      0.383     -3.801      0.000      -2.208      -0.705\n",
      "country_Soviet Union             0.0926      0.829      0.112      0.911      -1.533       1.719\n",
      "country_Spain                    0.1634      0.200      0.818      0.413      -0.228       0.555\n",
      "country_Sweden                   0.7350      0.612      1.202      0.230      -0.464       1.934\n",
      "country_Switzerland             -0.7252      0.499     -1.453      0.146      -1.704       0.253\n",
      "country_Taiwan                   0.6839      0.689      0.992      0.321      -0.668       2.036\n",
      "country_Thailand                -0.1572      0.591     -0.266      0.790      -1.315       1.001\n",
      "country_Turkey                  -1.0132      1.153     -0.879      0.380      -3.273       1.247\n",
      "country_UK                       0.2230      0.111      2.004      0.045       0.005       0.441\n",
      "country_USA                     -0.0505      0.104     -0.487      0.626      -0.254       0.153\n",
      "country_United Arab Emirates     0.0480      1.157      0.041      0.967      -2.220       2.316\n",
      "country_West Germany             0.0077      0.557      0.014      0.989      -1.084       1.100\n",
      "==============================================================================\n",
      "Omnibus:                      693.534   Durbin-Watson:                   2.039\n",
      "Prob(Omnibus):                  0.000   Jarque-Bera (JB):             1894.966\n",
      "Skew:                          -0.928   Prob(JB):                         0.00\n",
      "Kurtosis:                       5.817   Cond. No.                     6.70e+24\n",
      "==============================================================================\n",
      "\n",
      "Warnings:\n",
      "[1] Standard Errors assume that the covariance matrix of the errors is correctly specified.\n",
      "[2] The smallest eigenvalue is 3.87e-30. This might indicate that there are\n",
      "strong multicollinearity problems or that the design matrix is singular.\n"
     ]
    }
   ],
   "source": [
    "MLR_1 = sm.OLS(y_train, X_train).fit()\n",
    "print(MLR_1.summary())"
   ]
  },
  {
   "cell_type": "code",
   "execution_count": 88,
   "metadata": {},
   "outputs": [
    {
     "data": {
      "text/plain": [
       "798     5.956132\n",
       "4981    5.809228\n",
       "2713    6.661163\n",
       "1586    6.045949\n",
       "56      7.195596\n",
       "dtype: float64"
      ]
     },
     "execution_count": 88,
     "metadata": {},
     "output_type": "execute_result"
    }
   ],
   "source": [
    "y_pred = MLR_1.predict(X_train)\n",
    "y_pred.head()"
   ]
  },
  {
   "cell_type": "code",
   "execution_count": 89,
   "metadata": {
    "scrolled": true
   },
   "outputs": [
    {
     "name": "stdout",
     "output_type": "stream",
     "text": [
      "RMSE on train set:  0.8115\n",
      "RMSE on test set:  0.8618\n",
      "Difference between RMSE on train and test set:  0.05030000000000001\n"
     ]
    }
   ],
   "source": [
    "print('RMSE on train set: ', get_train_rmse(MLR_1,X_train))\n",
    "\n",
    "# print training RMSE\n",
    "print('RMSE on test set: ', get_test_rmse(MLR_1,X_test))\n",
    "\n",
    "# calculate the difference between train and test set RMSE\n",
    "difference = abs(get_test_rmse(MLR_1,X_test) - get_train_rmse(MLR_1,X_train))\n",
    "\n",
    "# print the difference between train and test set RMSE\n",
    "print('Difference between RMSE on train and test set: ', difference)\n",
    "\n"
   ]
  },
  {
   "cell_type": "markdown",
   "metadata": {},
   "source": [
    "**Interpretation:** RMSE on the training set is 0.8115, while on the test set it is 0.8618. We can see that there is a difference in the RMSE of the train and the test set. This implies that our model has overfitted on the train set. \n",
    "\n",
    "To deal with the problem of overfitting, we study the approach of `Regularization` in the next section."
   ]
  },
  {
   "cell_type": "markdown",
   "metadata": {},
   "source": [
    "#  Model Improvement"
   ]
  },
  {
   "cell_type": "markdown",
   "metadata": {},
   "source": [
    "## Lasso Regularization"
   ]
  },
  {
   "cell_type": "code",
   "execution_count": 90,
   "metadata": {},
   "outputs": [
    {
     "name": "stdout",
     "output_type": "stream",
     "text": [
      "RMSE on test set: 0.9047\n",
      "RMSE on train set:  0.8959\n",
      "Difference: 0.008799999999999919\n"
     ]
    }
   ],
   "source": [
    "lasso = Lasso(alpha = 0.01, max_iter = 500)\n",
    "lasso.fit(X_train, y_train)\n",
    "\n",
    "test_pred = lasso.predict(X_test)\n",
    "mse_test = mean_squared_error(y_test, test_pred)\n",
    "rmse_test = round(np.sqrt(mse_test), 4)\n",
    "print('RMSE on test set:', rmse_test)\n",
    "print('RMSE on train set: ', get_train_rmse(lasso,X_train))\n",
    "print('Difference:',abs(get_train_rmse(lasso,X_train)-rmse_test))"
   ]
  },
  {
   "cell_type": "code",
   "execution_count": 91,
   "metadata": {},
   "outputs": [
    {
     "name": "stdout",
     "output_type": "stream",
     "text": [
      "Insignificant variables obtained from Lasso Regression when alpha is 0.5:\n"
     ]
    },
    {
     "data": {
      "text/plain": [
       "['const',\n",
       " 'title_year_1916.0',\n",
       " 'title_year_1920.0',\n",
       " 'title_year_1925.0',\n",
       " 'title_year_1927.0',\n",
       " 'title_year_1929.0',\n",
       " 'title_year_1930.0',\n",
       " 'title_year_1932.0',\n",
       " 'title_year_1933.0',\n",
       " 'title_year_1934.0',\n",
       " 'title_year_1935.0',\n",
       " 'title_year_1936.0',\n",
       " 'title_year_1937.0',\n",
       " 'title_year_1938.0',\n",
       " 'title_year_1939.0',\n",
       " 'title_year_1940.0',\n",
       " 'title_year_1941.0',\n",
       " 'title_year_1942.0',\n",
       " 'title_year_1943.0',\n",
       " 'title_year_1944.0',\n",
       " 'title_year_1945.0',\n",
       " 'title_year_1946.0',\n",
       " 'title_year_1947.0',\n",
       " 'title_year_1948.0',\n",
       " 'title_year_1949.0',\n",
       " 'title_year_1950.0',\n",
       " 'title_year_1951.0',\n",
       " 'title_year_1952.0',\n",
       " 'title_year_1953.0',\n",
       " 'title_year_1954.0',\n",
       " 'title_year_1955.0',\n",
       " 'title_year_1956.0',\n",
       " 'title_year_1957.0',\n",
       " 'title_year_1958.0',\n",
       " 'title_year_1959.0',\n",
       " 'title_year_1960.0',\n",
       " 'title_year_1961.0',\n",
       " 'title_year_1962.0',\n",
       " 'title_year_1963.0',\n",
       " 'title_year_1964.0',\n",
       " 'title_year_1965.0',\n",
       " 'title_year_1966.0',\n",
       " 'title_year_1967.0',\n",
       " 'title_year_1968.0',\n",
       " 'title_year_1969.0',\n",
       " 'title_year_1970.0',\n",
       " 'title_year_1971.0',\n",
       " 'title_year_1972.0',\n",
       " 'title_year_1973.0',\n",
       " 'title_year_1974.0',\n",
       " 'title_year_1975.0',\n",
       " 'title_year_1976.0',\n",
       " 'title_year_1977.0',\n",
       " 'title_year_1978.0',\n",
       " 'title_year_1979.0',\n",
       " 'title_year_1980.0',\n",
       " 'title_year_1981.0',\n",
       " 'title_year_1982.0',\n",
       " 'title_year_1983.0',\n",
       " 'title_year_1984.0',\n",
       " 'title_year_1985.0',\n",
       " 'title_year_1986.0',\n",
       " 'title_year_1987.0',\n",
       " 'title_year_1988.0',\n",
       " 'title_year_1989.0',\n",
       " 'title_year_1990.0',\n",
       " 'title_year_1991.0',\n",
       " 'title_year_1992.0',\n",
       " 'title_year_1993.0',\n",
       " 'title_year_1994.0',\n",
       " 'title_year_1995.0',\n",
       " 'title_year_1996.0',\n",
       " 'title_year_1997.0',\n",
       " 'title_year_1998.0',\n",
       " 'title_year_1999.0',\n",
       " 'title_year_2000.0',\n",
       " 'title_year_2001.0',\n",
       " 'title_year_2002.0',\n",
       " 'title_year_2003.0',\n",
       " 'title_year_2004.0',\n",
       " 'title_year_2005.0',\n",
       " 'title_year_2006.0',\n",
       " 'title_year_2007.0',\n",
       " 'title_year_2008.0',\n",
       " 'title_year_2016.0',\n",
       " 'color_Color',\n",
       " 'language_Aboriginal',\n",
       " 'language_Arabic',\n",
       " 'language_Aramaic',\n",
       " 'language_Bosnian',\n",
       " 'language_Cantonese',\n",
       " 'language_Chinese',\n",
       " 'language_Czech',\n",
       " 'language_Danish',\n",
       " 'language_Dari',\n",
       " 'language_Dutch',\n",
       " 'language_Dzongkha',\n",
       " 'language_Filipino',\n",
       " 'language_French',\n",
       " 'language_German',\n",
       " 'language_Greek',\n",
       " 'language_Hebrew',\n",
       " 'language_Hindi',\n",
       " 'language_Hungarian',\n",
       " 'language_Icelandic',\n",
       " 'language_Indonesian',\n",
       " 'language_Italian',\n",
       " 'language_Japanese',\n",
       " 'language_Kannada',\n",
       " 'language_Kazakh',\n",
       " 'language_Korean',\n",
       " 'language_Mandarin',\n",
       " 'language_Maya',\n",
       " 'language_Mongolian',\n",
       " 'language_None',\n",
       " 'language_Norwegian',\n",
       " 'language_Panjabi',\n",
       " 'language_Persian',\n",
       " 'language_Polish',\n",
       " 'language_Portuguese',\n",
       " 'language_Romanian',\n",
       " 'language_Russian',\n",
       " 'language_Slovenian',\n",
       " 'language_Spanish',\n",
       " 'language_Swahili',\n",
       " 'language_Swedish',\n",
       " 'language_Tamil',\n",
       " 'language_Telugu',\n",
       " 'language_Thai',\n",
       " 'language_Urdu',\n",
       " 'language_Vietnamese',\n",
       " 'language_Zulu',\n",
       " 'content_rating_Approved',\n",
       " 'content_rating_G',\n",
       " 'content_rating_GP',\n",
       " 'content_rating_M',\n",
       " 'content_rating_NC-17',\n",
       " 'content_rating_Not Rated',\n",
       " 'content_rating_Passed',\n",
       " 'content_rating_TV-14',\n",
       " 'content_rating_TV-G',\n",
       " 'content_rating_TV-MA',\n",
       " 'content_rating_TV-PG',\n",
       " 'content_rating_TV-Y',\n",
       " 'content_rating_TV-Y7',\n",
       " 'content_rating_Unrated',\n",
       " 'content_rating_X',\n",
       " 'primary_genre_Adventure',\n",
       " 'primary_genre_Animation',\n",
       " 'primary_genre_Family',\n",
       " 'primary_genre_Fantasy',\n",
       " 'primary_genre_Film-Noir',\n",
       " 'primary_genre_Game-Show',\n",
       " 'primary_genre_History',\n",
       " 'primary_genre_Music',\n",
       " 'primary_genre_Musical',\n",
       " 'primary_genre_Mystery',\n",
       " 'primary_genre_Romance',\n",
       " 'primary_genre_Sci-Fi',\n",
       " 'primary_genre_Thriller',\n",
       " 'primary_genre_Western',\n",
       " 'country_Afghanistan',\n",
       " 'country_Argentina',\n",
       " 'country_Aruba',\n",
       " 'country_Australia',\n",
       " 'country_Bahamas',\n",
       " 'country_Belgium',\n",
       " 'country_Brazil',\n",
       " 'country_Bulgaria',\n",
       " 'country_Cambodia',\n",
       " 'country_Cameroon',\n",
       " 'country_Canada',\n",
       " 'country_Chile',\n",
       " 'country_China',\n",
       " 'country_Colombia',\n",
       " 'country_Czech Republic',\n",
       " 'country_Denmark',\n",
       " 'country_Dominican Republic',\n",
       " 'country_Egypt',\n",
       " 'country_Finland',\n",
       " 'country_France',\n",
       " 'country_Georgia',\n",
       " 'country_Germany',\n",
       " 'country_Greece',\n",
       " 'country_Hong Kong',\n",
       " 'country_Hungary',\n",
       " 'country_Iceland',\n",
       " 'country_India',\n",
       " 'country_Indonesia',\n",
       " 'country_Iran',\n",
       " 'country_Ireland',\n",
       " 'country_Israel',\n",
       " 'country_Italy',\n",
       " 'country_Japan',\n",
       " 'country_Kenya',\n",
       " 'country_Kyrgyzstan',\n",
       " 'country_Libya',\n",
       " 'country_Mexico',\n",
       " 'country_Netherlands',\n",
       " 'country_New Line',\n",
       " 'country_New Zealand',\n",
       " 'country_Nigeria',\n",
       " 'country_Norway',\n",
       " 'country_Official site',\n",
       " 'country_Pakistan',\n",
       " 'country_Panama',\n",
       " 'country_Peru',\n",
       " 'country_Philippines',\n",
       " 'country_Poland',\n",
       " 'country_Romania',\n",
       " 'country_Russia',\n",
       " 'country_Slovakia',\n",
       " 'country_Slovenia',\n",
       " 'country_South Africa',\n",
       " 'country_South Korea',\n",
       " 'country_Soviet Union',\n",
       " 'country_Spain',\n",
       " 'country_Sweden',\n",
       " 'country_Switzerland',\n",
       " 'country_Taiwan',\n",
       " 'country_Thailand',\n",
       " 'country_Turkey',\n",
       " 'country_United Arab Emirates',\n",
       " 'country_West Germany']"
      ]
     },
     "execution_count": 91,
     "metadata": {},
     "output_type": "execute_result"
    }
   ],
   "source": [
    "df_lasso_coeff = pd.DataFrame({'Variable': X_train.columns, 'Coefficient': lasso.coef_})\n",
    "\n",
    "print('Insignificant variables obtained from Lasso Regression when alpha is 0.5:')\n",
    "df_lasso_coeff.Variable[df_lasso_coeff.Coefficient == 0].to_list()"
   ]
  },
  {
   "cell_type": "code",
   "execution_count": 92,
   "metadata": {},
   "outputs": [
    {
     "name": "stdout",
     "output_type": "stream",
     "text": [
      "Significant variables obtained from Lasso Regression when alpha is 0.01:\n"
     ]
    },
    {
     "data": {
      "text/plain": [
       "['num_critic_for_reviews',\n",
       " 'duration',\n",
       " 'gross',\n",
       " 'num_voted_users',\n",
       " 'num_user_for_reviews',\n",
       " 'budget',\n",
       " 'aspect_ratio',\n",
       " 'title_year_2009.0',\n",
       " 'title_year_2010.0',\n",
       " 'title_year_2011.0',\n",
       " 'title_year_2012.0',\n",
       " 'title_year_2013.0',\n",
       " 'title_year_2014.0',\n",
       " 'title_year_2015.0',\n",
       " 'color_ Black and White',\n",
       " 'language_English',\n",
       " 'content_rating_PG',\n",
       " 'content_rating_PG-13',\n",
       " 'content_rating_R',\n",
       " 'primary_genre_Action',\n",
       " 'primary_genre_Biography',\n",
       " 'primary_genre_Comedy',\n",
       " 'primary_genre_Crime',\n",
       " 'primary_genre_Documentary',\n",
       " 'primary_genre_Drama',\n",
       " 'primary_genre_Horror',\n",
       " 'country_UK',\n",
       " 'country_USA']"
      ]
     },
     "execution_count": 92,
     "metadata": {},
     "output_type": "execute_result"
    }
   ],
   "source": [
    "print('Significant variables obtained from Lasso Regression when alpha is 0.01:')\n",
    "signi_feat_rfe = df_lasso_coeff.Variable[df_lasso_coeff.Coefficient != 0].to_list()\n",
    "signi_feat_rfe"
   ]
  },
  {
   "cell_type": "markdown",
   "metadata": {},
   "source": [
    "**Interpretation:** Lasso regression method has given us a reduced number of significant variables. We build a new model using only these features."
   ]
  },
  {
   "cell_type": "code",
   "execution_count": 93,
   "metadata": {},
   "outputs": [
    {
     "name": "stdout",
     "output_type": "stream",
     "text": [
      "                            OLS Regression Results                            \n",
      "==============================================================================\n",
      "Dep. Variable:             imdb_score   R-squared:                       0.406\n",
      "Model:                            OLS   Adj. R-squared:                  0.402\n",
      "Method:                 Least Squares   F-statistic:                     97.04\n",
      "Date:                Tue, 23 Feb 2021   Prob (F-statistic):               0.00\n",
      "Time:                        08:34:53   Log-Likelihood:                -5097.3\n",
      "No. Observations:                3996   AIC:                         1.025e+04\n",
      "Df Residuals:                    3967   BIC:                         1.044e+04\n",
      "Df Model:                          28                                         \n",
      "Covariance Type:            nonrobust                                         \n",
      "=============================================================================================\n",
      "                                coef    std err          t      P>|t|      [0.025      0.975]\n",
      "---------------------------------------------------------------------------------------------\n",
      "const                         6.4368      0.104     61.819      0.000       6.233       6.641\n",
      "num_critic_for_reviews        0.0026      0.000     15.054      0.000       0.002       0.003\n",
      "duration                      0.0050      0.001      8.055      0.000       0.004       0.006\n",
      "gross                     -4.932e-10   3.22e-10     -1.530      0.126   -1.13e-09    1.39e-10\n",
      "num_voted_users            3.521e-06   1.84e-07     19.165      0.000    3.16e-06    3.88e-06\n",
      "num_user_for_reviews         -0.0006   6.73e-05     -8.223      0.000      -0.001      -0.000\n",
      "budget                    -9.896e-11   6.84e-11     -1.447      0.148   -2.33e-10    3.51e-11\n",
      "aspect_ratio                  0.0588      0.011      5.388      0.000       0.037       0.080\n",
      "title_year_2009.0             0.0307      0.057      0.539      0.590      -0.081       0.142\n",
      "title_year_2010.0            -0.4197      0.070     -5.983      0.000      -0.557      -0.282\n",
      "title_year_2011.0            -0.6409      0.072     -8.924      0.000      -0.782      -0.500\n",
      "title_year_2012.0            -0.6122      0.072     -8.498      0.000      -0.753      -0.471\n",
      "title_year_2013.0            -0.5301      0.069     -7.704      0.000      -0.665      -0.395\n",
      "title_year_2014.0            -0.4037      0.066     -6.128      0.000      -0.533      -0.275\n",
      "title_year_2015.0            -0.5690      0.070     -8.108      0.000      -0.707      -0.431\n",
      "color_ Black and White        0.3905      0.070      5.618      0.000       0.254       0.527\n",
      "language_English             -0.6669      0.068     -9.791      0.000      -0.800      -0.533\n",
      "content_rating_PG            -0.5376      0.061     -8.855      0.000      -0.657      -0.419\n",
      "content_rating_PG-13         -0.7361      0.056    -13.053      0.000      -0.847      -0.626\n",
      "content_rating_R             -0.4119      0.053     -7.836      0.000      -0.515      -0.309\n",
      "primary_genre_Action         -0.2391      0.049     -4.841      0.000      -0.336      -0.142\n",
      "primary_genre_Biography       0.5527      0.074      7.475      0.000       0.408       0.698\n",
      "primary_genre_Comedy          0.0195      0.049      0.400      0.689      -0.076       0.115\n",
      "primary_genre_Crime           0.2370      0.067      3.525      0.000       0.105       0.369\n",
      "primary_genre_Documentary     1.1508      0.114     10.138      0.000       0.928       1.373\n",
      "primary_genre_Drama           0.3462      0.052      6.717      0.000       0.245       0.447\n",
      "primary_genre_Horror         -0.6230      0.078     -8.024      0.000      -0.775      -0.471\n",
      "country_UK                    0.2791      0.063      4.435      0.000       0.156       0.402\n",
      "country_USA                   0.0057      0.047      0.122      0.903      -0.086       0.098\n",
      "==============================================================================\n",
      "Omnibus:                      644.886   Durbin-Watson:                   2.047\n",
      "Prob(Omnibus):                  0.000   Jarque-Bera (JB):             1629.318\n",
      "Skew:                          -0.893   Prob(JB):                         0.00\n",
      "Kurtosis:                       5.569   Cond. No.                     2.04e+09\n",
      "==============================================================================\n",
      "\n",
      "Warnings:\n",
      "[1] Standard Errors assume that the covariance matrix of the errors is correctly specified.\n",
      "[2] The condition number is large, 2.04e+09. This might indicate that there are\n",
      "strong multicollinearity or other numerical problems.\n"
     ]
    }
   ],
   "source": [
    "X = sm.add_constant(X_train[signi_feat_rfe])\n",
    "MLR_2 = sm.OLS(y_train, X).fit()\n",
    "print(MLR_2.summary())"
   ]
  },
  {
   "cell_type": "code",
   "execution_count": 94,
   "metadata": {},
   "outputs": [
    {
     "name": "stdout",
     "output_type": "stream",
     "text": [
      "RMSE on train set:  0.8665\n",
      "RMSE on test set:  0.8808\n",
      "Difference between RMSE on train and test set:  0.01429999999999998\n"
     ]
    }
   ],
   "source": [
    "train_pred = MLR_2.predict(X)\n",
    "mse_train = mean_squared_error(y_train, train_pred)\n",
    "rmse_train = round(np.sqrt(mse_train), 4)\n",
    "print('RMSE on train set: ', rmse_train)\n",
    "\n",
    "# print training RMSE\n",
    "test_pred = sm.add_constant(X_test[signi_feat_rfe])\n",
    "\n",
    "test_pred = MLR_2.predict(test_pred)\n",
    "mse_test = mean_squared_error(y_test, test_pred)\n",
    "rmse_test = round(np.sqrt(mse_test), 4)\n",
    "\n",
    "print('RMSE on test set: ',rmse_test)\n",
    "\n",
    "# calculate the difference between train and test set RMSE\n",
    "difference = abs(rmse_test - rmse_train)\n",
    "\n",
    "# print the difference between train and test set RMSE\n",
    "print('Difference between RMSE on train and test set: ', difference)"
   ]
  },
  {
   "cell_type": "markdown",
   "metadata": {},
   "source": [
    "**Interpretation:** When we considered all features, the difference between RMSE train and RMSE test was 0.05 and as seen from above result, using regression the difference value has decreased to 0.014."
   ]
  },
  {
   "cell_type": "markdown",
   "metadata": {},
   "source": [
    "# Model Improvement using Grid Search"
   ]
  },
  {
   "cell_type": "markdown",
   "metadata": {},
   "source": [
    "## Lasso Regression"
   ]
  },
  {
   "cell_type": "code",
   "execution_count": 95,
   "metadata": {},
   "outputs": [
    {
     "name": "stdout",
     "output_type": "stream",
     "text": [
      "Best parameters for Lasso Regression:  {'alpha': 0.0001} \n",
      "\n",
      "RMSE on train set:  0.8665\n",
      "RMSE on test set:  0.8807\n",
      "Difference in RMSE in train and test sets: 0.01419999999999999\n"
     ]
    }
   ],
   "source": [
    "tuned_paramaters = [{'alpha':[0.0001, 0.001, 0.01, 0.1, 1, 5, 10]}]\n",
    "                     \n",
    "lasso = Lasso()\n",
    "lasso_grid = GridSearchCV(estimator = lasso, param_grid = tuned_paramaters, cv=10)\n",
    "lasso_grid.fit(X_train[signi_feat_rfe], y_train)\n",
    "\n",
    "print('Best parameters for Lasso Regression: ', lasso_grid.best_params_, '\\n')\n",
    "\n",
    "train_pred = lasso_grid.predict(X_train[signi_feat_rfe])\n",
    "mse_train = mean_squared_error(y_train, train_pred)\n",
    "rmse_train = round(np.sqrt(mse_train), 4)\n",
    "print('RMSE on train set: ', rmse_train)\n",
    "\n",
    "\n",
    "test_pred = lasso_grid.predict(X_test[signi_feat_rfe])\n",
    "mse_test = mean_squared_error(y_test, test_pred)\n",
    "rmse_test = round(np.sqrt(mse_test), 4)\n",
    "\n",
    "print('RMSE on test set: ',rmse_test)\n",
    "print('Difference in RMSE in train and test sets:', abs(rmse_train-rmse_test))"
   ]
  },
  {
   "cell_type": "markdown",
   "metadata": {},
   "source": [
    "**Interpretation:** Using GridSearch we can converge on the most suitable value of alpha(0.0001 in this case) to get the best fit model with significant features using Lasso regression."
   ]
  },
  {
   "cell_type": "markdown",
   "metadata": {},
   "source": [
    "The same can be done using Elastic Net regression aided by Grid Search also."
   ]
  },
  {
   "cell_type": "markdown",
   "metadata": {},
   "source": [
    "## Elastic Net regression"
   ]
  },
  {
   "cell_type": "code",
   "execution_count": 96,
   "metadata": {},
   "outputs": [
    {
     "name": "stdout",
     "output_type": "stream",
     "text": [
      "Best parameters for Elastic Net Regression:  {'alpha': 0.0001, 'l1_ratio': 0.0001} \n",
      "\n",
      "RMSE on train set:  0.8665\n",
      "RMSE on test set:  0.8808\n",
      "Difference in RMSE in train and test sets: 0.01429999999999998\n"
     ]
    }
   ],
   "source": [
    "tuned_paramaters = [{'alpha':[0.0001, 0.001, 0.01, 0.1, 1, 5, 10, 20, 40, 60],\n",
    "                      'l1_ratio':[0.0001, 0.0002, 0.001, 0.01, 0.1, 0.2]}]\n",
    "\n",
    "enet = ElasticNet()\n",
    "\n",
    "enet_grid = GridSearchCV(estimator = enet, \n",
    "                          param_grid = tuned_paramaters, \n",
    "                          cv = 10)\n",
    "\n",
    "enet_grid.fit(X_train[signi_feat_rfe], y_train)\n",
    "\n",
    "# get the best parameters\n",
    "print('Best parameters for Elastic Net Regression: ', enet_grid.best_params_, '\\n')\n",
    "\n",
    "# # print the RMSE for the test set using the model having optimal value of alpha and l1-ratio\n",
    "# print('RMSE on test set:', get_test_rmse(enet_grid))\n",
    "\n",
    "train_pred = enet_grid.predict(X_train[signi_feat_rfe])\n",
    "mse_train = mean_squared_error(y_train, train_pred)\n",
    "rmse_train = round(np.sqrt(mse_train), 4)\n",
    "print('RMSE on train set: ', rmse_train)\n",
    "\n",
    "\n",
    "test_pred = enet_grid.predict(X_test[signi_feat_rfe])\n",
    "mse_test = mean_squared_error(y_test, test_pred)\n",
    "rmse_test = round(np.sqrt(mse_test), 4)\n",
    "\n",
    "print('RMSE on test set: ',rmse_test)\n",
    "print('Difference in RMSE in train and test sets:', abs(rmse_train-rmse_test))"
   ]
  },
  {
   "cell_type": "markdown",
   "metadata": {},
   "source": [
    "**Interpretation:** Using regularization techniques like Lasso and Elastic Net, we have decreased the overfitting caused in our model to give better results for test data."
   ]
  },
  {
   "cell_type": "code",
   "execution_count": 97,
   "metadata": {},
   "outputs": [
    {
     "data": {
      "text/html": [
       "<div>\n",
       "<style scoped>\n",
       "    .dataframe tbody tr th:only-of-type {\n",
       "        vertical-align: middle;\n",
       "    }\n",
       "\n",
       "    .dataframe tbody tr th {\n",
       "        vertical-align: top;\n",
       "    }\n",
       "\n",
       "    .dataframe thead th {\n",
       "        text-align: right;\n",
       "    }\n",
       "</style>\n",
       "<table border=\"1\" class=\"dataframe\">\n",
       "  <thead>\n",
       "    <tr style=\"text-align: right;\">\n",
       "      <th></th>\n",
       "      <th>Model_Name</th>\n",
       "      <th>Alpha</th>\n",
       "      <th>l1-ratio</th>\n",
       "      <th>R-Squared</th>\n",
       "      <th>Adj. R-Squared</th>\n",
       "      <th>Train_RMSE</th>\n",
       "      <th>Test_RMSE</th>\n",
       "      <th>Test_MAPE</th>\n",
       "    </tr>\n",
       "  </thead>\n",
       "  <tbody>\n",
       "    <tr>\n",
       "      <th>0</th>\n",
       "      <td>Simple full OLS model</td>\n",
       "      <td>-</td>\n",
       "      <td>-</td>\n",
       "      <td>0.479434</td>\n",
       "      <td>0.444387</td>\n",
       "      <td>0.8115</td>\n",
       "      <td>8.611000e-01</td>\n",
       "      <td>1.139879e+01</td>\n",
       "    </tr>\n",
       "    <tr>\n",
       "      <th>1</th>\n",
       "      <td>OLS model with significant variables</td>\n",
       "      <td>-</td>\n",
       "      <td>-</td>\n",
       "      <td>0.461188</td>\n",
       "      <td>0.452555</td>\n",
       "      <td>0.8256</td>\n",
       "      <td>8.564000e-01</td>\n",
       "      <td>1.136350e+01</td>\n",
       "    </tr>\n",
       "    <tr>\n",
       "      <th>2</th>\n",
       "      <td>OLS model with non-multicollinear features</td>\n",
       "      <td>-</td>\n",
       "      <td>-</td>\n",
       "      <td>0.462149</td>\n",
       "      <td>0.453253</td>\n",
       "      <td>0.8248</td>\n",
       "      <td>8.538000e-01</td>\n",
       "      <td>1.132630e+01</td>\n",
       "    </tr>\n",
       "    <tr>\n",
       "      <th>3</th>\n",
       "      <td>OLS model scaled(Normalised)</td>\n",
       "      <td>-</td>\n",
       "      <td>-</td>\n",
       "      <td>0.461011</td>\n",
       "      <td>0.452375</td>\n",
       "      <td>0.8257</td>\n",
       "      <td>8.575000e-01</td>\n",
       "      <td>1.137889e+01</td>\n",
       "    </tr>\n",
       "    <tr>\n",
       "      <th>4</th>\n",
       "      <td>Getting significant variables with RFE</td>\n",
       "      <td>-</td>\n",
       "      <td>-</td>\n",
       "      <td>0.230153</td>\n",
       "      <td>0.189582</td>\n",
       "      <td>0.9868</td>\n",
       "      <td>1.329744e+11</td>\n",
       "      <td>8.609846e+10</td>\n",
       "    </tr>\n",
       "    <tr>\n",
       "      <th>5</th>\n",
       "      <td>OLS using ELastic Net Grid Search</td>\n",
       "      <td>-</td>\n",
       "      <td>-</td>\n",
       "      <td>0.406492</td>\n",
       "      <td>0.402303</td>\n",
       "      <td>0.8665</td>\n",
       "      <td>8.808000e-01</td>\n",
       "      <td>1.170185e+01</td>\n",
       "    </tr>\n",
       "  </tbody>\n",
       "</table>\n",
       "</div>"
      ],
      "text/plain": [
       "                                   Model_Name Alpha l1-ratio  R-Squared  \\\n",
       "0                       Simple full OLS model     -        -   0.479434   \n",
       "1        OLS model with significant variables     -        -   0.461188   \n",
       "2  OLS model with non-multicollinear features     -        -   0.462149   \n",
       "3                OLS model scaled(Normalised)     -        -   0.461011   \n",
       "4      Getting significant variables with RFE     -        -   0.230153   \n",
       "5           OLS using ELastic Net Grid Search     -        -   0.406492   \n",
       "\n",
       "   Adj. R-Squared  Train_RMSE     Test_RMSE     Test_MAPE  \n",
       "0        0.444387      0.8115  8.611000e-01  1.139879e+01  \n",
       "1        0.452555      0.8256  8.564000e-01  1.136350e+01  \n",
       "2        0.453253      0.8248  8.538000e-01  1.132630e+01  \n",
       "3        0.452375      0.8257  8.575000e-01  1.137889e+01  \n",
       "4        0.189582      0.9868  1.329744e+11  8.609846e+10  \n",
       "5        0.402303      0.8665  8.808000e-01  1.170185e+01  "
      ]
     },
     "execution_count": 97,
     "metadata": {},
     "output_type": "execute_result"
    }
   ],
   "source": [
    "update_score_card(\"OLS using ELastic Net Grid Search\",enet_grid,X_train[signi_feat_rfe],X_test[signi_feat_rfe])"
   ]
  },
  {
   "cell_type": "markdown",
   "metadata": {},
   "source": [
    "# Thank You"
   ]
  },
  {
   "cell_type": "code",
   "execution_count": null,
   "metadata": {},
   "outputs": [],
   "source": []
  }
 ],
 "metadata": {
  "hide_input": false,
  "kernelspec": {
   "display_name": "Python 3",
   "language": "python",
   "name": "python3"
  },
  "language_info": {
   "codemirror_mode": {
    "name": "ipython",
    "version": 3
   },
   "file_extension": ".py",
   "mimetype": "text/x-python",
   "name": "python",
   "nbconvert_exporter": "python",
   "pygments_lexer": "ipython3",
   "version": "3.7.6"
  }
 },
 "nbformat": 4,
 "nbformat_minor": 2
}
